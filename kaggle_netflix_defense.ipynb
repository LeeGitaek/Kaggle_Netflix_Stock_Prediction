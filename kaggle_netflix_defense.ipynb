{
  "nbformat": 4,
  "nbformat_minor": 0,
  "metadata": {
    "colab": {
      "name": "kaggle_netflix_defense.ipynb",
      "provenance": [],
      "authorship_tag": "ABX9TyMtCwoRGVifv/q268Yp7sUW",
      "include_colab_link": true
    },
    "kernelspec": {
      "name": "python3",
      "display_name": "Python 3"
    },
    "accelerator": "GPU"
  },
  "cells": [
    {
      "cell_type": "markdown",
      "metadata": {
        "id": "view-in-github",
        "colab_type": "text"
      },
      "source": [
        "<a href=\"https://colab.research.google.com/github/LeeGitaek/Kaggle_Netflix_Stock_Prediction/blob/master/kaggle_netflix_defense.ipynb\" target=\"_parent\"><img src=\"https://colab.research.google.com/assets/colab-badge.svg\" alt=\"Open In Colab\"/></a>"
      ]
    },
    {
      "cell_type": "code",
      "metadata": {
        "id": "1mgIGFirA4i1",
        "colab_type": "code",
        "colab": {
          "base_uri": "https://localhost:8080/",
          "height": 522
        },
        "outputId": "6c5c8de6-461e-4497-952f-9b5ca58c3200"
      },
      "source": [
        "!pip uninstall kaggle\n",
        "!pip install --upgrade pip\n",
        "!pip install kaggle==1.5.6"
      ],
      "execution_count": 217,
      "outputs": [
        {
          "output_type": "stream",
          "text": [
            "Found existing installation: kaggle 1.5.6\n",
            "Uninstalling kaggle-1.5.6:\n",
            "  Would remove:\n",
            "    /usr/local/bin/kaggle\n",
            "    /usr/local/lib/python3.6/dist-packages/kaggle-1.5.6.dist-info/*\n",
            "    /usr/local/lib/python3.6/dist-packages/kaggle/*\n",
            "Proceed (y/n)? y\n",
            "  Successfully uninstalled kaggle-1.5.6\n",
            "Requirement already up-to-date: pip in /usr/local/lib/python3.6/dist-packages (20.1.1)\n",
            "Processing /root/.cache/pip/wheels/01/3e/ff/77407ebac3ef71a79b9166a8382aecf88415a0bcbe3c095a01/kaggle-1.5.6-py3-none-any.whl\n",
            "Requirement already satisfied: requests in /usr/local/lib/python3.6/dist-packages (from kaggle==1.5.6) (2.23.0)\n",
            "Requirement already satisfied: certifi in /usr/local/lib/python3.6/dist-packages (from kaggle==1.5.6) (2020.4.5.1)\n",
            "Requirement already satisfied: urllib3<1.25,>=1.21.1 in /usr/local/lib/python3.6/dist-packages (from kaggle==1.5.6) (1.24.3)\n",
            "Requirement already satisfied: python-dateutil in /usr/local/lib/python3.6/dist-packages (from kaggle==1.5.6) (2.8.1)\n",
            "Requirement already satisfied: tqdm in /usr/local/lib/python3.6/dist-packages (from kaggle==1.5.6) (4.41.1)\n",
            "Requirement already satisfied: six>=1.10 in /usr/local/lib/python3.6/dist-packages (from kaggle==1.5.6) (1.12.0)\n",
            "Requirement already satisfied: python-slugify in /usr/local/lib/python3.6/dist-packages (from kaggle==1.5.6) (4.0.0)\n",
            "Requirement already satisfied: chardet<4,>=3.0.2 in /usr/local/lib/python3.6/dist-packages (from requests->kaggle==1.5.6) (3.0.4)\n",
            "Requirement already satisfied: idna<3,>=2.5 in /usr/local/lib/python3.6/dist-packages (from requests->kaggle==1.5.6) (2.9)\n",
            "Requirement already satisfied: text-unidecode>=1.3 in /usr/local/lib/python3.6/dist-packages (from python-slugify->kaggle==1.5.6) (1.3)\n",
            "Installing collected packages: kaggle\n",
            "Successfully installed kaggle-1.5.6\n",
            "Found existing installation: kaggle 1.5.6\n",
            "Uninstalling kaggle-1.5.6:\n",
            "  Would remove:\n",
            "    /usr/local/bin/kaggle\n",
            "    /usr/local/lib/python3.6/dist-packages/kaggle-1.5.6.dist-info/*\n",
            "    /usr/local/lib/python3.6/dist-packages/kaggle/*\n",
            "Proceed (y/n)? "
          ],
          "name": "stdout"
        }
      ]
    },
    {
      "cell_type": "code",
      "metadata": {
        "id": "roXSGLRs5Kvo",
        "colab_type": "code",
        "colab": {
          "base_uri": "https://localhost:8080/",
          "height": 34
        },
        "outputId": "59037f3b-c1a8-4e7d-b53e-d362ea07880b"
      },
      "source": [
        "!mkdir -p ~/.kaggle\n",
        "!cp kaggle.json ~/.kaggle\n",
        "!ls -lha kaggle.json\n",
        "!chmod 600 ~/.kaggle/kaggle.json"
      ],
      "execution_count": 218,
      "outputs": [
        {
          "output_type": "stream",
          "text": [
            "-rw-r--r-- 1 root root 68 Jun 17 13:05 kaggle.json\n"
          ],
          "name": "stdout"
        }
      ]
    },
    {
      "cell_type": "code",
      "metadata": {
        "id": "CdA72b1Q5Nuv",
        "colab_type": "code",
        "colab": {
          "base_uri": "https://localhost:8080/",
          "height": 34
        },
        "outputId": "c4d1d5d1-ea9b-4daa-c27a-27a8fe1b81c8"
      },
      "source": [
        "!kaggle competitions download -c netflix-stock-prediction"
      ],
      "execution_count": 219,
      "outputs": [
        {
          "output_type": "stream",
          "text": [
            "netflix-stock-prediction.zip: Skipping, found more recently modified local copy (use --force to force download)\n"
          ],
          "name": "stdout"
        }
      ]
    },
    {
      "cell_type": "code",
      "metadata": {
        "id": "glpJr2wA5Xa9",
        "colab_type": "code",
        "colab": {
          "base_uri": "https://localhost:8080/",
          "height": 170
        },
        "outputId": "ed1a5992-c318-4d7a-9e26-dab2b9c5a160"
      },
      "source": [
        "!unzip netflix-stock-prediction.zip"
      ],
      "execution_count": 220,
      "outputs": [
        {
          "output_type": "stream",
          "text": [
            "Archive:  netflix-stock-prediction.zip\n",
            "replace sample_submission.csv? [y]es, [n]o, [A]ll, [N]one, [r]ename: y\n",
            "  inflating: sample_submission.csv   \n",
            "replace test.csv? [y]es, [n]o, [A]ll, [N]one, [r]ename: \n",
            "error:  invalid response [{ENTER}]\n",
            "replace test.csv? [y]es, [n]o, [A]ll, [N]one, [r]ename: y\n",
            "  inflating: test.csv                \n",
            "replace train.csv? [y]es, [n]o, [A]ll, [N]one, [r]ename: y\n",
            "  inflating: train.csv               \n"
          ],
          "name": "stdout"
        }
      ]
    },
    {
      "cell_type": "code",
      "metadata": {
        "id": "9k0S2kyd6IMV",
        "colab_type": "code",
        "colab": {
          "base_uri": "https://localhost:8080/",
          "height": 34
        },
        "outputId": "0e0bca74-c184-4d40-a1e6-4ca328859358"
      },
      "source": [
        "import numpy as np \n",
        "import random\n",
        "import pandas as pd \n",
        "import matplotlib.pyplot as plt\n",
        "from pandas import datetime\n",
        "import math, time\n",
        "import itertools\n",
        "from sklearn import preprocessing\n",
        "from sklearn.preprocessing import MinMaxScaler\n",
        "import datetime\n",
        "from operator import itemgetter\n",
        "from sklearn.metrics import mean_squared_error\n",
        "from math import sqrt\n",
        "import torch\n",
        "import torch.nn as nn\n",
        "from torch.autograd import Variable\n",
        "\n",
        "torch.manual_seed(1)"
      ],
      "execution_count": 221,
      "outputs": [
        {
          "output_type": "execute_result",
          "data": {
            "text/plain": [
              "<torch._C.Generator at 0x7f5af2631050>"
            ]
          },
          "metadata": {
            "tags": []
          },
          "execution_count": 221
        }
      ]
    },
    {
      "cell_type": "code",
      "metadata": {
        "id": "vo-nCkM-oOsy",
        "colab_type": "code",
        "colab": {
          "base_uri": "https://localhost:8080/",
          "height": 204
        },
        "outputId": "9a00c088-b403-42c3-a24c-28495cec5006"
      },
      "source": [
        "df_train = pd.read_csv('train.csv',parse_dates=True)\n",
        "df_test = pd.read_csv('test.csv',parse_dates=True)\n",
        "sc = MinMaxScaler()\n",
        "df_train.head()"
      ],
      "execution_count": 222,
      "outputs": [
        {
          "output_type": "execute_result",
          "data": {
            "text/html": [
              "<div>\n",
              "<style scoped>\n",
              "    .dataframe tbody tr th:only-of-type {\n",
              "        vertical-align: middle;\n",
              "    }\n",
              "\n",
              "    .dataframe tbody tr th {\n",
              "        vertical-align: top;\n",
              "    }\n",
              "\n",
              "    .dataframe thead th {\n",
              "        text-align: right;\n",
              "    }\n",
              "</style>\n",
              "<table border=\"1\" class=\"dataframe\">\n",
              "  <thead>\n",
              "    <tr style=\"text-align: right;\">\n",
              "      <th></th>\n",
              "      <th>Date</th>\n",
              "      <th>Open</th>\n",
              "      <th>High</th>\n",
              "      <th>Low</th>\n",
              "      <th>Volume</th>\n",
              "      <th>Close</th>\n",
              "    </tr>\n",
              "  </thead>\n",
              "  <tbody>\n",
              "    <tr>\n",
              "      <th>0</th>\n",
              "      <td>2015-12-16</td>\n",
              "      <td>120</td>\n",
              "      <td>123</td>\n",
              "      <td>118</td>\n",
              "      <td>13181000</td>\n",
              "      <td>123</td>\n",
              "    </tr>\n",
              "    <tr>\n",
              "      <th>1</th>\n",
              "      <td>2015-12-17</td>\n",
              "      <td>124</td>\n",
              "      <td>126</td>\n",
              "      <td>122</td>\n",
              "      <td>17284900</td>\n",
              "      <td>123</td>\n",
              "    </tr>\n",
              "    <tr>\n",
              "      <th>2</th>\n",
              "      <td>2015-12-18</td>\n",
              "      <td>121</td>\n",
              "      <td>122</td>\n",
              "      <td>118</td>\n",
              "      <td>17948100</td>\n",
              "      <td>118</td>\n",
              "    </tr>\n",
              "    <tr>\n",
              "      <th>3</th>\n",
              "      <td>2015-12-21</td>\n",
              "      <td>120</td>\n",
              "      <td>120</td>\n",
              "      <td>116</td>\n",
              "      <td>11670000</td>\n",
              "      <td>117</td>\n",
              "    </tr>\n",
              "    <tr>\n",
              "      <th>4</th>\n",
              "      <td>2015-12-22</td>\n",
              "      <td>117</td>\n",
              "      <td>117</td>\n",
              "      <td>115</td>\n",
              "      <td>9689000</td>\n",
              "      <td>116</td>\n",
              "    </tr>\n",
              "  </tbody>\n",
              "</table>\n",
              "</div>"
            ],
            "text/plain": [
              "         Date  Open  High  Low    Volume  Close\n",
              "0  2015-12-16   120   123  118  13181000    123\n",
              "1  2015-12-17   124   126  122  17284900    123\n",
              "2  2015-12-18   121   122  118  17948100    118\n",
              "3  2015-12-21   120   120  116  11670000    117\n",
              "4  2015-12-22   117   117  115   9689000    116"
            ]
          },
          "metadata": {
            "tags": []
          },
          "execution_count": 222
        }
      ]
    },
    {
      "cell_type": "code",
      "metadata": {
        "id": "U6oQfA5koUnG",
        "colab_type": "code",
        "colab": {
          "base_uri": "https://localhost:8080/",
          "height": 238
        },
        "outputId": "3e0a612c-4af1-44ee-d241-4e651ae2cb0d"
      },
      "source": [
        "df_train.info()"
      ],
      "execution_count": 223,
      "outputs": [
        {
          "output_type": "stream",
          "text": [
            "<class 'pandas.core.frame.DataFrame'>\n",
            "RangeIndex: 967 entries, 0 to 966\n",
            "Data columns (total 6 columns):\n",
            " #   Column  Non-Null Count  Dtype \n",
            "---  ------  --------------  ----- \n",
            " 0   Date    967 non-null    object\n",
            " 1   Open    967 non-null    int64 \n",
            " 2   High    967 non-null    int64 \n",
            " 3   Low     967 non-null    int64 \n",
            " 4   Volume  967 non-null    int64 \n",
            " 5   Close   967 non-null    int64 \n",
            "dtypes: int64(5), object(1)\n",
            "memory usage: 45.5+ KB\n"
          ],
          "name": "stdout"
        }
      ]
    },
    {
      "cell_type": "code",
      "metadata": {
        "id": "h5wfYC86o__W",
        "colab_type": "code",
        "colab": {
          "base_uri": "https://localhost:8080/",
          "height": 454
        },
        "outputId": "5027857d-e78a-4383-fbb8-a957216209dc"
      },
      "source": [
        "import seaborn as sns\n",
        "\n",
        "sns.set_style(\"darkgrid\")\n",
        "plt.figure(figsize = (10,6))\n",
        "plt.plot(df_train[['Close']])\n",
        "plt.xticks(range(0,df_train.shape[0],967),df_train['Date'].loc[::967],rotation=45)\n",
        "plt.title('Netflix Stock Price',fontsize=18, fontweight='bold')\n",
        "plt.xlabel('Date',fontsize=18)\n",
        "plt.ylabel('Close Price (USD)',fontsize=18)\n",
        "plt.show()"
      ],
      "execution_count": 224,
      "outputs": [
        {
          "output_type": "display_data",
          "data": {
            "image/png": "[encoded data removed]",
            "text/plain": [
              "<Figure size 720x432 with 1 Axes>"
            ]
          },
          "metadata": {
            "tags": []
          }
        }
      ]
    },
    {
      "cell_type": "code",
      "metadata": {
        "id": "EWU1GPwMqzCy",
        "colab_type": "code",
        "colab": {
          "base_uri": "https://localhost:8080/",
          "height": 153
        },
        "outputId": "1fe56c00-851b-4fe0-a116-1b65d634ab92"
      },
      "source": [
        "price = df_train[['Close']]\n",
        "price.info()"
      ],
      "execution_count": 225,
      "outputs": [
        {
          "output_type": "stream",
          "text": [
            "<class 'pandas.core.frame.DataFrame'>\n",
            "RangeIndex: 967 entries, 0 to 966\n",
            "Data columns (total 1 columns):\n",
            " #   Column  Non-Null Count  Dtype\n",
            "---  ------  --------------  -----\n",
            " 0   Close   967 non-null    int64\n",
            "dtypes: int64(1)\n",
            "memory usage: 7.7 KB\n"
          ],
          "name": "stdout"
        }
      ]
    },
    {
      "cell_type": "code",
      "metadata": {
        "id": "EeAB0Mstq3-2",
        "colab_type": "code",
        "colab": {
          "base_uri": "https://localhost:8080/",
          "height": 153
        },
        "outputId": "a27eeabd-0a76-4b2b-8f0d-cf70584bdd27"
      },
      "source": [
        "from sklearn.preprocessing import MinMaxScaler\n",
        "\n",
        "scaler = MinMaxScaler(feature_range=(-1, 1))\n",
        "price['Close'] = scaler.fit_transform(price['Close'].values.reshape(-1,1))\n"
      ],
      "execution_count": 226,
      "outputs": [
        {
          "output_type": "stream",
          "text": [
            "/usr/local/lib/python3.6/dist-packages/ipykernel_launcher.py:4: SettingWithCopyWarning:\n",
            "\n",
            "\n",
            "A value is trying to be set on a copy of a slice from a DataFrame.\n",
            "Try using .loc[row_indexer,col_indexer] = value instead\n",
            "\n",
            "See the caveats in the documentation: https://pandas.pydata.org/pandas-docs/stable/user_guide/indexing.html#returning-a-view-versus-a-copy\n",
            "\n"
          ],
          "name": "stderr"
        }
      ]
    },
    {
      "cell_type": "code",
      "metadata": {
        "id": "wOmSXISRqkTI",
        "colab_type": "code",
        "colab": {}
      },
      "source": [
        "def split_data(stock, lookback):\n",
        "    data_raw = stock.to_numpy() # convert to numpy array\n",
        "    data = []\n",
        "    \n",
        "    # create all possible sequences of length seq_len\n",
        "    for index in range(len(data_raw) - lookback): \n",
        "        data.append(data_raw[index: index + lookback])\n",
        "    \n",
        "    data = np.array(data);\n",
        "    test_set_size = int(np.round(0.2*data.shape[0]));\n",
        "    train_set_size = data.shape[0] - (test_set_size);\n",
        "    \n",
        "    x_train = data[:train_set_size,:-1,:]\n",
        "    y_train = data[:train_set_size,-1,:]\n",
        "    \n",
        "    x_test = data[train_set_size:,:-1]\n",
        "    y_test = data[train_set_size:,-1,:]\n",
        "    \n",
        "    return [x_train, y_train, x_test, y_test]"
      ],
      "execution_count": 227,
      "outputs": []
    },
    {
      "cell_type": "code",
      "metadata": {
        "id": "1Vh92WAtqsD_",
        "colab_type": "code",
        "colab": {
          "base_uri": "https://localhost:8080/",
          "height": 85
        },
        "outputId": "a84972dc-1aaa-4cac-8550-d030cf926f6e"
      },
      "source": [
        "lookback = 20 # choose sequence length\n",
        "x_train, y_train, x_test, y_test = split_data(price, lookback)\n",
        "print('x_train.shape = ',x_train.shape)\n",
        "print('y_train.shape = ',y_train.shape)\n",
        "print('x_test.shape = ',x_test.shape)\n",
        "print('y_test.shape = ',y_test.shape)"
      ],
      "execution_count": 228,
      "outputs": [
        {
          "output_type": "stream",
          "text": [
            "x_train.shape =  (758, 19, 1)\n",
            "y_train.shape =  (758, 1)\n",
            "x_test.shape =  (189, 19, 1)\n",
            "y_test.shape =  (189, 1)\n"
          ],
          "name": "stdout"
        }
      ]
    },
    {
      "cell_type": "code",
      "metadata": {
        "id": "d-UBsOpUuatN",
        "colab_type": "code",
        "colab": {
          "base_uri": "https://localhost:8080/",
          "height": 293
        },
        "outputId": "569b41db-6802-41f7-e664-06c88e34754d"
      },
      "source": [
        "df_test['Volume'].plot()"
      ],
      "execution_count": 229,
      "outputs": [
        {
          "output_type": "execute_result",
          "data": {
            "text/plain": [
              "<matplotlib.axes._subplots.AxesSubplot at 0x7f5aebcd0eb8>"
            ]
          },
          "metadata": {
            "tags": []
          },
          "execution_count": 229
        },
        {
          "output_type": "display_data",
          "data": {
            "image/png": "[encoded data removed]",
            "text/plain": [
              "<Figure size 432x288 with 1 Axes>"
            ]
          },
          "metadata": {
            "tags": []
          }
        }
      ]
    },
    {
      "cell_type": "code",
      "metadata": {
        "id": "F8HaMokwaOaE",
        "colab_type": "code",
        "colab": {}
      },
      "source": [
        "x_train = torch.from_numpy(x_train).type(torch.Tensor)\n",
        "x_test = torch.from_numpy(x_test).type(torch.Tensor)\n",
        "y_train_lstm = torch.from_numpy(y_train).type(torch.Tensor)\n",
        "y_test_lstm = torch.from_numpy(y_test).type(torch.Tensor)\n",
        "y_train_gru = torch.from_numpy(y_train).type(torch.Tensor)\n",
        "y_test_gru = torch.from_numpy(y_test).type(torch.Tensor)"
      ],
      "execution_count": 230,
      "outputs": []
    },
    {
      "cell_type": "code",
      "metadata": {
        "id": "MqOzRo_JdlPG",
        "colab_type": "code",
        "colab": {}
      },
      "source": [
        "input_dim = 1\n",
        "hidden_dim = 36\n",
        "num_layers = 2\n",
        "output_dim = 1\n",
        "num_epochs = 100"
      ],
      "execution_count": 231,
      "outputs": []
    },
    {
      "cell_type": "code",
      "metadata": {
        "id": "AkYwhXCmr3gj",
        "colab_type": "code",
        "colab": {}
      },
      "source": [
        "class LSTM(nn.Module):\n",
        "    def __init__(self, input_dim, hidden_dim, num_layers, output_dim):\n",
        "        super(LSTM, self).__init__()\n",
        "        self.hidden_dim = hidden_dim\n",
        "        self.num_layers = num_layers\n",
        "        \n",
        "        self.lstm = nn.LSTM(input_dim, hidden_dim, num_layers, batch_first=True,dropout=0.3)\n",
        "        self.fc = nn.Linear(hidden_dim, output_dim)\n",
        "\n",
        "    def forward(self, x):\n",
        "        h0 = torch.zeros(self.num_layers, x.size(0), self.hidden_dim).requires_grad_()\n",
        "        c0 = torch.zeros(self.num_layers, x.size(0), self.hidden_dim).requires_grad_()\n",
        "        out, (hn, cn) = self.lstm(x, (h0.detach(), c0.detach()))\n",
        "        out = self.fc(out[:, -1, :]) \n",
        "        return out"
      ],
      "execution_count": 232,
      "outputs": []
    },
    {
      "cell_type": "code",
      "metadata": {
        "id": "ni7B2lrIr7b2",
        "colab_type": "code",
        "colab": {}
      },
      "source": [
        "model = LSTM(input_dim=input_dim, hidden_dim=hidden_dim, output_dim=output_dim, num_layers=num_layers)\n",
        "criterion = torch.nn.MSELoss(reduction='mean')\n",
        "optimiser = torch.optim.Adam(model.parameters(), lr=0.001)"
      ],
      "execution_count": 233,
      "outputs": []
    },
    {
      "cell_type": "code",
      "metadata": {
        "id": "Wf9kD2PEr_KL",
        "colab_type": "code",
        "colab": {
          "base_uri": "https://localhost:8080/",
          "height": 1000
        },
        "outputId": "4d20962e-dc98-4af7-e2b2-4cf62f61199f"
      },
      "source": [
        "import time\n",
        "\n",
        "hist = np.zeros(num_epochs)\n",
        "start_time = time.time()\n",
        "lstm = []\n",
        "\n",
        "for t in range(num_epochs):\n",
        "    y_train_pred = model(x_train)\n",
        "\n",
        "    loss = criterion(y_train_pred, y_train_lstm)\n",
        "    print(\"Epoch \", t, \"MSE: \", loss.item())\n",
        "    hist[t] = loss.item()\n",
        "\n",
        "    optimiser.zero_grad()\n",
        "    loss.backward()\n",
        "    optimiser.step()\n",
        "    \n",
        "training_time = time.time()-start_time\n",
        "print(\"Training time: {}\".format(training_time))"
      ],
      "execution_count": 234,
      "outputs": [
        {
          "output_type": "stream",
          "text": [
            "Epoch  0 MSE:  0.5211817622184753\n",
            "Epoch  1 MSE:  0.5074238181114197\n",
            "Epoch  2 MSE:  0.49422839283943176\n",
            "Epoch  3 MSE:  0.48092567920684814\n",
            "Epoch  4 MSE:  0.46832984685897827\n",
            "Epoch  5 MSE:  0.4557032585144043\n",
            "Epoch  6 MSE:  0.4421101212501526\n",
            "Epoch  7 MSE:  0.4281618595123291\n",
            "Epoch  8 MSE:  0.4141049087047577\n",
            "Epoch  9 MSE:  0.39990246295928955\n",
            "Epoch  10 MSE:  0.3854033648967743\n",
            "Epoch  11 MSE:  0.3694615364074707\n",
            "Epoch  12 MSE:  0.3543016016483307\n",
            "Epoch  13 MSE:  0.33701446652412415\n",
            "Epoch  14 MSE:  0.3196917474269867\n",
            "Epoch  15 MSE:  0.30268988013267517\n",
            "Epoch  16 MSE:  0.28561776876449585\n",
            "Epoch  17 MSE:  0.2683698236942291\n",
            "Epoch  18 MSE:  0.25463664531707764\n",
            "Epoch  19 MSE:  0.24515442550182343\n",
            "Epoch  20 MSE:  0.23704500496387482\n",
            "Epoch  21 MSE:  0.23421689867973328\n",
            "Epoch  22 MSE:  0.23477338254451752\n",
            "Epoch  23 MSE:  0.2328183650970459\n",
            "Epoch  24 MSE:  0.22480762004852295\n",
            "Epoch  25 MSE:  0.21323853731155396\n",
            "Epoch  26 MSE:  0.19888432323932648\n",
            "Epoch  27 MSE:  0.18352846801280975\n",
            "Epoch  28 MSE:  0.16946077346801758\n",
            "Epoch  29 MSE:  0.1562764048576355\n",
            "Epoch  30 MSE:  0.1445801556110382\n",
            "Epoch  31 MSE:  0.13412119448184967\n",
            "Epoch  32 MSE:  0.12467233836650848\n",
            "Epoch  33 MSE:  0.11458943784236908\n",
            "Epoch  34 MSE:  0.10398772358894348\n",
            "Epoch  35 MSE:  0.09438090771436691\n",
            "Epoch  36 MSE:  0.08497848361730576\n",
            "Epoch  37 MSE:  0.07766325771808624\n",
            "Epoch  38 MSE:  0.07259438186883926\n",
            "Epoch  39 MSE:  0.06855344772338867\n",
            "Epoch  40 MSE:  0.06474883109331131\n",
            "Epoch  41 MSE:  0.06010860577225685\n",
            "Epoch  42 MSE:  0.0550960898399353\n",
            "Epoch  43 MSE:  0.05211013928055763\n",
            "Epoch  44 MSE:  0.05061258748173714\n",
            "Epoch  45 MSE:  0.049430131912231445\n",
            "Epoch  46 MSE:  0.04828917607665062\n",
            "Epoch  47 MSE:  0.04597976803779602\n",
            "Epoch  48 MSE:  0.044750481843948364\n",
            "Epoch  49 MSE:  0.04236777499318123\n",
            "Epoch  50 MSE:  0.041991982609033585\n",
            "Epoch  51 MSE:  0.041490618139505386\n",
            "Epoch  52 MSE:  0.03996898978948593\n",
            "Epoch  53 MSE:  0.03885161504149437\n",
            "Epoch  54 MSE:  0.03677073121070862\n",
            "Epoch  55 MSE:  0.03468550369143486\n",
            "Epoch  56 MSE:  0.03343416750431061\n",
            "Epoch  57 MSE:  0.03174484521150589\n",
            "Epoch  58 MSE:  0.03053114004433155\n",
            "Epoch  59 MSE:  0.02806505560874939\n",
            "Epoch  60 MSE:  0.02585737407207489\n",
            "Epoch  61 MSE:  0.024870850145816803\n",
            "Epoch  62 MSE:  0.023079343140125275\n",
            "Epoch  63 MSE:  0.021500300616025925\n",
            "Epoch  64 MSE:  0.019699446856975555\n",
            "Epoch  65 MSE:  0.01873571239411831\n",
            "Epoch  66 MSE:  0.017424555495381355\n",
            "Epoch  67 MSE:  0.016802864149212837\n",
            "Epoch  68 MSE:  0.015711065381765366\n",
            "Epoch  69 MSE:  0.015245125629007816\n",
            "Epoch  70 MSE:  0.014916343614459038\n",
            "Epoch  71 MSE:  0.014188884757459164\n",
            "Epoch  72 MSE:  0.013458700850605965\n",
            "Epoch  73 MSE:  0.013390644453465939\n",
            "Epoch  74 MSE:  0.013241589069366455\n",
            "Epoch  75 MSE:  0.013252243399620056\n",
            "Epoch  76 MSE:  0.013668942265212536\n",
            "Epoch  77 MSE:  0.013774440623819828\n",
            "Epoch  78 MSE:  0.013589411973953247\n",
            "Epoch  79 MSE:  0.013752575032413006\n",
            "Epoch  80 MSE:  0.013618435710668564\n",
            "Epoch  81 MSE:  0.013053679838776588\n",
            "Epoch  82 MSE:  0.013610833324491978\n",
            "Epoch  83 MSE:  0.013051539659500122\n",
            "Epoch  84 MSE:  0.013034342788159847\n",
            "Epoch  85 MSE:  0.0125446617603302\n",
            "Epoch  86 MSE:  0.012573901563882828\n",
            "Epoch  87 MSE:  0.012346207164227962\n",
            "Epoch  88 MSE:  0.011767028830945492\n",
            "Epoch  89 MSE:  0.011742250993847847\n",
            "Epoch  90 MSE:  0.011258100159466267\n",
            "Epoch  91 MSE:  0.011322741396725178\n",
            "Epoch  92 MSE:  0.01112463977187872\n",
            "Epoch  93 MSE:  0.010977587662637234\n",
            "Epoch  94 MSE:  0.010991541668772697\n",
            "Epoch  95 MSE:  0.010969112627208233\n",
            "Epoch  96 MSE:  0.010565808974206448\n",
            "Epoch  97 MSE:  0.010346474125981331\n",
            "Epoch  98 MSE:  0.010405024513602257\n",
            "Epoch  99 MSE:  0.010481429286301136\n",
            "Training time: 11.589766263961792\n"
          ],
          "name": "stdout"
        }
      ]
    },
    {
      "cell_type": "code",
      "metadata": {
        "id": "Tw1YiyaNsF50",
        "colab_type": "code",
        "colab": {}
      },
      "source": [
        "predict = pd.DataFrame(scaler.inverse_transform(y_train_pred.detach().numpy()))\n",
        "original = pd.DataFrame(scaler.inverse_transform(y_train_lstm.detach().numpy()))"
      ],
      "execution_count": 235,
      "outputs": []
    },
    {
      "cell_type": "code",
      "metadata": {
        "id": "byd8r-m_sJOS",
        "colab_type": "code",
        "colab": {
          "base_uri": "https://localhost:8080/",
          "height": 409
        },
        "outputId": "421e87b3-bc28-47c9-b2ea-778dd0deec6e"
      },
      "source": [
        "import seaborn as sns\n",
        "sns.set_style(\"darkgrid\")    \n",
        "\n",
        "fig = plt.figure()\n",
        "fig.subplots_adjust(hspace=0.2, wspace=0.2)\n",
        "\n",
        "plt.subplot(1, 2, 1)\n",
        "ax = sns.lineplot(x = original.index, y = original[0], label=\"Data\", color='royalblue')\n",
        "ax = sns.lineplot(x = predict.index, y = predict[0], label=\"Training Prediction (LSTM)\", color='tomato')\n",
        "ax.set_title('Stock price', size = 14, fontweight='bold')\n",
        "ax.set_xlabel(\"Days\", size = 14)\n",
        "ax.set_ylabel(\"Cost (USD)\", size = 14)\n",
        "ax.set_xticklabels('', size=10)\n",
        "\n",
        "\n",
        "plt.subplot(1, 2, 2)\n",
        "ax = sns.lineplot(data=hist, color='royalblue')\n",
        "ax.set_xlabel(\"Epoch\", size = 14)\n",
        "ax.set_ylabel(\"Loss\", size = 14)\n",
        "ax.set_title(\"Training Loss\", size = 14, fontweight='bold')\n",
        "fig.set_figheight(6)\n",
        "fig.set_figwidth(16)"
      ],
      "execution_count": 236,
      "outputs": [
        {
          "output_type": "display_data",
          "data": {
            "image/png": "[encoded data removed]",
            "text/plain": [
              "<Figure size 1152x432 with 2 Axes>"
            ]
          },
          "metadata": {
            "tags": []
          }
        }
      ]
    },
    {
      "cell_type": "code",
      "metadata": {
        "id": "JrKyZ4MKsPtJ",
        "colab_type": "code",
        "colab": {
          "base_uri": "https://localhost:8080/",
          "height": 51
        },
        "outputId": "85615750-6f4e-4e7e-818d-98fe5900bd22"
      },
      "source": [
        "import math, time\n",
        "from sklearn.metrics import mean_squared_error\n",
        "model.eval()\n",
        "# make predictions\n",
        "y_test_pred = model(x_test)\n",
        "\n",
        "# invert predictions\n",
        "y_train_pred = scaler.inverse_transform(y_train_pred.detach().numpy())\n",
        "y_train = scaler.inverse_transform(y_train_lstm.detach().numpy())\n",
        "y_test_pred = scaler.inverse_transform(y_test_pred.detach().numpy())\n",
        "y_test = scaler.inverse_transform(y_test_lstm.detach().numpy())\n",
        "\n",
        "# calculate root mean squared error\n",
        "trainScore = math.sqrt(mean_squared_error(y_train[:,0], y_train_pred[:,0]))\n",
        "print('Train Score: %.2f RMSE' % (trainScore))\n",
        "testScore = math.sqrt(mean_squared_error(y_test[:,0], y_test_pred[:,0]))\n",
        "print('Test Score: %.2f RMSE' % (testScore))\n",
        "lstm.append(trainScore)\n",
        "lstm.append(testScore)\n",
        "lstm.append(training_time)"
      ],
      "execution_count": 237,
      "outputs": [
        {
          "output_type": "stream",
          "text": [
            "Train Score: 17.20 RMSE\n",
            "Test Score: 19.18 RMSE\n"
          ],
          "name": "stdout"
        }
      ]
    },
    {
      "cell_type": "code",
      "metadata": {
        "id": "krh3-nL3sVaG",
        "colab_type": "code",
        "colab": {}
      },
      "source": [
        "trainPredictPlot = np.empty_like(price)\n",
        "trainPredictPlot[:, :] = np.nan\n",
        "trainPredictPlot[lookback:len(y_train_pred)+lookback, :] = y_train_pred\n",
        "\n",
        "# shift test predictions for plotting\n",
        "testPredictPlot = np.empty_like(price)\n",
        "testPredictPlot[:, :] = np.nan\n",
        "testPredictPlot[len(y_train_pred)+lookback-1:len(price)-1, :] = y_test_pred\n",
        "\n",
        "original = scaler.inverse_transform(price['Close'].values.reshape(-1,1))\n",
        "\n",
        "predictions = np.append(trainPredictPlot, testPredictPlot, axis=1)\n",
        "predictions = np.append(predictions, original, axis=1)\n",
        "result = pd.DataFrame(predictions)"
      ],
      "execution_count": 238,
      "outputs": []
    },
    {
      "cell_type": "code",
      "metadata": {
        "id": "i_RvhC6lsbla",
        "colab_type": "code",
        "colab": {
          "base_uri": "https://localhost:8080/",
          "height": 542
        },
        "outputId": "cb0c30e8-0664-4518-fdf4-ee039911052a"
      },
      "source": [
        "import plotly.graph_objects as go\n",
        "\n",
        "fig = go.Figure()\n",
        "fig.add_trace(go.Scatter(go.Scatter(x=result.index, y=result[0],\n",
        "                    mode='lines',\n",
        "                    name='Train prediction')))\n",
        "fig.add_trace(go.Scatter(x=result.index, y=result[1],\n",
        "                    mode='lines',\n",
        "                    name='Test prediction'))\n",
        "fig.add_trace(go.Scatter(go.Scatter(x=result.index, y=result[2],\n",
        "                    mode='lines',\n",
        "                    name='Actual Value')))\n",
        "fig.update_layout(\n",
        "    xaxis=dict(\n",
        "        showline=True,\n",
        "        showgrid=True,\n",
        "        showticklabels=False,\n",
        "        linecolor='white',\n",
        "        linewidth=2\n",
        "    ),\n",
        "    yaxis=dict(\n",
        "        title_text='Close (USD)',\n",
        "        titlefont=dict(\n",
        "            family='Rockwell',\n",
        "            size=12,\n",
        "            color='white',\n",
        "        ),\n",
        "        showline=True,\n",
        "        showgrid=True,\n",
        "        showticklabels=True,\n",
        "        linecolor='white',\n",
        "        linewidth=2,\n",
        "        ticks='outside',\n",
        "        tickfont=dict(\n",
        "            family='Rockwell',\n",
        "            size=12,\n",
        "            color='white',\n",
        "        ),\n",
        "    ),\n",
        "    showlegend=True,\n",
        "    template = 'plotly_dark'\n",
        "\n",
        ")\n",
        "\n",
        "\n",
        "\n",
        "annotations = []\n",
        "annotations.append(dict(xref='paper', yref='paper', x=0.0, y=1.05,\n",
        "                              xanchor='left', yanchor='bottom',\n",
        "                              text='Results (LSTM)',\n",
        "                              font=dict(family='Rockwell',\n",
        "                                        size=26,\n",
        "                                        color='white'),\n",
        "                              showarrow=False))\n",
        "fig.update_layout(annotations=annotations)\n",
        "\n",
        "fig.show()"
      ],
      "execution_count": 239,
      "outputs": [
        {
          "output_type": "display_data",
          "data": {
            "text/html": [
              "<html>\n",
              "<head><meta charset=\"utf-8\" /></head>\n",
              "<body>\n",
              "    <div>\n",
              "            <script src=\"https://cdnjs.cloudflare.com/ajax/libs/mathjax/2.7.5/MathJax.js?config=TeX-AMS-MML_SVG\"></script><script type=\"text/javascript\">if (window.MathJax) {MathJax.Hub.Config({SVG: {font: \"STIX-Web\"}});}</script>\n",
              "                <script type=\"text/javascript\">window.PlotlyConfig = {MathJaxConfig: 'local'};</script>\n",
              "        <script src=\"https://cdn.plot.ly/plotly-latest.min.js\"></script>    \n",
              "            <div id=\"4d563429-efc4-48e7-b47e-47381ff775ce\" class=\"plotly-graph-div\" style=\"height:525px; width:100%;\"></div>\n",
              "            <script type=\"text/javascript\">\n",
              "                \n",
              "                    window.PLOTLYENV=window.PLOTLYENV || {};\n",
              "                    \n",
              "                if (document.getElementById(\"4d563429-efc4-48e7-b47e-47381ff775ce\")) {\n",
              "                    Plotly.newPlot(\n",
              "                        '4d563429-efc4-48e7-b47e-47381ff775ce',\n",
              "                        [{\"mode\": \"lines\", \"name\": \"Train prediction\", \"type\": \"scatter\", \"x\": [0, 1, 2, 3, 4, 5, 6, 7, 8, 9, 10, 11, 12, 13, 14, 15, 16, 17, 18, 19, 20, 21, 22, 23, 24, 25, 26, 27, 28, 29, 30, 31, 32, 33, 34, 35, 36, 37, 38, 39, 40, 41, 42, 43, 44, 45, 46, 47, 48, 49, 50, 51, 52, 53, 54, 55, 56, 57, 58, 59, 60, 61, 62, 63, 64, 65, 66, 67, 68, 69, 70, 71, 72, 73, 74, 75, 76, 77, 78, 79, 80, 81, 82, 83, 84, 85, 86, 87, 88, 89, 90, 91, 92, 93, 94, 95, 96, 97, 98, 99, 100, 101, 102, 103, 104, 105, 106, 107, 108, 109, 110, 111, 112, 113, 114, 115, 116, 117, 118, 119, 120, 121, 122, 123, 124, 125, 126, 127, 128, 129, 130, 131, 132, 133, 134, 135, 136, 137, 138, 139, 140, 141, 142, 143, 144, 145, 146, 147, 148, 149, 150, 151, 152, 153, 154, 155, 156, 157, 158, 159, 160, 161, 162, 163, 164, 165, 166, 167, 168, 169, 170, 171, 172, 173, 174, 175, 176, 177, 178, 179, 180, 181, 182, 183, 184, 185, 186, 187, 188, 189, 190, 191, 192, 193, 194, 195, 196, 197, 198, 199, 200, 201, 202, 203, 204, 205, 206, 207, 208, 209, 210, 211, 212, 213, 214, 215, 216, 217, 218, 219, 220, 221, 222, 223, 224, 225, 226, 227, 228, 229, 230, 231, 232, 233, 234, 235, 236, 237, 238, 239, 240, 241, 242, 243, 244, 245, 246, 247, 248, 249, 250, 251, 252, 253, 254, 255, 256, 257, 258, 259, 260, 261, 262, 263, 264, 265, 266, 267, 268, 269, 270, 271, 272, 273, 274, 275, 276, 277, 278, 279, 280, 281, 282, 283, 284, 285, 286, 287, 288, 289, 290, 291, 292, 293, 294, 295, 296, 297, 298, 299, 300, 301, 302, 303, 304, 305, 306, 307, 308, 309, 310, 311, 312, 313, 314, 315, 316, 317, 318, 319, 320, 321, 322, 323, 324, 325, 326, 327, 328, 329, 330, 331, 332, 333, 334, 335, 336, 337, 338, 339, 340, 341, 342, 343, 344, 345, 346, 347, 348, 349, 350, 351, 352, 353, 354, 355, 356, 357, 358, 359, 360, 361, 362, 363, 364, 365, 366, 367, 368, 369, 370, 371, 372, 373, 374, 375, 376, 377, 378, 379, 380, 381, 382, 383, 384, 385, 386, 387, 388, 389, 390, 391, 392, 393, 394, 395, 396, 397, 398, 399, 400, 401, 402, 403, 404, 405, 406, 407, 408, 409, 410, 411, 412, 413, 414, 415, 416, 417, 418, 419, 420, 421, 422, 423, 424, 425, 426, 427, 428, 429, 430, 431, 432, 433, 434, 435, 436, 437, 438, 439, 440, 441, 442, 443, 444, 445, 446, 447, 448, 449, 450, 451, 452, 453, 454, 455, 456, 457, 458, 459, 460, 461, 462, 463, 464, 465, 466, 467, 468, 469, 470, 471, 472, 473, 474, 475, 476, 477, 478, 479, 480, 481, 482, 483, 484, 485, 486, 487, 488, 489, 490, 491, 492, 493, 494, 495, 496, 497, 498, 499, 500, 501, 502, 503, 504, 505, 506, 507, 508, 509, 510, 511, 512, 513, 514, 515, 516, 517, 518, 519, 520, 521, 522, 523, 524, 525, 526, 527, 528, 529, 530, 531, 532, 533, 534, 535, 536, 537, 538, 539, 540, 541, 542, 543, 544, 545, 546, 547, 548, 549, 550, 551, 552, 553, 554, 555, 556, 557, 558, 559, 560, 561, 562, 563, 564, 565, 566, 567, 568, 569, 570, 571, 572, 573, 574, 575, 576, 577, 578, 579, 580, 581, 582, 583, 584, 585, 586, 587, 588, 589, 590, 591, 592, 593, 594, 595, 596, 597, 598, 599, 600, 601, 602, 603, 604, 605, 606, 607, 608, 609, 610, 611, 612, 613, 614, 615, 616, 617, 618, 619, 620, 621, 622, 623, 624, 625, 626, 627, 628, 629, 630, 631, 632, 633, 634, 635, 636, 637, 638, 639, 640, 641, 642, 643, 644, 645, 646, 647, 648, 649, 650, 651, 652, 653, 654, 655, 656, 657, 658, 659, 660, 661, 662, 663, 664, 665, 666, 667, 668, 669, 670, 671, 672, 673, 674, 675, 676, 677, 678, 679, 680, 681, 682, 683, 684, 685, 686, 687, 688, 689, 690, 691, 692, 693, 694, 695, 696, 697, 698, 699, 700, 701, 702, 703, 704, 705, 706, 707, 708, 709, 710, 711, 712, 713, 714, 715, 716, 717, 718, 719, 720, 721, 722, 723, 724, 725, 726, 727, 728, 729, 730, 731, 732, 733, 734, 735, 736, 737, 738, 739, 740, 741, 742, 743, 744, 745, 746, 747, 748, 749, 750, 751, 752, 753, 754, 755, 756, 757, 758, 759, 760, 761, 762, 763, 764, 765, 766, 767, 768, 769, 770, 771, 772, 773, 774, 775, 776, 777, 778, 779, 780, 781, 782, 783, 784, 785, 786, 787, 788, 789, 790, 791, 792, 793, 794, 795, 796, 797, 798, 799, 800, 801, 802, 803, 804, 805, 806, 807, 808, 809, 810, 811, 812, 813, 814, 815, 816, 817, 818, 819, 820, 821, 822, 823, 824, 825, 826, 827, 828, 829, 830, 831, 832, 833, 834, 835, 836, 837, 838, 839, 840, 841, 842, 843, 844, 845, 846, 847, 848, 849, 850, 851, 852, 853, 854, 855, 856, 857, 858, 859, 860, 861, 862, 863, 864, 865, 866, 867, 868, 869, 870, 871, 872, 873, 874, 875, 876, 877, 878, 879, 880, 881, 882, 883, 884, 885, 886, 887, 888, 889, 890, 891, 892, 893, 894, 895, 896, 897, 898, 899, 900, 901, 902, 903, 904, 905, 906, 907, 908, 909, 910, 911, 912, 913, 914, 915, 916, 917, 918, 919, 920, 921, 922, 923, 924, 925, 926, 927, 928, 929, 930, 931, 932, 933, 934, 935, 936, 937, 938, 939, 940, 941, 942, 943, 944, 945, 946, 947, 948, 949, 950, 951, 952, 953, 954, 955, 956, 957, 958, 959, 960, 961, 962, 963, 964, 965, 966], \"y\": [null, null, null, null, null, null, null, null, null, null, null, null, null, null, null, null, null, null, null, null, 115.11449432373047, 128.1996612548828, 115.01470184326172, 109.68151092529297, 120.38516235351562, 111.46268463134766, 108.93702697753906, 101.47660064697266, 104.51806640625, 102.9592514038086, 107.9477310180664, 108.22090911865234, 110.37096405029297, 101.79206848144531, 92.03601837158203, 98.81254577636719, 103.4719467163086, 111.11554718017578, 101.03881072998047, 93.13911437988281, 108.68345642089844, 112.51517486572266, 92.55596160888672, 100.55703735351562, 90.22212219238281, 96.13899993896484, 100.73200988769531, 87.69635009765625, 111.46117401123047, 106.98717498779297, 93.94873046875, 105.24490356445312, 96.84967041015625, 98.44697570800781, 92.07465362548828, 107.8918685913086, 110.00548553466797, 104.39460754394531, 103.38493347167969, 108.86399841308594, 104.5351791381836, 104.57599639892578, 111.9149398803711, 106.73216247558594, 105.6084976196289, 116.12266540527344, 103.98682403564453, 105.87468719482422, 98.37837982177734, 107.52107238769531, 104.06674194335938, 110.48197174072266, 98.23336029052734, 107.37428283691406, 114.60921478271484, 104.45491790771484, 108.1248779296875, 113.47210693359375, 104.19782257080078, 111.95170593261719, 119.2773208618164, 102.89039611816406, 119.54093933105469, 109.5655288696289, 118.90035247802734, 113.49929809570312, 99.01586151123047, 118.82124328613281, 112.35840606689453, 100.75702667236328, 103.62972259521484, 107.02461242675781, 100.416259765625, 108.32470703125, 111.33277130126953, 104.47535705566406, 102.07100677490234, 107.75279235839844, 95.21156311035156, 101.09009552001953, 94.76327514648438, 99.05093383789062, 108.08068084716797, 96.5914535522461, 101.20923614501953, 102.22734069824219, 107.31495666503906, 98.47038269042969, 97.68329620361328, 96.60807800292969, 98.47845458984375, 102.84968566894531, 96.78816223144531, 104.7212905883789, 110.12387084960938, 95.83499145507812, 100.68248748779297, 101.96939086914062, 107.2280502319336, 109.37161254882812, 121.06343841552734, 100.15997314453125, 110.22439575195312, 105.29850769042969, 113.34319305419922, 97.85973358154297, 105.85736083984375, 94.92736053466797, 109.58699798583984, 112.28244018554688, 101.12059783935547, 106.00016784667969, 117.0327377319336, 101.49290466308594, 106.93138122558594, 90.33070373535156, 110.35115051269531, 97.45789337158203, 100.6705093383789, 95.67477416992188, 103.871826171875, 118.31497955322266, 100.5292739868164, 87.65571594238281, 105.21723175048828, 90.85423278808594, 97.04879760742188, 97.46536254882812, 109.88267517089844, 103.18211364746094, 92.1059341430664, 105.06094360351562, 107.90438079833984, 96.06023406982422, 98.18329620361328, 102.62548065185547, 110.3958740234375, 112.21669006347656, 96.69527435302734, 92.56521606445312, 105.29135131835938, 104.85566711425781, 115.79322814941406, 110.95515441894531, 98.54544830322266, 108.86197662353516, 94.75019836425781, 112.95186614990234, 115.68195343017578, 94.15677642822266, 111.79463195800781, 97.68685913085938, 95.50244140625, 106.22916412353516, 107.53995513916016, 114.92591857910156, 112.61845397949219, 102.57424926757812, 107.27688598632812, 93.80367279052734, 98.36998748779297, 105.88349151611328, 108.35391235351562, 101.2317123413086, 110.61353302001953, 97.82100677490234, 95.77578735351562, 109.25578308105469, 104.03318786621094, 109.71294403076172, 102.71119689941406, 108.50936126708984, 115.99514770507812, 103.20158386230469, 105.33354187011719, 98.8988037109375, 102.6618881225586, 104.44820404052734, 110.09078216552734, 103.13152313232422, 102.64398193359375, 108.62849426269531, 110.72974395751953, 104.53069305419922, 107.9062728881836, 99.27305603027344, 106.94190979003906, 112.54293060302734, 101.37185668945312, 91.01313018798828, 110.93145751953125, 121.32550048828125, 112.8580551147461, 109.88826751708984, 111.10087585449219, 112.54097747802734, 115.44859313964844, 123.03111267089844, 106.51600646972656, 109.45401763916016, 114.40779876708984, 119.96755981445312, 113.82354736328125, 124.35588836669922, 118.54891204833984, 114.74412536621094, 124.48323059082031, 116.65089416503906, 127.11466217041016, 120.26564025878906, 117.29324340820312, 133.79393005371094, 122.81612396240234, 119.27686309814453, 133.8460235595703, 118.69751739501953, 137.07965087890625, 114.78056335449219, 131.90335083007812, 114.85003662109375, 127.5458755493164, 112.31177520751953, 110.27691650390625, 116.20677185058594, 114.1808090209961, 117.559814453125, 128.2637481689453, 120.84447479248047, 110.19335174560547, 111.30923461914062, 121.0822982788086, 122.03321838378906, 117.5173568725586, 108.01548767089844, 108.59113311767578, 110.66470336914062, 125.8167495727539, 119.00971221923828, 128.44314575195312, 115.04366302490234, 120.11082458496094, 130.06936645507812, 130.7593994140625, 118.93572235107422, 128.27003479003906, 115.4104995727539, 129.84373474121094, 112.04280090332031, 126.6716537475586, 125.62891387939453, 132.79608154296875, 134.98695373535156, 114.0273208618164, 122.36975860595703, 119.48530578613281, 133.6795196533203, 134.69374084472656, 131.26307678222656, 126.15142822265625, 126.32910919189453, 129.18798828125, 128.5239715576172, 134.330078125, 138.01873779296875, 132.6114044189453, 141.93515014648438, 131.21359252929688, 134.7138214111328, 130.63511657714844, 127.40211486816406, 136.56057739257812, 134.94166564941406, 132.96841430664062, 137.17782592773438, 140.3428497314453, 150.7395477294922, 132.2911376953125, 137.98123168945312, 127.2152099609375, 135.46359252929688, 131.7030792236328, 140.3175048828125, 136.40353393554688, 136.35235595703125, 136.5418243408203, 153.72174072265625, 126.34051513671875, 143.36758422851562, 127.68433380126953, 145.55636596679688, 133.05703735351562, 132.258544921875, 135.24429321289062, 146.57826232910156, 129.4094696044922, 149.27659606933594, 136.3617706298828, 135.89617919921875, 141.88351440429688, 126.97372436523438, 128.7960205078125, 140.25631713867188, 137.62159729003906, 124.9297866821289, 133.45530700683594, 132.53390502929688, 128.585693359375, 134.07278442382812, 139.2359161376953, 142.29568481445312, 139.20252990722656, 149.88880920410156, 145.3849334716797, 137.88067626953125, 123.14788818359375, 145.5630645751953, 133.47718811035156, 128.79183959960938, 136.13331604003906, 132.7164764404297, 141.28839111328125, 126.88196563720703, 143.44757080078125, 144.3336181640625, 140.7208251953125, 145.60040283203125, 143.61741638183594, 141.77684020996094, 144.15667724609375, 154.9979705810547, 146.56893920898438, 157.02049255371094, 160.27923583984375, 150.555419921875, 149.20272827148438, 139.7895965576172, 145.08108520507812, 145.00050354003906, 152.0901336669922, 156.8001251220703, 151.3301544189453, 152.3992919921875, 143.02920532226562, 143.58273315429688, 166.16583251953125, 151.8130340576172, 153.2640380859375, 155.96881103515625, 156.90158081054688, 160.51197814941406, 151.308349609375, 152.9015655517578, 156.5364990234375, 159.42599487304688, 150.94273376464844, 160.08013916015625, 150.1231689453125, 164.09555053710938, 135.5736083984375, 153.04025268554688, 150.8006591796875, 153.5146484375, 150.50738525390625, 153.46670532226562, 139.8704376220703, 150.80638122558594, 151.67257690429688, 142.8256378173828, 152.43382263183594, 159.76199340820312, 151.74290466308594, 152.85910034179688, 148.11964416503906, 144.13482666015625, 142.7799530029297, 144.13893127441406, 142.68809509277344, 145.73193359375, 137.126953125, 149.02560424804688, 156.85389709472656, 142.75439453125, 165.07994079589844, 152.1946258544922, 162.825439453125, 159.18008422851562, 166.81271362304688, 169.75521850585938, 165.4698028564453, 174.95130920410156, 175.12977600097656, 181.97955322265625, 179.58238220214844, 182.91954040527344, 181.1116943359375, 180.73851013183594, 174.96261596679688, 184.19058227539062, 174.38018798828125, 178.6192626953125, 186.1053466796875, 176.65992736816406, 174.89393615722656, 176.9068603515625, 167.31272888183594, 168.0440673828125, 183.34580993652344, 169.38143920898438, 161.93492126464844, 167.01551818847656, 165.76368713378906, 157.22506713867188, 166.05111694335938, 168.9584197998047, 169.12428283691406, 167.94024658203125, 162.41810607910156, 168.3959503173828, 173.5545196533203, 170.3633270263672, 182.12391662597656, 174.52911376953125, 174.01223754882812, 170.28309631347656, 172.6550750732422, 178.8832244873047, 185.2522735595703, 177.74964904785156, 182.1548309326172, 184.41741943359375, 187.0467071533203, 182.20626831054688, 181.6896209716797, 175.8911590576172, 177.7055206298828, 182.7313232421875, 176.62567138671875, 184.8682403564453, 182.4874267578125, 189.78872680664062, 187.15538024902344, 188.82640075683594, 192.52593994140625, 191.55001831054688, 204.07862854003906, 188.74331665039062, 201.7467498779297, 197.54342651367188, 203.67942810058594, 198.6646728515625, 193.13302612304688, 199.62843322753906, 195.72923278808594, 199.976806640625, 197.6940155029297, 200.12911987304688, 201.65000915527344, 207.39283752441406, 195.8472900390625, 197.09689331054688, 206.16131591796875, 206.99404907226562, 200.7101593017578, 191.9095458984375, 204.2528839111328, 206.0806884765625, 194.45477294921875, 195.88217163085938, 201.58558654785156, 194.23403930664062, 200.7073516845703, 202.9166717529297, 194.14712524414062, 202.12261962890625, 198.5502166748047, 198.95339965820312, 198.01858520507812, 199.4139404296875, 200.89028930664062, 192.12020874023438, 190.12013244628906, 195.70729064941406, 194.02569580078125, 190.37066650390625, 191.39505004882812, 189.92819213867188, 195.6256103515625, 188.6356658935547, 193.25991821289062, 189.48147583007812, 188.33828735351562, 195.63519287109375, 187.02735900878906, 186.64389038085938, 186.67633056640625, 192.5536651611328, 192.3997344970703, 196.011962890625, 191.82666015625, 196.07095336914062, 198.19139099121094, 204.4296112060547, 204.3778076171875, 210.45616149902344, 211.69970703125, 211.426513671875, 214.78948974609375, 213.77755737304688, 218.03048706054688, 223.8529815673828, 229.45274353027344, 231.94154357910156, 236.64016723632812, 240.7483367919922, 250.9092559814453, 259.5111999511719, 265.77191162109375, 264.2427978515625, 273.7184143066406, 278.2330322265625, 282.1281433105469, 282.2095642089844, 280.2377014160156, 280.0374450683594, 284.481201171875, 280.7432556152344, 279.8092041015625, 283.5301513671875, 282.36846923828125, 289.6742248535156, 284.7955627441406, 287.490966796875, 287.5306701660156, 286.0350646972656, 293.6702880859375, 297.3465881347656, 298.36822509765625, 298.61541748046875, 306.7403869628906, 308.0941162109375, 308.68927001953125, 306.4712219238281, 309.846923828125, 311.236572265625, 319.22503662109375, 319.6527404785156, 321.8389892578125, 317.40509033203125, 319.937255859375, 320.5762939453125, 317.33837890625, 328.2401428222656, 322.58184814453125, 324.1944580078125, 325.19061279296875, 326.6719055175781, 322.92645263671875, 320.3787536621094, 311.49969482421875, 312.63922119140625, 314.8953857421875, 315.5169982910156, 310.9960021972656, 311.3579406738281, 314.88873291015625, 309.3826904296875, 316.2684326171875, 311.9657897949219, 317.66888427734375, 318.3757629394531, 321.9406433105469, 327.5711975097656, 326.5333557128906, 319.9360656738281, 318.69854736328125, 330.0363464355469, 331.48248291015625, 324.37646484375, 324.9828796386719, 331.60723876953125, 318.9847412109375, 322.0028076171875, 327.572509765625, 321.3089294433594, 330.14166259765625, 328.55767822265625, 334.8292236328125, 332.6532287597656, 330.9305419921875, 314.1078796386719, 331.6510925292969, 331.6327209472656, 334.79693603515625, 327.88134765625, 327.9908752441406, 329.5370178222656, 331.1274108886719, 341.2120666503906, 325.1335144042969, 341.5282897949219, 342.7702331542969, 340.5256042480469, 347.9757080078125, 336.2881774902344, 343.6013488769531, 341.85113525390625, 338.23223876953125, 342.3302001953125, 344.16387939453125, 354.46148681640625, 345.3988342285156, 352.0509948730469, 351.53070068359375, 347.5402526855469, 360.43292236328125, 355.75360107421875, 353.3486022949219, 353.5804748535156, 364.5545654296875, 362.01983642578125, 361.8542175292969, 358.1831970214844, 352.8234558105469, 348.8529968261719, 357.49664306640625, 366.8069763183594, 365.6759948730469, 353.92437744140625, 367.7098388671875, 357.9640808105469, 356.03369140625, 353.06201171875, 355.7708435058594, 363.088134765625, 350.62042236328125, 365.72271728515625, 361.06939697265625, 352.84014892578125, 358.31927490234375, 343.90887451171875, 354.3768310546875, 350.9916076660156, 344.899658203125, 340.33355712890625, 345.9488830566406, 348.6842956542969, 345.55596923828125, 341.093994140625, 339.9955749511719, 336.0548400878906, 338.7124328613281, 342.40966796875, 347.2635192871094, 341.6541442871094, 336.4097900390625, 335.8502502441406, 337.40350341796875, 337.6839599609375, 336.6639099121094, 332.1930236816406, 332.04522705078125, 339.361328125, 342.5235595703125, 336.8609619140625, 350.5753173828125, 343.6893615722656, 338.53594970703125, 345.88507080078125, 342.57379150390625, 337.5929870605469, 341.7352600097656, 339.8521423339844, 339.1067810058594, 341.8548583984375, 339.98992919921875, 346.47705078125, 352.83123779296875, 350.2205810546875, 352.57958984375, 336.9964599609375, 350.14886474609375, 341.72369384765625, 336.29058837890625, 345.1042175292969, 345.561279296875, 346.985107421875, 345.2476501464844, 358.9720764160156, 350.4198303222656, 353.125732421875, 355.4985656738281, 345.2693176269531, 340.4765930175781, 344.2459411621094, 342.46063232421875, 334.43707275390625, 338.5624694824219, 335.6151428222656, 339.2080383300781, 341.9053649902344, 336.26177978515625, 342.1528625488281, 337.35784912109375, 337.08563232421875, 326.37347412109375, 320.26019287109375, 328.1968078613281, 327.9758605957031, 318.9747314453125, 320.3756103515625, 326.09674072265625, 326.07080078125, 314.5546875, 316.46661376953125, 324.1566162109375, 320.69097900390625, 317.83184814453125, 323.4941711425781, 321.147705078125, 310.15667724609375, 309.0361022949219, 307.2413635253906, 301.8388366699219, 302.2385559082031, 304.19781494140625, 297.3121032714844, 299.12127685546875, 297.3231201171875, 293.3736267089844, 301.84088134765625, 304.3154602050781, 298.04052734375, 299.55963134765625, 299.9716796875, 294.2016296386719, 291.5333251953125, 298.0155334472656, 294.0735168457031, 293.054931640625, 296.9299621582031, 290.60150146484375, 287.50543212890625, 289.8796691894531, 289.5088195800781, 282.0835876464844, 285.2732849121094, 283.21905517578125, 281.953857421875, 279.0902099609375, 282.8234558105469, 290.466552734375, 293.981689453125, 298.3513488769531, 301.90985107421875, 309.40869140625, 309.21917724609375, 323.60882568359375, 322.6177978515625, null, null, null, null, null, null, null, null, null, null, null, null, null, null, null, null, null, null, null, null, null, null, null, null, null, null, null, null, null, null, null, null, null, null, null, null, null, null, null, null, null, null, null, null, null, null, null, null, null, null, null, null, null, null, null, null, null, null, null, null, null, null, null, null, null, null, null, null, null, null, null, null, null, null, null, null, null, null, null, null, null, null, null, null, null, null, null, null, null, null, null, null, null, null, null, null, null, null, null, null, null, null, null, null, null, null, null, null, null, null, null, null, null, null, null, null, null, null, null, null, null, null, null, null, null, null, null, null, null, null, null, null, null, null, null, null, null, null, null, null, null, null, null, null, null, null, null, null, null, null, null, null, null, null, null, null, null, null, null, null, null, null, null, null, null, null, null, null, null, null, null, null, null, null, null, null, null, null, null, null, null, null, null, null, null, null, null, null, null]}, {\"mode\": \"lines\", \"name\": \"Test prediction\", \"type\": \"scatter\", \"x\": [0, 1, 2, 3, 4, 5, 6, 7, 8, 9, 10, 11, 12, 13, 14, 15, 16, 17, 18, 19, 20, 21, 22, 23, 24, 25, 26, 27, 28, 29, 30, 31, 32, 33, 34, 35, 36, 37, 38, 39, 40, 41, 42, 43, 44, 45, 46, 47, 48, 49, 50, 51, 52, 53, 54, 55, 56, 57, 58, 59, 60, 61, 62, 63, 64, 65, 66, 67, 68, 69, 70, 71, 72, 73, 74, 75, 76, 77, 78, 79, 80, 81, 82, 83, 84, 85, 86, 87, 88, 89, 90, 91, 92, 93, 94, 95, 96, 97, 98, 99, 100, 101, 102, 103, 104, 105, 106, 107, 108, 109, 110, 111, 112, 113, 114, 115, 116, 117, 118, 119, 120, 121, 122, 123, 124, 125, 126, 127, 128, 129, 130, 131, 132, 133, 134, 135, 136, 137, 138, 139, 140, 141, 142, 143, 144, 145, 146, 147, 148, 149, 150, 151, 152, 153, 154, 155, 156, 157, 158, 159, 160, 161, 162, 163, 164, 165, 166, 167, 168, 169, 170, 171, 172, 173, 174, 175, 176, 177, 178, 179, 180, 181, 182, 183, 184, 185, 186, 187, 188, 189, 190, 191, 192, 193, 194, 195, 196, 197, 198, 199, 200, 201, 202, 203, 204, 205, 206, 207, 208, 209, 210, 211, 212, 213, 214, 215, 216, 217, 218, 219, 220, 221, 222, 223, 224, 225, 226, 227, 228, 229, 230, 231, 232, 233, 234, 235, 236, 237, 238, 239, 240, 241, 242, 243, 244, 245, 246, 247, 248, 249, 250, 251, 252, 253, 254, 255, 256, 257, 258, 259, 260, 261, 262, 263, 264, 265, 266, 267, 268, 269, 270, 271, 272, 273, 274, 275, 276, 277, 278, 279, 280, 281, 282, 283, 284, 285, 286, 287, 288, 289, 290, 291, 292, 293, 294, 295, 296, 297, 298, 299, 300, 301, 302, 303, 304, 305, 306, 307, 308, 309, 310, 311, 312, 313, 314, 315, 316, 317, 318, 319, 320, 321, 322, 323, 324, 325, 326, 327, 328, 329, 330, 331, 332, 333, 334, 335, 336, 337, 338, 339, 340, 341, 342, 343, 344, 345, 346, 347, 348, 349, 350, 351, 352, 353, 354, 355, 356, 357, 358, 359, 360, 361, 362, 363, 364, 365, 366, 367, 368, 369, 370, 371, 372, 373, 374, 375, 376, 377, 378, 379, 380, 381, 382, 383, 384, 385, 386, 387, 388, 389, 390, 391, 392, 393, 394, 395, 396, 397, 398, 399, 400, 401, 402, 403, 404, 405, 406, 407, 408, 409, 410, 411, 412, 413, 414, 415, 416, 417, 418, 419, 420, 421, 422, 423, 424, 425, 426, 427, 428, 429, 430, 431, 432, 433, 434, 435, 436, 437, 438, 439, 440, 441, 442, 443, 444, 445, 446, 447, 448, 449, 450, 451, 452, 453, 454, 455, 456, 457, 458, 459, 460, 461, 462, 463, 464, 465, 466, 467, 468, 469, 470, 471, 472, 473, 474, 475, 476, 477, 478, 479, 480, 481, 482, 483, 484, 485, 486, 487, 488, 489, 490, 491, 492, 493, 494, 495, 496, 497, 498, 499, 500, 501, 502, 503, 504, 505, 506, 507, 508, 509, 510, 511, 512, 513, 514, 515, 516, 517, 518, 519, 520, 521, 522, 523, 524, 525, 526, 527, 528, 529, 530, 531, 532, 533, 534, 535, 536, 537, 538, 539, 540, 541, 542, 543, 544, 545, 546, 547, 548, 549, 550, 551, 552, 553, 554, 555, 556, 557, 558, 559, 560, 561, 562, 563, 564, 565, 566, 567, 568, 569, 570, 571, 572, 573, 574, 575, 576, 577, 578, 579, 580, 581, 582, 583, 584, 585, 586, 587, 588, 589, 590, 591, 592, 593, 594, 595, 596, 597, 598, 599, 600, 601, 602, 603, 604, 605, 606, 607, 608, 609, 610, 611, 612, 613, 614, 615, 616, 617, 618, 619, 620, 621, 622, 623, 624, 625, 626, 627, 628, 629, 630, 631, 632, 633, 634, 635, 636, 637, 638, 639, 640, 641, 642, 643, 644, 645, 646, 647, 648, 649, 650, 651, 652, 653, 654, 655, 656, 657, 658, 659, 660, 661, 662, 663, 664, 665, 666, 667, 668, 669, 670, 671, 672, 673, 674, 675, 676, 677, 678, 679, 680, 681, 682, 683, 684, 685, 686, 687, 688, 689, 690, 691, 692, 693, 694, 695, 696, 697, 698, 699, 700, 701, 702, 703, 704, 705, 706, 707, 708, 709, 710, 711, 712, 713, 714, 715, 716, 717, 718, 719, 720, 721, 722, 723, 724, 725, 726, 727, 728, 729, 730, 731, 732, 733, 734, 735, 736, 737, 738, 739, 740, 741, 742, 743, 744, 745, 746, 747, 748, 749, 750, 751, 752, 753, 754, 755, 756, 757, 758, 759, 760, 761, 762, 763, 764, 765, 766, 767, 768, 769, 770, 771, 772, 773, 774, 775, 776, 777, 778, 779, 780, 781, 782, 783, 784, 785, 786, 787, 788, 789, 790, 791, 792, 793, 794, 795, 796, 797, 798, 799, 800, 801, 802, 803, 804, 805, 806, 807, 808, 809, 810, 811, 812, 813, 814, 815, 816, 817, 818, 819, 820, 821, 822, 823, 824, 825, 826, 827, 828, 829, 830, 831, 832, 833, 834, 835, 836, 837, 838, 839, 840, 841, 842, 843, 844, 845, 846, 847, 848, 849, 850, 851, 852, 853, 854, 855, 856, 857, 858, 859, 860, 861, 862, 863, 864, 865, 866, 867, 868, 869, 870, 871, 872, 873, 874, 875, 876, 877, 878, 879, 880, 881, 882, 883, 884, 885, 886, 887, 888, 889, 890, 891, 892, 893, 894, 895, 896, 897, 898, 899, 900, 901, 902, 903, 904, 905, 906, 907, 908, 909, 910, 911, 912, 913, 914, 915, 916, 917, 918, 919, 920, 921, 922, 923, 924, 925, 926, 927, 928, 929, 930, 931, 932, 933, 934, 935, 936, 937, 938, 939, 940, 941, 942, 943, 944, 945, 946, 947, 948, 949, 950, 951, 952, 953, 954, 955, 956, 957, 958, 959, 960, 961, 962, 963, 964, 965, 966], \"y\": [null, null, null, null, null, null, null, null, null, null, null, null, null, null, null, null, null, null, null, null, null, null, null, null, null, null, null, null, null, null, null, null, null, null, null, null, null, null, null, null, null, null, null, null, null, null, null, null, null, null, null, null, null, null, null, null, null, null, null, null, null, null, null, null, null, null, null, null, null, null, null, null, null, null, null, null, null, null, null, null, null, null, null, null, null, null, null, null, null, null, null, null, null, null, null, null, null, null, null, null, null, null, null, null, null, null, null, null, null, null, null, null, null, null, null, null, null, null, null, null, null, null, null, null, null, null, null, null, null, null, null, null, null, null, null, null, null, null, null, null, null, null, null, null, null, null, null, null, null, null, null, null, null, null, null, null, null, null, null, null, null, null, null, null, null, null, null, null, null, null, null, null, null, null, null, null, null, null, null, null, null, null, null, null, null, null, null, null, null, null, null, null, null, null, null, null, null, null, null, null, null, null, null, null, null, null, null, null, null, null, null, null, null, null, null, null, null, null, null, null, null, null, null, null, null, null, null, null, null, null, null, null, null, null, null, null, null, null, null, null, null, null, null, null, null, null, null, null, null, null, null, null, null, null, null, null, null, null, null, null, null, null, null, null, null, null, null, null, null, null, null, null, null, null, null, null, null, null, null, null, null, null, null, null, null, null, null, null, null, null, null, null, null, null, null, null, null, null, null, null, null, null, null, null, null, null, null, null, null, null, null, null, null, null, null, null, null, null, null, null, null, null, null, null, null, null, null, null, null, null, null, null, null, null, null, null, null, null, null, null, null, null, null, null, null, null, null, null, null, null, null, null, null, null, null, null, null, null, null, null, null, null, null, null, null, null, null, null, null, null, null, null, null, null, null, null, null, null, null, null, null, null, null, null, null, null, null, null, null, null, null, null, null, null, null, null, null, null, null, null, null, null, null, null, null, null, null, null, null, null, null, null, null, null, null, null, null, null, null, null, null, null, null, null, null, null, null, null, null, null, null, null, null, null, null, null, null, null, null, null, null, null, null, null, null, null, null, null, null, null, null, null, null, null, null, null, null, null, null, null, null, null, null, null, null, null, null, null, null, null, null, null, null, null, null, null, null, null, null, null, null, null, null, null, null, null, null, null, null, null, null, null, null, null, null, null, null, null, null, null, null, null, null, null, null, null, null, null, null, null, null, null, null, null, null, null, null, null, null, null, null, null, null, null, null, null, null, null, null, null, null, null, null, null, null, null, null, null, null, null, null, null, null, null, null, null, null, null, null, null, null, null, null, null, null, null, null, null, null, null, null, null, null, null, null, null, null, null, null, null, null, null, null, null, null, null, null, null, null, null, null, null, null, null, null, null, null, null, null, null, null, null, null, null, null, null, null, null, null, null, null, null, null, null, null, null, null, null, null, null, null, null, null, null, null, null, null, null, null, null, null, null, null, null, null, null, null, null, null, null, null, null, null, null, null, null, null, null, null, null, null, null, null, null, null, null, null, null, null, null, null, null, null, null, null, null, null, null, null, null, null, null, null, null, null, null, null, null, null, null, null, null, null, null, null, null, null, null, null, null, null, null, null, null, null, null, null, null, null, null, null, null, null, null, null, null, null, null, null, null, null, null, null, null, null, null, null, null, null, null, null, null, null, null, null, null, null, null, null, null, null, null, null, null, null, null, null, null, null, null, null, null, null, null, null, null, null, null, null, null, null, null, null, null, null, null, null, null, null, null, null, null, null, null, null, null, null, null, null, null, null, null, null, null, null, null, null, null, null, null, null, null, null, null, null, null, null, 324.0991516113281, 327.29998779296875, 329.40716552734375, 330.7215881347656, 331.52398681640625, 332.4584045410156, 333.3203430175781, 333.7802429199219, 334.4620666503906, 335.1450500488281, 335.66180419921875, 336.4323425292969, 337.4599304199219, 338.4270935058594, 339.0565185546875, 339.53656005859375, 339.8985595703125, 340.517333984375, 341.02923583984375, 341.66668701171875, 342.322021484375, 343.1242980957031, 343.85296630859375, 344.3782043457031, 344.922607421875, 345.4977722167969, 346.0998229980469, 346.5503845214844, 346.7813415527344, 346.86175537109375, 346.64111328125, 346.38818359375, 346.3385009765625, 346.1898193359375, 345.89190673828125, 345.8302001953125, 345.7318115234375, 345.83721923828125, 345.9274597167969, 346.09027099609375, 346.3139343261719, 346.4486389160156, 347.0190734863281, 347.8009338378906, 348.1418762207031, 348.4121398925781, 348.4568176269531, 348.20123291015625, 347.87274169921875, 347.60382080078125, 347.6527099609375, 347.8562927246094, 348.2178039550781, 348.5678405761719, 348.7675476074219, 348.7967224121094, 348.83905029296875, 348.8668518066406, 348.9923400878906, 348.6499938964844, 348.07537841796875, 347.658203125, 347.23370361328125, 347.05401611328125, 347.4547424316406, 348.2657470703125, 348.9942932128906, 349.4513244628906, 349.9516296386719, 350.3135986328125, 350.5751953125, 350.9927978515625, 351.455810546875, 352.0810852050781, 352.5733947753906, 352.7069091796875, 352.5130310058594, 352.1363220214844, 351.69989013671875, 350.77203369140625, 349.66619873046875, 348.8349609375, 348.2745666503906, 347.68353271484375, 346.9561767578125, 346.433349609375, 346.2254943847656, 345.90130615234375, 345.6355895996094, 345.4410095214844, 345.07794189453125, 344.76849365234375, 344.19903564453125, 343.3880920410156, 343.036376953125, 343.0147399902344, 343.1781311035156, 343.55328369140625, 343.7854309082031, 343.87060546875, 343.68963623046875, 343.30267333984375, 342.77117919921875, 342.5614929199219, 342.6636657714844, 343.1164855957031, 343.7814636230469, 344.6015930175781, 345.4989929199219, 346.06884765625, 346.4889831542969, 347.08294677734375, 347.6228332519531, 348.26397705078125, 348.9230041503906, 349.74761962890625, 350.5443115234375, 351.1738586425781, 351.78289794921875, 352.3764953613281, 352.891357421875, 353.1436767578125, 353.05303955078125, 352.7823181152344, 352.31719970703125, 350.722900390625, 348.3634033203125, 345.60205078125, 342.671142578125, 340.13616943359375, 338.1775817871094, 336.9918212890625, 336.12908935546875, 335.2686767578125, 334.3364562988281, 333.3371276855469, 332.3416442871094, 330.9765930175781, 329.5706481933594, 327.9958190917969, 326.8900146484375, 325.8299560546875, 324.91839599609375, 324.192138671875, 323.31475830078125, 322.2221984863281, 321.32672119140625, 320.8170471191406, 320.0674743652344, 319.1893310546875, 318.21636962890625, 317.06036376953125, 316.0594177246094, 315.0201416015625, 314.0628967285156, 313.396240234375, 312.8700256347656, 312.18206787109375, 311.6175842285156, 311.0736389160156, 310.5513916015625, 310.18743896484375, 309.6807556152344, 309.22955322265625, 308.8298645019531, 308.61663818359375, 308.50347900390625, 308.7711486816406, 308.8977966308594, 308.7410583496094, 307.8082580566406, 306.21331787109375, 303.8901062011719, 301.661376953125, 299.44976806640625, 297.39959716796875, 295.784423828125, 294.52239990234375, 293.43768310546875, 292.5389404296875, 291.9580993652344, 291.7120361328125, 291.4916687011719, 291.1488952636719, 291.2545471191406, 291.7747802734375, 292.5906982421875, 293.5596618652344, 294.6689147949219, null]}, {\"mode\": \"lines\", \"name\": \"Actual Value\", \"type\": \"scatter\", \"x\": [0, 1, 2, 3, 4, 5, 6, 7, 8, 9, 10, 11, 12, 13, 14, 15, 16, 17, 18, 19, 20, 21, 22, 23, 24, 25, 26, 27, 28, 29, 30, 31, 32, 33, 34, 35, 36, 37, 38, 39, 40, 41, 42, 43, 44, 45, 46, 47, 48, 49, 50, 51, 52, 53, 54, 55, 56, 57, 58, 59, 60, 61, 62, 63, 64, 65, 66, 67, 68, 69, 70, 71, 72, 73, 74, 75, 76, 77, 78, 79, 80, 81, 82, 83, 84, 85, 86, 87, 88, 89, 90, 91, 92, 93, 94, 95, 96, 97, 98, 99, 100, 101, 102, 103, 104, 105, 106, 107, 108, 109, 110, 111, 112, 113, 114, 115, 116, 117, 118, 119, 120, 121, 122, 123, 124, 125, 126, 127, 128, 129, 130, 131, 132, 133, 134, 135, 136, 137, 138, 139, 140, 141, 142, 143, 144, 145, 146, 147, 148, 149, 150, 151, 152, 153, 154, 155, 156, 157, 158, 159, 160, 161, 162, 163, 164, 165, 166, 167, 168, 169, 170, 171, 172, 173, 174, 175, 176, 177, 178, 179, 180, 181, 182, 183, 184, 185, 186, 187, 188, 189, 190, 191, 192, 193, 194, 195, 196, 197, 198, 199, 200, 201, 202, 203, 204, 205, 206, 207, 208, 209, 210, 211, 212, 213, 214, 215, 216, 217, 218, 219, 220, 221, 222, 223, 224, 225, 226, 227, 228, 229, 230, 231, 232, 233, 234, 235, 236, 237, 238, 239, 240, 241, 242, 243, 244, 245, 246, 247, 248, 249, 250, 251, 252, 253, 254, 255, 256, 257, 258, 259, 260, 261, 262, 263, 264, 265, 266, 267, 268, 269, 270, 271, 272, 273, 274, 275, 276, 277, 278, 279, 280, 281, 282, 283, 284, 285, 286, 287, 288, 289, 290, 291, 292, 293, 294, 295, 296, 297, 298, 299, 300, 301, 302, 303, 304, 305, 306, 307, 308, 309, 310, 311, 312, 313, 314, 315, 316, 317, 318, 319, 320, 321, 322, 323, 324, 325, 326, 327, 328, 329, 330, 331, 332, 333, 334, 335, 336, 337, 338, 339, 340, 341, 342, 343, 344, 345, 346, 347, 348, 349, 350, 351, 352, 353, 354, 355, 356, 357, 358, 359, 360, 361, 362, 363, 364, 365, 366, 367, 368, 369, 370, 371, 372, 373, 374, 375, 376, 377, 378, 379, 380, 381, 382, 383, 384, 385, 386, 387, 388, 389, 390, 391, 392, 393, 394, 395, 396, 397, 398, 399, 400, 401, 402, 403, 404, 405, 406, 407, 408, 409, 410, 411, 412, 413, 414, 415, 416, 417, 418, 419, 420, 421, 422, 423, 424, 425, 426, 427, 428, 429, 430, 431, 432, 433, 434, 435, 436, 437, 438, 439, 440, 441, 442, 443, 444, 445, 446, 447, 448, 449, 450, 451, 452, 453, 454, 455, 456, 457, 458, 459, 460, 461, 462, 463, 464, 465, 466, 467, 468, 469, 470, 471, 472, 473, 474, 475, 476, 477, 478, 479, 480, 481, 482, 483, 484, 485, 486, 487, 488, 489, 490, 491, 492, 493, 494, 495, 496, 497, 498, 499, 500, 501, 502, 503, 504, 505, 506, 507, 508, 509, 510, 511, 512, 513, 514, 515, 516, 517, 518, 519, 520, 521, 522, 523, 524, 525, 526, 527, 528, 529, 530, 531, 532, 533, 534, 535, 536, 537, 538, 539, 540, 541, 542, 543, 544, 545, 546, 547, 548, 549, 550, 551, 552, 553, 554, 555, 556, 557, 558, 559, 560, 561, 562, 563, 564, 565, 566, 567, 568, 569, 570, 571, 572, 573, 574, 575, 576, 577, 578, 579, 580, 581, 582, 583, 584, 585, 586, 587, 588, 589, 590, 591, 592, 593, 594, 595, 596, 597, 598, 599, 600, 601, 602, 603, 604, 605, 606, 607, 608, 609, 610, 611, 612, 613, 614, 615, 616, 617, 618, 619, 620, 621, 622, 623, 624, 625, 626, 627, 628, 629, 630, 631, 632, 633, 634, 635, 636, 637, 638, 639, 640, 641, 642, 643, 644, 645, 646, 647, 648, 649, 650, 651, 652, 653, 654, 655, 656, 657, 658, 659, 660, 661, 662, 663, 664, 665, 666, 667, 668, 669, 670, 671, 672, 673, 674, 675, 676, 677, 678, 679, 680, 681, 682, 683, 684, 685, 686, 687, 688, 689, 690, 691, 692, 693, 694, 695, 696, 697, 698, 699, 700, 701, 702, 703, 704, 705, 706, 707, 708, 709, 710, 711, 712, 713, 714, 715, 716, 717, 718, 719, 720, 721, 722, 723, 724, 725, 726, 727, 728, 729, 730, 731, 732, 733, 734, 735, 736, 737, 738, 739, 740, 741, 742, 743, 744, 745, 746, 747, 748, 749, 750, 751, 752, 753, 754, 755, 756, 757, 758, 759, 760, 761, 762, 763, 764, 765, 766, 767, 768, 769, 770, 771, 772, 773, 774, 775, 776, 777, 778, 779, 780, 781, 782, 783, 784, 785, 786, 787, 788, 789, 790, 791, 792, 793, 794, 795, 796, 797, 798, 799, 800, 801, 802, 803, 804, 805, 806, 807, 808, 809, 810, 811, 812, 813, 814, 815, 816, 817, 818, 819, 820, 821, 822, 823, 824, 825, 826, 827, 828, 829, 830, 831, 832, 833, 834, 835, 836, 837, 838, 839, 840, 841, 842, 843, 844, 845, 846, 847, 848, 849, 850, 851, 852, 853, 854, 855, 856, 857, 858, 859, 860, 861, 862, 863, 864, 865, 866, 867, 868, 869, 870, 871, 872, 873, 874, 875, 876, 877, 878, 879, 880, 881, 882, 883, 884, 885, 886, 887, 888, 889, 890, 891, 892, 893, 894, 895, 896, 897, 898, 899, 900, 901, 902, 903, 904, 905, 906, 907, 908, 909, 910, 911, 912, 913, 914, 915, 916, 917, 918, 919, 920, 921, 922, 923, 924, 925, 926, 927, 928, 929, 930, 931, 932, 933, 934, 935, 936, 937, 938, 939, 940, 941, 942, 943, 944, 945, 946, 947, 948, 949, 950, 951, 952, 953, 954, 955, 956, 957, 958, 959, 960, 961, 962, 963, 964, 965, 966], \"y\": [123.0, 123.0, 118.0, 117.0, 116.0, 118.0, 117.0, 117.0, 119.0, 117.0, 114.0, 110.0, 108.0, 118.0, 115.00000000000001, 111.0, 115.00000000000001, 117.0, 107.0, 107.0, 104.00000000000001, 108.0, 108.0, 102.0, 101.0, 99.00000000000001, 98.0, 91.0, 94.0, 92.0, 94.0, 91.0, 91.0, 90.0, 83.00000000000001, 83.00000000000001, 86.0, 87.99999999999999, 86.0, 87.0, 89.0, 95.0, 90.0, 89.0, 92.0, 89.0, 92.0, 95.0, 95.0, 92.99999999999999, 98.0, 98.0, 98.0, 102.0, 95.0, 96.0, 98.0, 97.0, 98.0, 98.0, 98.0, 99.00000000000001, 100.0, 101.0, 101.0, 100.0, 100.0, 98.0, 101.0, 104.00000000000001, 102.0, 102.0, 106.0, 104.00000000000001, 105.0, 105.0, 104.00000000000001, 104.00000000000001, 103.0, 107.0, 110.0, 110.0, 112.0, 108.0, 94.0, 97.0, 95.0, 96.0, 94.0, 92.0, 91.0, 90.0, 90.0, 92.99999999999999, 92.0, 91.0, 89.0, 91.0, 91.0, 92.99999999999999, 90.0, 87.99999999999999, 87.99999999999999, 89.0, 89.0, 91.0, 90.0, 92.0, 95.0, 98.0, 100.0, 103.0, 103.0, 103.0, 102.0, 101.0, 100.0, 101.0, 100.0, 98.0, 97.0, 94.0, 94.0, 94.0, 94.0, 95.0, 94.0, 94.0, 91.0, 90.0, 92.0, 87.99999999999999, 85.0, 87.99999999999999, 91.0, 91.0, 97.0, 98.0, 95.0, 95.0, 97.0, 95.0, 96.0, 96.0, 98.0, 98.0, 99.00000000000001, 86.0, 87.99999999999999, 86.0, 86.0, 87.99999999999999, 91.0, 92.0, 92.0, 91.0, 94.0, 94.0, 92.99999999999999, 92.99999999999999, 97.0, 95.0, 94.0, 94.0, 96.0, 97.0, 95.0, 95.0, 96.0, 96.0, 96.0, 95.0, 96.0, 95.0, 97.0, 98.0, 97.0, 97.0, 97.0, 97.0, 97.0, 100.0, 99.00000000000001, 100.0, 97.0, 99.00000000000001, 96.0, 97.0, 97.0, 99.00000000000001, 98.0, 98.0, 95.0, 96.0, 96.0, 95.0, 97.0, 97.0, 97.0, 99.00000000000001, 103.0, 102.0, 106.0, 105.0, 105.0, 103.0, 101.0, 100.0, 100.0, 101.0, 100.0, 119.0, 122.0, 123.0, 128.0, 127.0, 127.0, 127.0, 126.0, 127.0, 124.99999999999999, 123.0, 122.0, 122.0, 122.0, 124.99999999999999, 124.0, 122.0, 115.00000000000001, 115.00000000000001, 113.0, 114.0, 115.00000000000001, 115.00000000000001, 115.00000000000001, 118.0, 118.0, 118.0, 117.0, 117.0, 118.0, 117.0, 117.0, 121.0, 119.0, 124.99999999999999, 124.99999999999999, 123.0, 123.0, 123.0, 124.0, 123.0, 124.99999999999999, 124.0, 124.99999999999999, 124.99999999999999, 127.0, 126.0, 126.0, 128.0, 126.0, 124.99999999999999, 124.0, 127.0, 129.0, 132.0, 131.0, 131.0, 130.0, 131.0, 129.0, 134.0, 133.0, 133.0, 138.0, 139.0, 137.0, 140.0, 140.0, 139.0, 142.0, 141.0, 141.0, 141.0, 139.0, 140.0, 141.0, 144.0, 145.0, 144.0, 145.0, 143.0, 141.0, 142.0, 142.0, 142.0, 143.0, 144.0, 143.0, 143.0, 143.0, 142.0, 143.0, 140.0, 139.0, 142.0, 141.0, 140.0, 141.0, 141.0, 144.0, 143.0, 145.0, 144.0, 145.0, 146.0, 142.0, 143.0, 142.0, 142.0, 144.0, 145.0, 146.0, 148.0, 148.0, 147.0, 146.0, 144.0, 144.0, 143.0, 144.0, 144.0, 144.0, 143.0, 147.0, 143.0, 140.0, 141.0, 143.0, 144.0, 152.0, 150.0, 153.0, 152.0, 155.0, 156.0, 156.0, 157.0, 157.0, 156.0, 157.0, 160.0, 159.0, 161.0, 160.0, 159.0, 153.0, 156.0, 157.0, 157.0, 158.0, 158.0, 163.0, 162.0, 163.0, 163.0, 163.0, 165.0, 165.0, 165.0, 166.0, 166.0, 158.0, 151.0, 153.0, 152.0, 152.0, 152.0, 153.0, 152.0, 155.0, 155.0, 158.0, 158.0, 151.0, 153.0, 150.0, 149.0, 146.0, 148.0, 146.0, 150.0, 153.0, 154.0, 159.0, 158.0, 161.0, 162.0, 184.0, 184.0, 184.0, 189.0, 188.0, 187.00000000000003, 189.0, 183.0, 184.0, 182.0, 182.0, 181.0, 179.0, 180.0, 181.0, 178.0, 175.99999999999997, 169.0, 171.0, 171.0, 169.0, 170.0, 166.0, 167.0, 167.0, 169.0, 169.0, 168.0, 166.0, 167.0, 169.0, 174.99999999999997, 174.99999999999997, 174.99999999999997, 174.99999999999997, 179.0, 179.0, 175.99999999999997, 182.0, 185.0, 184.0, 183.0, 182.0, 185.0, 185.99999999999997, 185.99999999999997, 189.0, 187.00000000000003, 179.0, 179.0, 182.0, 181.0, 181.0, 177.00000000000003, 179.0, 184.0, 194.0, 198.00000000000003, 196.99999999999997, 195.0, 195.0, 196.0, 199.0, 203.0, 199.0, 196.0, 195.0, 194.0, 192.0, 196.0, 194.0, 195.0, 200.0, 198.00000000000003, 196.0, 198.00000000000003, 199.0, 200.0, 200.0, 196.0, 196.0, 194.0, 192.0, 195.0, 196.0, 192.0, 196.0, 193.0, 194.0, 196.0, 196.0, 196.0, 195.0, 199.0, 188.0, 188.0, 187.00000000000003, 184.0, 184.0, 185.0, 185.0, 189.0, 185.99999999999997, 185.99999999999997, 188.0, 190.0, 190.0, 190.0, 187.00000000000003, 189.0, 189.0, 190.0, 188.0, 185.99999999999997, 193.0, 192.0, 201.0, 205.0, 206.0, 210.0, 212.0, 209.00000000000003, 213.0, 217.0, 221.0, 222.0, 217.99999999999997, 220.0, 220.0, 228.0, 249.99999999999997, 261.0, 270.0, 275.0, 285.0, 279.0, 270.0, 265.0, 267.0, 254.0, 266.0, 265.0, 249.99999999999997, 249.0, 258.0, 258.0, 266.0, 280.0, 279.0, 279.0, 281.0, 278.0, 286.0, 294.0, 291.0, 291.0, 290.0, 301.0, 315.0, 325.0, 321.0, 317.0, 331.0, 321.0, 316.0, 322.0, 321.0, 318.0, 313.0, 318.0, 316.0, 307.0, 301.0, 320.0, 301.0, 286.0, 295.0, 280.0, 284.0, 289.0, 294.0, 289.0, 290.0, 298.0, 304.0, 309.0, 312.0, 308.0, 336.0, 335.0, 333.0, 328.0, 319.0, 307.0, 306.0, 314.0, 312.0, 312.0, 313.0, 313.0, 312.0, 320.0, 326.0, 327.0, 330.0, 330.0, 326.0, 329.0, 326.0, 328.0, 325.0, 324.0, 332.0, 332.0, 345.0, 349.0, 350.99999999999994, 349.99999999999994, 354.00000000000006, 351.99999999999994, 360.0, 362.0, 366.0, 367.0, 361.0, 361.0, 361.0, 364.0, 380.0, 392.99999999999994, 392.0, 390.0, 405.0, 417.00000000000006, 414.99999999999994, 411.0, 384.0, 399.0, 390.0, 395.00000000000006, 391.0, 398.0, 391.0, 398.0, 408.0, 419.0, 416.00000000000006, 419.0, 413.99999999999994, 396.00000000000006, 400.0, 379.0, 375.00000000000006, 364.0, 361.0, 363.0, 357.0, 363.0, 363.0, 355.0, 335.0, 337.0, 338.0, 345.0, 343.0, 350.99999999999994, 351.99999999999994, 348.0, 349.0, 346.0, 341.0, 337.0, 326.0, 322.0, 317.0, 328.0, 338.0, 344.0, 339.0, 359.0, 365.0, 368.0, 368.0, 370.99999999999994, 368.0, 364.0, 341.0, 346.0, 349.0, 348.0, 356.0, 370.0, 368.0, 365.0, 349.99999999999994, 368.0, 367.0, 365.0, 361.0, 370.0, 369.0, 378.0, 381.0, 374.00000000000006, 381.0, 377.0, 377.0, 364.0, 350.99999999999994, 349.0, 356.0, 326.0, 321.0, 340.0, 333.0, 346.0, 365.0, 347.0, 333.0, 330.0, 333.0, 302.0, 313.0, 300.0, 285.0, 286.0, 302.0, 317.0, 309.0, 315.0, 311.0, 328.0, 318.0, 303.0, 294.0, 294.0, 287.0, 290.0, 286.0, 271.0, 267.0, 262.0, 259.0, 261.0, 267.0, 283.0, 289.0, 286.0, 290.0, 275.0, 283.0, 265.0, 270.0, 265.0, 275.0, 276.0, 267.0, 263.0, 271.0, 267.0, 261.0, 246.0, 234.0, 254.0, 256.0, 256.0, 268.0, 268.0, 271.0, 298.0, 315.0, 320.0, 320.0, 325.0, 338.0, 333.0, 355.0, 350.99999999999994, 353.00000000000006, 339.0, 325.0, 322.0, 327.0, 338.0, 336.0, 329.0, 341.0, 340.0, 340.0, 350.99999999999994, 356.0, 351.99999999999994, 345.0, 348.0, 346.0, 360.0, 351.99999999999994, 359.0, 357.0, 362.0, 360.0, 357.0, 363.0, 364.0, 365.0, 363.0, 358.0, 357.0, 350.99999999999994, 354.00000000000006, 360.0, 353.00000000000006, 349.99999999999994, 359.0, 356.0, 361.0, 359.0, 361.0, 363.0, 359.0, 375.00000000000006, 378.0, 361.0, 366.0, 360.0, 353.00000000000006, 355.0, 357.0, 367.0, 368.0, 370.0, 368.0, 365.0, 361.0, 365.0, 364.0, 368.0, 350.99999999999994, 349.0, 359.0, 355.0, 360.0, 377.0, 382.0, 374.00000000000006, 368.0, 375.00000000000006, 371.99999999999994, 370.99999999999994, 379.0, 379.0, 385.0, 379.0, 370.0, 364.0, 363.0, 361.0, 345.0, 346.0, 355.0, 359.0, 354.00000000000006, 348.0, 354.00000000000006, 360.0, 351.99999999999994, 354.00000000000006, 355.0, 349.0, 351.99999999999994, 343.0, 337.0, 353.00000000000006, 356.0, 357.0, 361.0, 351.99999999999994, 350.99999999999994, 346.0, 343.0, 340.0, 350.99999999999994, 357.0, 364.0, 365.0, 369.0, 370.99999999999994, 360.0, 362.0, 370.0, 367.0, 375.00000000000006, 375.00000000000006, 382.0, 381.0, 376.0, 380.0, 381.0, 380.0, 372.99999999999994, 367.0, 366.0, 362.0, 325.0, 315.0, 311.0, 307.0, 318.0, 326.0, 336.0, 333.0, 326.0, 323.0, 320.0, 319.0, 308.0, 310.0, 304.0, 316.0, 309.0, 311.0, 312.0, 299.0, 296.0, 303.0, 309.0, 299.0, 298.0, 297.0, 291.0, 295.0, 291.0, 292.0, 297.0, 294.0, 289.0, 292.0, 293.0, 290.0, 294.0, 288.0, 288.0, 289.0, 294.0, 294.0, 299.0, 292.0, 287.0, 271.0, 266.0, 255.0, 265.0, 263.0, 263.0, 268.0, 270.0, 268.0, 268.0, 273.0, 274.0, 271.0, 268.0, 280.0, 283.0, 286.0, 284.0, 286.0, 293.0, 275.0]}],\n",
              "                        {\"annotations\": [{\"font\": {\"color\": \"white\", \"family\": \"Rockwell\", \"size\": 26}, \"showarrow\": false, \"text\": \"Results (LSTM)\", \"x\": 0.0, \"xanchor\": \"left\", \"xref\": \"paper\", \"y\": 1.05, \"yanchor\": \"bottom\", \"yref\": \"paper\"}], \"showlegend\": true, \"template\": {\"data\": {\"bar\": [{\"error_x\": {\"color\": \"#f2f5fa\"}, \"error_y\": {\"color\": \"#f2f5fa\"}, \"marker\": {\"line\": {\"color\": \"rgb(17,17,17)\", \"width\": 0.5}}, \"type\": \"bar\"}], \"barpolar\": [{\"marker\": {\"line\": {\"color\": \"rgb(17,17,17)\", \"width\": 0.5}}, \"type\": \"barpolar\"}], \"carpet\": [{\"aaxis\": {\"endlinecolor\": \"#A2B1C6\", \"gridcolor\": \"#506784\", \"linecolor\": \"#506784\", \"minorgridcolor\": \"#506784\", \"startlinecolor\": \"#A2B1C6\"}, \"baxis\": {\"endlinecolor\": \"#A2B1C6\", \"gridcolor\": \"#506784\", \"linecolor\": \"#506784\", \"minorgridcolor\": \"#506784\", \"startlinecolor\": \"#A2B1C6\"}, \"type\": \"carpet\"}], \"choropleth\": [{\"colorbar\": {\"outlinewidth\": 0, \"ticks\": \"\"}, \"type\": \"choropleth\"}], \"contour\": [{\"colorbar\": {\"outlinewidth\": 0, \"ticks\": \"\"}, \"colorscale\": [[0.0, \"#0d0887\"], [0.1111111111111111, \"#46039f\"], [0.2222222222222222, \"#7201a8\"], [0.3333333333333333, \"#9c179e\"], [0.4444444444444444, \"#bd3786\"], [0.5555555555555556, \"#d8576b\"], [0.6666666666666666, \"#ed7953\"], [0.7777777777777778, \"#fb9f3a\"], [0.8888888888888888, \"#fdca26\"], [1.0, \"#f0f921\"]], \"type\": \"contour\"}], \"contourcarpet\": [{\"colorbar\": {\"outlinewidth\": 0, \"ticks\": \"\"}, \"type\": \"contourcarpet\"}], \"heatmap\": [{\"colorbar\": {\"outlinewidth\": 0, \"ticks\": \"\"}, \"colorscale\": [[0.0, \"#0d0887\"], [0.1111111111111111, \"#46039f\"], [0.2222222222222222, \"#7201a8\"], [0.3333333333333333, \"#9c179e\"], [0.4444444444444444, \"#bd3786\"], [0.5555555555555556, \"#d8576b\"], [0.6666666666666666, \"#ed7953\"], [0.7777777777777778, \"#fb9f3a\"], [0.8888888888888888, \"#fdca26\"], [1.0, \"#f0f921\"]], \"type\": \"heatmap\"}], \"heatmapgl\": [{\"colorbar\": {\"outlinewidth\": 0, \"ticks\": \"\"}, \"colorscale\": [[0.0, \"#0d0887\"], [0.1111111111111111, \"#46039f\"], [0.2222222222222222, \"#7201a8\"], [0.3333333333333333, \"#9c179e\"], [0.4444444444444444, \"#bd3786\"], [0.5555555555555556, \"#d8576b\"], [0.6666666666666666, \"#ed7953\"], [0.7777777777777778, \"#fb9f3a\"], [0.8888888888888888, \"#fdca26\"], [1.0, \"#f0f921\"]], \"type\": \"heatmapgl\"}], \"histogram\": [{\"marker\": {\"colorbar\": {\"outlinewidth\": 0, \"ticks\": \"\"}}, \"type\": \"histogram\"}], \"histogram2d\": [{\"colorbar\": {\"outlinewidth\": 0, \"ticks\": \"\"}, \"colorscale\": [[0.0, \"#0d0887\"], [0.1111111111111111, \"#46039f\"], [0.2222222222222222, \"#7201a8\"], [0.3333333333333333, \"#9c179e\"], [0.4444444444444444, \"#bd3786\"], [0.5555555555555556, \"#d8576b\"], [0.6666666666666666, \"#ed7953\"], [0.7777777777777778, \"#fb9f3a\"], [0.8888888888888888, \"#fdca26\"], [1.0, \"#f0f921\"]], \"type\": \"histogram2d\"}], \"histogram2dcontour\": [{\"colorbar\": {\"outlinewidth\": 0, \"ticks\": \"\"}, \"colorscale\": [[0.0, \"#0d0887\"], [0.1111111111111111, \"#46039f\"], [0.2222222222222222, \"#7201a8\"], [0.3333333333333333, \"#9c179e\"], [0.4444444444444444, \"#bd3786\"], [0.5555555555555556, \"#d8576b\"], [0.6666666666666666, \"#ed7953\"], [0.7777777777777778, \"#fb9f3a\"], [0.8888888888888888, \"#fdca26\"], [1.0, \"#f0f921\"]], \"type\": \"histogram2dcontour\"}], \"mesh3d\": [{\"colorbar\": {\"outlinewidth\": 0, \"ticks\": \"\"}, \"type\": \"mesh3d\"}], \"parcoords\": [{\"line\": {\"colorbar\": {\"outlinewidth\": 0, \"ticks\": \"\"}}, \"type\": \"parcoords\"}], \"pie\": [{\"automargin\": true, \"type\": \"pie\"}], \"scatter\": [{\"marker\": {\"line\": {\"color\": \"#283442\"}}, \"type\": \"scatter\"}], \"scatter3d\": [{\"line\": {\"colorbar\": {\"outlinewidth\": 0, \"ticks\": \"\"}}, \"marker\": {\"colorbar\": {\"outlinewidth\": 0, \"ticks\": \"\"}}, \"type\": \"scatter3d\"}], \"scattercarpet\": [{\"marker\": {\"colorbar\": {\"outlinewidth\": 0, \"ticks\": \"\"}}, \"type\": \"scattercarpet\"}], \"scattergeo\": [{\"marker\": {\"colorbar\": {\"outlinewidth\": 0, \"ticks\": \"\"}}, \"type\": \"scattergeo\"}], \"scattergl\": [{\"marker\": {\"line\": {\"color\": \"#283442\"}}, \"type\": \"scattergl\"}], \"scattermapbox\": [{\"marker\": {\"colorbar\": {\"outlinewidth\": 0, \"ticks\": \"\"}}, \"type\": \"scattermapbox\"}], \"scatterpolar\": [{\"marker\": {\"colorbar\": {\"outlinewidth\": 0, \"ticks\": \"\"}}, \"type\": \"scatterpolar\"}], \"scatterpolargl\": [{\"marker\": {\"colorbar\": {\"outlinewidth\": 0, \"ticks\": \"\"}}, \"type\": \"scatterpolargl\"}], \"scatterternary\": [{\"marker\": {\"colorbar\": {\"outlinewidth\": 0, \"ticks\": \"\"}}, \"type\": \"scatterternary\"}], \"surface\": [{\"colorbar\": {\"outlinewidth\": 0, \"ticks\": \"\"}, \"colorscale\": [[0.0, \"#0d0887\"], [0.1111111111111111, \"#46039f\"], [0.2222222222222222, \"#7201a8\"], [0.3333333333333333, \"#9c179e\"], [0.4444444444444444, \"#bd3786\"], [0.5555555555555556, \"#d8576b\"], [0.6666666666666666, \"#ed7953\"], [0.7777777777777778, \"#fb9f3a\"], [0.8888888888888888, \"#fdca26\"], [1.0, \"#f0f921\"]], \"type\": \"surface\"}], \"table\": [{\"cells\": {\"fill\": {\"color\": \"#506784\"}, \"line\": {\"color\": \"rgb(17,17,17)\"}}, \"header\": {\"fill\": {\"color\": \"#2a3f5f\"}, \"line\": {\"color\": \"rgb(17,17,17)\"}}, \"type\": \"table\"}]}, \"layout\": {\"annotationdefaults\": {\"arrowcolor\": \"#f2f5fa\", \"arrowhead\": 0, \"arrowwidth\": 1}, \"coloraxis\": {\"colorbar\": {\"outlinewidth\": 0, \"ticks\": \"\"}}, \"colorscale\": {\"diverging\": [[0, \"#8e0152\"], [0.1, \"#c51b7d\"], [0.2, \"#de77ae\"], [0.3, \"#f1b6da\"], [0.4, \"#fde0ef\"], [0.5, \"#f7f7f7\"], [0.6, \"#e6f5d0\"], [0.7, \"#b8e186\"], [0.8, \"#7fbc41\"], [0.9, \"#4d9221\"], [1, \"#276419\"]], \"sequential\": [[0.0, \"#0d0887\"], [0.1111111111111111, \"#46039f\"], [0.2222222222222222, \"#7201a8\"], [0.3333333333333333, \"#9c179e\"], [0.4444444444444444, \"#bd3786\"], [0.5555555555555556, \"#d8576b\"], [0.6666666666666666, \"#ed7953\"], [0.7777777777777778, \"#fb9f3a\"], [0.8888888888888888, \"#fdca26\"], [1.0, \"#f0f921\"]], \"sequentialminus\": [[0.0, \"#0d0887\"], [0.1111111111111111, \"#46039f\"], [0.2222222222222222, \"#7201a8\"], [0.3333333333333333, \"#9c179e\"], [0.4444444444444444, \"#bd3786\"], [0.5555555555555556, \"#d8576b\"], [0.6666666666666666, \"#ed7953\"], [0.7777777777777778, \"#fb9f3a\"], [0.8888888888888888, \"#fdca26\"], [1.0, \"#f0f921\"]]}, \"colorway\": [\"#636efa\", \"#EF553B\", \"#00cc96\", \"#ab63fa\", \"#FFA15A\", \"#19d3f3\", \"#FF6692\", \"#B6E880\", \"#FF97FF\", \"#FECB52\"], \"font\": {\"color\": \"#f2f5fa\"}, \"geo\": {\"bgcolor\": \"rgb(17,17,17)\", \"lakecolor\": \"rgb(17,17,17)\", \"landcolor\": \"rgb(17,17,17)\", \"showlakes\": true, \"showland\": true, \"subunitcolor\": \"#506784\"}, \"hoverlabel\": {\"align\": \"left\"}, \"hovermode\": \"closest\", \"mapbox\": {\"style\": \"dark\"}, \"paper_bgcolor\": \"rgb(17,17,17)\", \"plot_bgcolor\": \"rgb(17,17,17)\", \"polar\": {\"angularaxis\": {\"gridcolor\": \"#506784\", \"linecolor\": \"#506784\", \"ticks\": \"\"}, \"bgcolor\": \"rgb(17,17,17)\", \"radialaxis\": {\"gridcolor\": \"#506784\", \"linecolor\": \"#506784\", \"ticks\": \"\"}}, \"scene\": {\"xaxis\": {\"backgroundcolor\": \"rgb(17,17,17)\", \"gridcolor\": \"#506784\", \"gridwidth\": 2, \"linecolor\": \"#506784\", \"showbackground\": true, \"ticks\": \"\", \"zerolinecolor\": \"#C8D4E3\"}, \"yaxis\": {\"backgroundcolor\": \"rgb(17,17,17)\", \"gridcolor\": \"#506784\", \"gridwidth\": 2, \"linecolor\": \"#506784\", \"showbackground\": true, \"ticks\": \"\", \"zerolinecolor\": \"#C8D4E3\"}, \"zaxis\": {\"backgroundcolor\": \"rgb(17,17,17)\", \"gridcolor\": \"#506784\", \"gridwidth\": 2, \"linecolor\": \"#506784\", \"showbackground\": true, \"ticks\": \"\", \"zerolinecolor\": \"#C8D4E3\"}}, \"shapedefaults\": {\"line\": {\"color\": \"#f2f5fa\"}}, \"sliderdefaults\": {\"bgcolor\": \"#C8D4E3\", \"bordercolor\": \"rgb(17,17,17)\", \"borderwidth\": 1, \"tickwidth\": 0}, \"ternary\": {\"aaxis\": {\"gridcolor\": \"#506784\", \"linecolor\": \"#506784\", \"ticks\": \"\"}, \"baxis\": {\"gridcolor\": \"#506784\", \"linecolor\": \"#506784\", \"ticks\": \"\"}, \"bgcolor\": \"rgb(17,17,17)\", \"caxis\": {\"gridcolor\": \"#506784\", \"linecolor\": \"#506784\", \"ticks\": \"\"}}, \"title\": {\"x\": 0.05}, \"updatemenudefaults\": {\"bgcolor\": \"#506784\", \"borderwidth\": 0}, \"xaxis\": {\"automargin\": true, \"gridcolor\": \"#283442\", \"linecolor\": \"#506784\", \"ticks\": \"\", \"title\": {\"standoff\": 15}, \"zerolinecolor\": \"#283442\", \"zerolinewidth\": 2}, \"yaxis\": {\"automargin\": true, \"gridcolor\": \"#283442\", \"linecolor\": \"#506784\", \"ticks\": \"\", \"title\": {\"standoff\": 15}, \"zerolinecolor\": \"#283442\", \"zerolinewidth\": 2}}}, \"xaxis\": {\"linecolor\": \"white\", \"linewidth\": 2, \"showgrid\": true, \"showline\": true, \"showticklabels\": false}, \"yaxis\": {\"linecolor\": \"white\", \"linewidth\": 2, \"showgrid\": true, \"showline\": true, \"showticklabels\": true, \"tickfont\": {\"color\": \"white\", \"family\": \"Rockwell\", \"size\": 12}, \"ticks\": \"outside\", \"title\": {\"font\": {\"color\": \"white\", \"family\": \"Rockwell\", \"size\": 12}, \"text\": \"Close (USD)\"}}},\n",
              "                        {\"responsive\": true}\n",
              "                    ).then(function(){\n",
              "                            \n",
              "var gd = document.getElementById('4d563429-efc4-48e7-b47e-47381ff775ce');\n",
              "var x = new MutationObserver(function (mutations, observer) {{\n",
              "        var display = window.getComputedStyle(gd).display;\n",
              "        if (!display || display === 'none') {{\n",
              "            console.log([gd, 'removed!']);\n",
              "            Plotly.purge(gd);\n",
              "            observer.disconnect();\n",
              "        }}\n",
              "}});\n",
              "\n",
              "// Listen for the removal of the full notebook cells\n",
              "var notebookContainer = gd.closest('#notebook-container');\n",
              "if (notebookContainer) {{\n",
              "    x.observe(notebookContainer, {childList: true});\n",
              "}}\n",
              "\n",
              "// Listen for the clearing of the current output cell\n",
              "var outputEl = gd.closest('.output');\n",
              "if (outputEl) {{\n",
              "    x.observe(outputEl, {childList: true});\n",
              "}}\n",
              "\n",
              "                        })\n",
              "                };\n",
              "                \n",
              "            </script>\n",
              "        </div>\n",
              "</body>\n",
              "</html>"
            ]
          },
          "metadata": {
            "tags": []
          }
        }
      ]
    },
    {
      "cell_type": "code",
      "metadata": {
        "id": "7x8dWEmz0Xj7",
        "colab_type": "code",
        "colab": {
          "base_uri": "https://localhost:8080/",
          "height": 34
        },
        "outputId": "4f717954-ead3-4d94-9061-ea76abdb5081"
      },
      "source": [
        "print(len(result[1].dropna(axis=0)))"
      ],
      "execution_count": 240,
      "outputs": [
        {
          "output_type": "stream",
          "text": [
            "189\n"
          ],
          "name": "stdout"
        }
      ]
    },
    {
      "cell_type": "code",
      "metadata": {
        "id": "RBJM4NmY2bjp",
        "colab_type": "code",
        "colab": {
          "base_uri": "https://localhost:8080/",
          "height": 391
        },
        "outputId": "d9f02b78-609a-47be-d6ae-736b2f4ff8a8"
      },
      "source": [
        "result[1] = result[1].dropna(axis=0)\n",
        "predict = result[1].tail(21).dropna(axis=0)\n",
        "print(len(predict))\n",
        "print(predict.astype('int'))"
      ],
      "execution_count": 241,
      "outputs": [
        {
          "output_type": "stream",
          "text": [
            "20\n",
            "946    308\n",
            "947    307\n",
            "948    306\n",
            "949    303\n",
            "950    301\n",
            "951    299\n",
            "952    297\n",
            "953    295\n",
            "954    294\n",
            "955    293\n",
            "956    292\n",
            "957    291\n",
            "958    291\n",
            "959    291\n",
            "960    291\n",
            "961    291\n",
            "962    291\n",
            "963    292\n",
            "964    293\n",
            "965    294\n",
            "Name: 1, dtype: int64\n"
          ],
          "name": "stdout"
        }
      ]
    },
    {
      "cell_type": "code",
      "metadata": {
        "id": "Yq8Ix88i5DCJ",
        "colab_type": "code",
        "colab": {}
      },
      "source": [
        "predict = np.array(predict).reshape(-1,1).astype('int')\n",
        "id = np.array([i+1 for i in range(len(predict))]).reshape(-1,1)\n",
        "result = np.hstack([id,predict])\n",
        "df = pd.DataFrame(result,columns=[\"Id\",\"Expected\"])\n",
        "df.to_csv(\"baseline.csv\",index=False,header=True)"
      ],
      "execution_count": 242,
      "outputs": []
    },
    {
      "cell_type": "code",
      "metadata": {
        "id": "hBGMU38p5KAx",
        "colab_type": "code",
        "colab": {
          "base_uri": "https://localhost:8080/",
          "height": 51
        },
        "outputId": "bb229314-5c67-4d00-b9ce-68e330bf8936"
      },
      "source": [
        "!kaggle competitions submit -c netflix-stock-prediction -f baseline.csv -m \"baseline\""
      ],
      "execution_count": 243,
      "outputs": [
        {
          "output_type": "stream",
          "text": [
            "100% 143/143 [00:02<00:00, 52.0B/s]\n",
            "Successfully submitted to 넷플릭스 주가 예측"
          ],
          "name": "stdout"
        }
      ]
    }
  ]
}