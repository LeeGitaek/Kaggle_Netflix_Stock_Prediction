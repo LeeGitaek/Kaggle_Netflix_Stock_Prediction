{
  "nbformat": 4,
  "nbformat_minor": 0,
  "metadata": {
    "colab": {
      "name": "kaggle_netflix.ipynb",
      "provenance": [],
      "authorship_tag": "ABX9TyMvv+ZT7Sezs0jABWvhR4Be",
      "include_colab_link": true
    },
    "kernelspec": {
      "name": "python3",
      "display_name": "Python 3"
    },
    "accelerator": "GPU"
  },
  "cells": [
    {
      "cell_type": "markdown",
      "metadata": {
        "id": "view-in-github",
        "colab_type": "text"
      },
      "source": [
        "<a href=\"https://colab.research.google.com/github/LeeGitaek/Kaggle_Netflix_Stock_Prediction/blob/master/kaggle_netflix.ipynb\" target=\"_parent\"><img src=\"https://colab.research.google.com/assets/colab-badge.svg\" alt=\"Open In Colab\"/></a>"
      ]
    },
    {
      "cell_type": "code",
      "metadata": {
        "id": "1mgIGFirA4i1",
        "colab_type": "code",
        "colab": {
          "base_uri": "https://localhost:8080/",
          "height": 391
        },
        "outputId": "b9dbca12-05d2-474c-f62b-67b2b3c19cba"
      },
      "source": [
        "!pip uninstall kaggle\n",
        "!pip install --upgrade pip\n",
        "!pip install kaggle==1.5.6"
      ],
      "execution_count": 60,
      "outputs": [
        {
          "output_type": "stream",
          "text": [
            "Found existing installation: kaggle 1.5.6\n",
            "Uninstalling kaggle-1.5.6:\n",
            "  Would remove:\n",
            "    /usr/local/bin/kaggle\n",
            "    /usr/local/lib/python3.6/dist-packages/kaggle-1.5.6.dist-info/*\n",
            "    /usr/local/lib/python3.6/dist-packages/kaggle/*\n",
            "Proceed (y/n)? y\n",
            "  Successfully uninstalled kaggle-1.5.6\n",
            "Requirement already up-to-date: pip in /usr/local/lib/python3.6/dist-packages (20.1.1)\n",
            "Processing /root/.cache/pip/wheels/01/3e/ff/77407ebac3ef71a79b9166a8382aecf88415a0bcbe3c095a01/kaggle-1.5.6-py3-none-any.whl\n",
            "Requirement already satisfied: urllib3<1.25,>=1.21.1 in /usr/local/lib/python3.6/dist-packages (from kaggle==1.5.6) (1.24.3)\n",
            "Requirement already satisfied: python-dateutil in /usr/local/lib/python3.6/dist-packages (from kaggle==1.5.6) (2.8.1)\n",
            "Requirement already satisfied: tqdm in /usr/local/lib/python3.6/dist-packages (from kaggle==1.5.6) (4.41.1)\n",
            "Requirement already satisfied: python-slugify in /usr/local/lib/python3.6/dist-packages (from kaggle==1.5.6) (4.0.0)\n",
            "Requirement already satisfied: six>=1.10 in /usr/local/lib/python3.6/dist-packages (from kaggle==1.5.6) (1.12.0)\n",
            "Requirement already satisfied: requests in /usr/local/lib/python3.6/dist-packages (from kaggle==1.5.6) (2.23.0)\n",
            "Requirement already satisfied: certifi in /usr/local/lib/python3.6/dist-packages (from kaggle==1.5.6) (2020.4.5.1)\n",
            "Requirement already satisfied: text-unidecode>=1.3 in /usr/local/lib/python3.6/dist-packages (from python-slugify->kaggle==1.5.6) (1.3)\n",
            "Requirement already satisfied: idna<3,>=2.5 in /usr/local/lib/python3.6/dist-packages (from requests->kaggle==1.5.6) (2.9)\n",
            "Requirement already satisfied: chardet<4,>=3.0.2 in /usr/local/lib/python3.6/dist-packages (from requests->kaggle==1.5.6) (3.0.4)\n",
            "Installing collected packages: kaggle\n",
            "Successfully installed kaggle-1.5.6\n"
          ],
          "name": "stdout"
        }
      ]
    },
    {
      "cell_type": "code",
      "metadata": {
        "id": "roXSGLRs5Kvo",
        "colab_type": "code",
        "colab": {
          "base_uri": "https://localhost:8080/",
          "height": 34
        },
        "outputId": "ac7ff19c-aefc-4881-d483-282e5e8ca5c8"
      },
      "source": [
        "!mkdir -p ~/.kaggle\n",
        "!cp kaggle.json ~/.kaggle\n",
        "!ls -lha kaggle.json\n",
        "!chmod 600 ~/.kaggle/kaggle.json"
      ],
      "execution_count": 61,
      "outputs": [
        {
          "output_type": "stream",
          "text": [
            "-rw-r--r-- 1 root root 68 Jun 14 09:20 kaggle.json\n"
          ],
          "name": "stdout"
        }
      ]
    },
    {
      "cell_type": "code",
      "metadata": {
        "id": "CdA72b1Q5Nuv",
        "colab_type": "code",
        "colab": {
          "base_uri": "https://localhost:8080/",
          "height": 34
        },
        "outputId": "f3d2137c-b90a-4bf5-edf9-4c2a0f5c4b0c"
      },
      "source": [
        "!kaggle competitions download -c netflix-stock-prediction"
      ],
      "execution_count": 62,
      "outputs": [
        {
          "output_type": "stream",
          "text": [
            "netflix-stock-prediction.zip: Skipping, found more recently modified local copy (use --force to force download)\n"
          ],
          "name": "stdout"
        }
      ]
    },
    {
      "cell_type": "code",
      "metadata": {
        "id": "glpJr2wA5Xa9",
        "colab_type": "code",
        "colab": {
          "base_uri": "https://localhost:8080/",
          "height": 136
        },
        "outputId": "eb69708e-4c94-494e-d72c-706c337c3225"
      },
      "source": [
        "!unzip netflix-stock-prediction.zip"
      ],
      "execution_count": 63,
      "outputs": [
        {
          "output_type": "stream",
          "text": [
            "Archive:  netflix-stock-prediction.zip\n",
            "replace sample_submission.csv? [y]es, [n]o, [A]ll, [N]one, [r]ename: y\n",
            "  inflating: sample_submission.csv   \n",
            "replace test.csv? [y]es, [n]o, [A]ll, [N]one, [r]ename: y\n",
            "  inflating: test.csv                \n",
            "replace train.csv? [y]es, [n]o, [A]ll, [N]one, [r]ename: y\n",
            "  inflating: train.csv               \n"
          ],
          "name": "stdout"
        }
      ]
    },
    {
      "cell_type": "code",
      "metadata": {
        "id": "9k0S2kyd6IMV",
        "colab_type": "code",
        "colab": {
          "base_uri": "https://localhost:8080/",
          "height": 34
        },
        "outputId": "431a6296-f26b-4fda-d42c-d0aeb7ac0d83"
      },
      "source": [
        "import numpy as np \n",
        "import random\n",
        "import pandas as pd \n",
        "import matplotlib.pyplot as plt\n",
        "from pandas import datetime\n",
        "import math, time\n",
        "import itertools\n",
        "from sklearn import preprocessing\n",
        "from sklearn.preprocessing import MinMaxScaler\n",
        "import datetime\n",
        "from operator import itemgetter\n",
        "from sklearn.metrics import mean_squared_error\n",
        "from math import sqrt\n",
        "import torch\n",
        "import torch.nn as nn\n",
        "from torch.autograd import Variable\n",
        "\n",
        "torch.manual_seed(1)"
      ],
      "execution_count": 64,
      "outputs": [
        {
          "output_type": "execute_result",
          "data": {
            "text/plain": [
              "<torch._C.Generator at 0x7f2f60b40cb0>"
            ]
          },
          "metadata": {
            "tags": []
          },
          "execution_count": 64
        }
      ]
    },
    {
      "cell_type": "code",
      "metadata": {
        "id": "vo-nCkM-oOsy",
        "colab_type": "code",
        "colab": {
          "base_uri": "https://localhost:8080/",
          "height": 204
        },
        "outputId": "b6d904da-2276-430f-c5c7-8872ed3b2456"
      },
      "source": [
        "df_train = pd.read_csv('train.csv',parse_dates=True)\n",
        "df_test = pd.read_csv('test.csv',parse_dates=True)\n",
        "sc = MinMaxScaler()\n",
        "df_train.head()"
      ],
      "execution_count": 65,
      "outputs": [
        {
          "output_type": "execute_result",
          "data": {
            "text/html": [
              "<div>\n",
              "<style scoped>\n",
              "    .dataframe tbody tr th:only-of-type {\n",
              "        vertical-align: middle;\n",
              "    }\n",
              "\n",
              "    .dataframe tbody tr th {\n",
              "        vertical-align: top;\n",
              "    }\n",
              "\n",
              "    .dataframe thead th {\n",
              "        text-align: right;\n",
              "    }\n",
              "</style>\n",
              "<table border=\"1\" class=\"dataframe\">\n",
              "  <thead>\n",
              "    <tr style=\"text-align: right;\">\n",
              "      <th></th>\n",
              "      <th>Date</th>\n",
              "      <th>Open</th>\n",
              "      <th>High</th>\n",
              "      <th>Low</th>\n",
              "      <th>Volume</th>\n",
              "      <th>Close</th>\n",
              "    </tr>\n",
              "  </thead>\n",
              "  <tbody>\n",
              "    <tr>\n",
              "      <th>0</th>\n",
              "      <td>2015-12-16</td>\n",
              "      <td>120</td>\n",
              "      <td>123</td>\n",
              "      <td>118</td>\n",
              "      <td>13181000</td>\n",
              "      <td>123</td>\n",
              "    </tr>\n",
              "    <tr>\n",
              "      <th>1</th>\n",
              "      <td>2015-12-17</td>\n",
              "      <td>124</td>\n",
              "      <td>126</td>\n",
              "      <td>122</td>\n",
              "      <td>17284900</td>\n",
              "      <td>123</td>\n",
              "    </tr>\n",
              "    <tr>\n",
              "      <th>2</th>\n",
              "      <td>2015-12-18</td>\n",
              "      <td>121</td>\n",
              "      <td>122</td>\n",
              "      <td>118</td>\n",
              "      <td>17948100</td>\n",
              "      <td>118</td>\n",
              "    </tr>\n",
              "    <tr>\n",
              "      <th>3</th>\n",
              "      <td>2015-12-21</td>\n",
              "      <td>120</td>\n",
              "      <td>120</td>\n",
              "      <td>116</td>\n",
              "      <td>11670000</td>\n",
              "      <td>117</td>\n",
              "    </tr>\n",
              "    <tr>\n",
              "      <th>4</th>\n",
              "      <td>2015-12-22</td>\n",
              "      <td>117</td>\n",
              "      <td>117</td>\n",
              "      <td>115</td>\n",
              "      <td>9689000</td>\n",
              "      <td>116</td>\n",
              "    </tr>\n",
              "  </tbody>\n",
              "</table>\n",
              "</div>"
            ],
            "text/plain": [
              "         Date  Open  High  Low    Volume  Close\n",
              "0  2015-12-16   120   123  118  13181000    123\n",
              "1  2015-12-17   124   126  122  17284900    123\n",
              "2  2015-12-18   121   122  118  17948100    118\n",
              "3  2015-12-21   120   120  116  11670000    117\n",
              "4  2015-12-22   117   117  115   9689000    116"
            ]
          },
          "metadata": {
            "tags": []
          },
          "execution_count": 65
        }
      ]
    },
    {
      "cell_type": "code",
      "metadata": {
        "id": "U6oQfA5koUnG",
        "colab_type": "code",
        "colab": {
          "base_uri": "https://localhost:8080/",
          "height": 238
        },
        "outputId": "f2ba5372-0195-4103-eef6-7d9fc8f396ee"
      },
      "source": [
        "df_train.info()"
      ],
      "execution_count": 66,
      "outputs": [
        {
          "output_type": "stream",
          "text": [
            "<class 'pandas.core.frame.DataFrame'>\n",
            "RangeIndex: 967 entries, 0 to 966\n",
            "Data columns (total 6 columns):\n",
            " #   Column  Non-Null Count  Dtype \n",
            "---  ------  --------------  ----- \n",
            " 0   Date    967 non-null    object\n",
            " 1   Open    967 non-null    int64 \n",
            " 2   High    967 non-null    int64 \n",
            " 3   Low     967 non-null    int64 \n",
            " 4   Volume  967 non-null    int64 \n",
            " 5   Close   967 non-null    int64 \n",
            "dtypes: int64(5), object(1)\n",
            "memory usage: 45.5+ KB\n"
          ],
          "name": "stdout"
        }
      ]
    },
    {
      "cell_type": "code",
      "metadata": {
        "id": "h5wfYC86o__W",
        "colab_type": "code",
        "colab": {
          "base_uri": "https://localhost:8080/",
          "height": 454
        },
        "outputId": "7c6ab56c-bc21-4944-81c4-eb05a06e72fe"
      },
      "source": [
        "import seaborn as sns\n",
        "\n",
        "sns.set_style(\"darkgrid\")\n",
        "plt.figure(figsize = (10,6))\n",
        "plt.plot(df_train[['Close']])\n",
        "plt.xticks(range(0,df_train.shape[0],967),df_train['Date'].loc[::967],rotation=45)\n",
        "plt.title('Netflix Stock Price',fontsize=18, fontweight='bold')\n",
        "plt.xlabel('Date',fontsize=18)\n",
        "plt.ylabel('Close Price (USD)',fontsize=18)\n",
        "plt.show()"
      ],
      "execution_count": 67,
      "outputs": [
        {
          "output_type": "display_data",
          "data": {
            "image/png": "[encoded data removed]",
            "text/plain": [
              "<Figure size 720x432 with 1 Axes>"
            ]
          },
          "metadata": {
            "tags": []
          }
        }
      ]
    },
    {
      "cell_type": "code",
      "metadata": {
        "id": "EWU1GPwMqzCy",
        "colab_type": "code",
        "colab": {
          "base_uri": "https://localhost:8080/",
          "height": 153
        },
        "outputId": "225f4ce1-08ab-4779-a6bc-80ca5b369d7b"
      },
      "source": [
        "price = df_train[['Close']]\n",
        "price.info()"
      ],
      "execution_count": 68,
      "outputs": [
        {
          "output_type": "stream",
          "text": [
            "<class 'pandas.core.frame.DataFrame'>\n",
            "RangeIndex: 967 entries, 0 to 966\n",
            "Data columns (total 1 columns):\n",
            " #   Column  Non-Null Count  Dtype\n",
            "---  ------  --------------  -----\n",
            " 0   Close   967 non-null    int64\n",
            "dtypes: int64(1)\n",
            "memory usage: 7.7 KB\n"
          ],
          "name": "stdout"
        }
      ]
    },
    {
      "cell_type": "code",
      "metadata": {
        "id": "EeAB0Mstq3-2",
        "colab_type": "code",
        "colab": {
          "base_uri": "https://localhost:8080/",
          "height": 153
        },
        "outputId": "3edd9669-af90-40f3-c78a-e98281f27ccc"
      },
      "source": [
        "from sklearn.preprocessing import MinMaxScaler\n",
        "\n",
        "scaler = MinMaxScaler(feature_range=(-1, 1))\n",
        "price['Close'] = scaler.fit_transform(price['Close'].values.reshape(-1,1))\n"
      ],
      "execution_count": 69,
      "outputs": [
        {
          "output_type": "stream",
          "text": [
            "/usr/local/lib/python3.6/dist-packages/ipykernel_launcher.py:4: SettingWithCopyWarning:\n",
            "\n",
            "\n",
            "A value is trying to be set on a copy of a slice from a DataFrame.\n",
            "Try using .loc[row_indexer,col_indexer] = value instead\n",
            "\n",
            "See the caveats in the documentation: https://pandas.pydata.org/pandas-docs/stable/user_guide/indexing.html#returning-a-view-versus-a-copy\n",
            "\n"
          ],
          "name": "stderr"
        }
      ]
    },
    {
      "cell_type": "code",
      "metadata": {
        "id": "wOmSXISRqkTI",
        "colab_type": "code",
        "colab": {}
      },
      "source": [
        "def split_data(stock, lookback):\n",
        "    data_raw = stock.to_numpy() # convert to numpy array\n",
        "    data = []\n",
        "    \n",
        "    # create all possible sequences of length seq_len\n",
        "    for index in range(len(data_raw) - lookback): \n",
        "        data.append(data_raw[index: index + lookback])\n",
        "    \n",
        "    data = np.array(data);\n",
        "    test_set_size = int(np.round(0.2*data.shape[0]));\n",
        "    train_set_size = data.shape[0] - (test_set_size);\n",
        "    \n",
        "    x_train = data[:train_set_size,:-1,:]\n",
        "    y_train = data[:train_set_size,-1,:]\n",
        "    \n",
        "    x_test = data[train_set_size:,:-1]\n",
        "    y_test = data[train_set_size:,-1,:]\n",
        "    \n",
        "    return [x_train, y_train, x_test, y_test]"
      ],
      "execution_count": 0,
      "outputs": []
    },
    {
      "cell_type": "code",
      "metadata": {
        "id": "1Vh92WAtqsD_",
        "colab_type": "code",
        "colab": {
          "base_uri": "https://localhost:8080/",
          "height": 85
        },
        "outputId": "1aca4c21-41cc-4e40-e993-e5fe3207ca1a"
      },
      "source": [
        "lookback = 20 # choose sequence length\n",
        "x_train, y_train, x_test, y_test = split_data(price, lookback)\n",
        "print('x_train.shape = ',x_train.shape)\n",
        "print('y_train.shape = ',y_train.shape)\n",
        "print('x_test.shape = ',x_test.shape)\n",
        "print('y_test.shape = ',y_test.shape)"
      ],
      "execution_count": 71,
      "outputs": [
        {
          "output_type": "stream",
          "text": [
            "x_train.shape =  (758, 19, 1)\n",
            "y_train.shape =  (758, 1)\n",
            "x_test.shape =  (189, 19, 1)\n",
            "y_test.shape =  (189, 1)\n"
          ],
          "name": "stdout"
        }
      ]
    },
    {
      "cell_type": "code",
      "metadata": {
        "id": "d-UBsOpUuatN",
        "colab_type": "code",
        "colab": {
          "base_uri": "https://localhost:8080/",
          "height": 293
        },
        "outputId": "03513087-11d6-4beb-861c-dd9815b7a093"
      },
      "source": [
        "df_test['Volume'].plot()"
      ],
      "execution_count": 72,
      "outputs": [
        {
          "output_type": "execute_result",
          "data": {
            "text/plain": [
              "<matplotlib.axes._subplots.AxesSubplot at 0x7f2f5340c518>"
            ]
          },
          "metadata": {
            "tags": []
          },
          "execution_count": 72
        },
        {
          "output_type": "display_data",
          "data": {
            "image/png": "[encoded data removed]",
            "text/plain": [
              "<Figure size 432x288 with 1 Axes>"
            ]
          },
          "metadata": {
            "tags": []
          }
        }
      ]
    },
    {
      "cell_type": "code",
      "metadata": {
        "id": "F8HaMokwaOaE",
        "colab_type": "code",
        "colab": {}
      },
      "source": [
        "x_train = torch.from_numpy(x_train).type(torch.Tensor)\n",
        "x_test = torch.from_numpy(x_test).type(torch.Tensor)\n",
        "y_train_lstm = torch.from_numpy(y_train).type(torch.Tensor)\n",
        "y_test_lstm = torch.from_numpy(y_test).type(torch.Tensor)\n",
        "y_train_gru = torch.from_numpy(y_train).type(torch.Tensor)\n",
        "y_test_gru = torch.from_numpy(y_test).type(torch.Tensor)"
      ],
      "execution_count": 0,
      "outputs": []
    },
    {
      "cell_type": "code",
      "metadata": {
        "id": "MqOzRo_JdlPG",
        "colab_type": "code",
        "colab": {}
      },
      "source": [
        "input_dim = 1\n",
        "hidden_dim = 32\n",
        "num_layers = 2\n",
        "output_dim = 1\n",
        "num_epochs = 100"
      ],
      "execution_count": 0,
      "outputs": []
    },
    {
      "cell_type": "code",
      "metadata": {
        "id": "AkYwhXCmr3gj",
        "colab_type": "code",
        "colab": {}
      },
      "source": [
        "class LSTM(nn.Module):\n",
        "    def __init__(self, input_dim, hidden_dim, num_layers, output_dim):\n",
        "        super(LSTM, self).__init__()\n",
        "        self.hidden_dim = hidden_dim\n",
        "        self.num_layers = num_layers\n",
        "        \n",
        "        self.lstm = nn.LSTM(input_dim, hidden_dim, num_layers, batch_first=True)\n",
        "        self.fc = nn.Linear(hidden_dim, output_dim)\n",
        "\n",
        "    def forward(self, x):\n",
        "        h0 = torch.zeros(self.num_layers, x.size(0), self.hidden_dim).requires_grad_()\n",
        "        c0 = torch.zeros(self.num_layers, x.size(0), self.hidden_dim).requires_grad_()\n",
        "        out, (hn, cn) = self.lstm(x, (h0.detach(), c0.detach()))\n",
        "        out = self.fc(out[:, -1, :]) \n",
        "        return out"
      ],
      "execution_count": 0,
      "outputs": []
    },
    {
      "cell_type": "code",
      "metadata": {
        "id": "ni7B2lrIr7b2",
        "colab_type": "code",
        "colab": {}
      },
      "source": [
        "model = LSTM(input_dim=input_dim, hidden_dim=hidden_dim, output_dim=output_dim, num_layers=num_layers)\n",
        "criterion = torch.nn.MSELoss(reduction='mean')\n",
        "optimiser = torch.optim.Adam(model.parameters(), lr=0.01)"
      ],
      "execution_count": 0,
      "outputs": []
    },
    {
      "cell_type": "code",
      "metadata": {
        "id": "Wf9kD2PEr_KL",
        "colab_type": "code",
        "colab": {
          "base_uri": "https://localhost:8080/",
          "height": 1000
        },
        "outputId": "2c81203f-4e9d-4b33-da59-51468a52526f"
      },
      "source": [
        "import time\n",
        "\n",
        "hist = np.zeros(num_epochs)\n",
        "start_time = time.time()\n",
        "lstm = []\n",
        "\n",
        "for t in range(num_epochs):\n",
        "    y_train_pred = model(x_train)\n",
        "\n",
        "    loss = criterion(y_train_pred, y_train_lstm)\n",
        "    print(\"Epoch \", t, \"MSE: \", loss.item())\n",
        "    hist[t] = loss.item()\n",
        "\n",
        "    optimiser.zero_grad()\n",
        "    loss.backward()\n",
        "    optimiser.step()\n",
        "    \n",
        "training_time = time.time()-start_time\n",
        "print(\"Training time: {}\".format(training_time))"
      ],
      "execution_count": 77,
      "outputs": [
        {
          "output_type": "stream",
          "text": [
            "Epoch  0 MSE:  0.45936480164527893\n",
            "Epoch  1 MSE:  0.35926347970962524\n",
            "Epoch  2 MSE:  0.3073134124279022\n",
            "Epoch  3 MSE:  0.2922852635383606\n",
            "Epoch  4 MSE:  0.2646891474723816\n",
            "Epoch  5 MSE:  0.20922961831092834\n",
            "Epoch  6 MSE:  0.147887721657753\n",
            "Epoch  7 MSE:  0.07618613541126251\n",
            "Epoch  8 MSE:  0.07264605164527893\n",
            "Epoch  9 MSE:  0.06037716194987297\n",
            "Epoch  10 MSE:  0.064339779317379\n",
            "Epoch  11 MSE:  0.04204792156815529\n",
            "Epoch  12 MSE:  0.031533244997262955\n",
            "Epoch  13 MSE:  0.013119174167513847\n",
            "Epoch  14 MSE:  0.009882761165499687\n",
            "Epoch  15 MSE:  0.015855206176638603\n",
            "Epoch  16 MSE:  0.01833784393966198\n",
            "Epoch  17 MSE:  0.01610756479203701\n",
            "Epoch  18 MSE:  0.013620044104754925\n",
            "Epoch  19 MSE:  0.014581281691789627\n",
            "Epoch  20 MSE:  0.01820274442434311\n",
            "Epoch  21 MSE:  0.019836481660604477\n",
            "Epoch  22 MSE:  0.01740332506597042\n",
            "Epoch  23 MSE:  0.01436378713697195\n",
            "Epoch  24 MSE:  0.013557426631450653\n",
            "Epoch  25 MSE:  0.013914776034653187\n",
            "Epoch  26 MSE:  0.013153414241969585\n",
            "Epoch  27 MSE:  0.010652938857674599\n",
            "Epoch  28 MSE:  0.007890691980719566\n",
            "Epoch  29 MSE:  0.006732563953846693\n",
            "Epoch  30 MSE:  0.007010242436081171\n",
            "Epoch  31 MSE:  0.006726775784045458\n",
            "Epoch  32 MSE:  0.005459074396640062\n",
            "Epoch  33 MSE:  0.004943425767123699\n",
            "Epoch  34 MSE:  0.005593531299382448\n",
            "Epoch  35 MSE:  0.005877249874174595\n",
            "Epoch  36 MSE:  0.005377857945859432\n",
            "Epoch  37 MSE:  0.005420063156634569\n",
            "Epoch  38 MSE:  0.006099887657910585\n",
            "Epoch  39 MSE:  0.005927427671849728\n",
            "Epoch  40 MSE:  0.005193434190005064\n",
            "Epoch  41 MSE:  0.005133064463734627\n",
            "Epoch  42 MSE:  0.005190678872168064\n",
            "Epoch  43 MSE:  0.004654123447835445\n",
            "Epoch  44 MSE:  0.004191940650343895\n",
            "Epoch  45 MSE:  0.004205533303320408\n",
            "Epoch  46 MSE:  0.004026507493108511\n",
            "Epoch  47 MSE:  0.0036078370176255703\n",
            "Epoch  48 MSE:  0.003560541430488229\n",
            "Epoch  49 MSE:  0.003740566084161401\n",
            "Epoch  50 MSE:  0.003682799870148301\n",
            "Epoch  51 MSE:  0.003531814320012927\n",
            "Epoch  52 MSE:  0.0036063340958207846\n",
            "Epoch  53 MSE:  0.003723859554156661\n",
            "Epoch  54 MSE:  0.0036488696932792664\n",
            "Epoch  55 MSE:  0.003568346379324794\n",
            "Epoch  56 MSE:  0.00359869166277349\n",
            "Epoch  57 MSE:  0.0035593477077782154\n",
            "Epoch  58 MSE:  0.0034150618594139814\n",
            "Epoch  59 MSE:  0.003346252255141735\n",
            "Epoch  60 MSE:  0.0033429726026952267\n",
            "Epoch  61 MSE:  0.0032480345107614994\n",
            "Epoch  62 MSE:  0.0031414919067174196\n",
            "Epoch  63 MSE:  0.0031439780723303556\n",
            "Epoch  64 MSE:  0.003144653979688883\n",
            "Epoch  65 MSE:  0.0030813380144536495\n",
            "Epoch  66 MSE:  0.00306381075643003\n",
            "Epoch  67 MSE:  0.003088238649070263\n",
            "Epoch  68 MSE:  0.0030616673175245523\n",
            "Epoch  69 MSE:  0.0030363788828253746\n",
            "Epoch  70 MSE:  0.00304797082208097\n",
            "Epoch  71 MSE:  0.0030235599260777235\n",
            "Epoch  72 MSE:  0.002977467840537429\n",
            "Epoch  73 MSE:  0.002967169275507331\n",
            "Epoch  74 MSE:  0.002948922570794821\n",
            "Epoch  75 MSE:  0.0029028512071818113\n",
            "Epoch  76 MSE:  0.002878715516999364\n",
            "Epoch  77 MSE:  0.002865381771698594\n",
            "Epoch  78 MSE:  0.0028349284548312426\n",
            "Epoch  79 MSE:  0.002814382780343294\n",
            "Epoch  80 MSE:  0.00280712079256773\n",
            "Epoch  81 MSE:  0.002787098055705428\n",
            "Epoch  82 MSE:  0.0027684958186000586\n",
            "Epoch  83 MSE:  0.0027629274409264326\n",
            "Epoch  84 MSE:  0.002749091712757945\n",
            "Epoch  85 MSE:  0.002728448947891593\n",
            "Epoch  86 MSE:  0.002716978546231985\n",
            "Epoch  87 MSE:  0.0027040683198720217\n",
            "Epoch  88 MSE:  0.0026837894693017006\n",
            "Epoch  89 MSE:  0.002668403321877122\n",
            "Epoch  90 MSE:  0.0026548171881586313\n",
            "Epoch  91 MSE:  0.0026367048267275095\n",
            "Epoch  92 MSE:  0.0026221689768135548\n",
            "Epoch  93 MSE:  0.002610620576888323\n",
            "Epoch  94 MSE:  0.0025954919401556253\n",
            "Epoch  95 MSE:  0.0025824937038123608\n",
            "Epoch  96 MSE:  0.00257285637781024\n",
            "Epoch  97 MSE:  0.00256022228859365\n",
            "Epoch  98 MSE:  0.00254755187779665\n",
            "Epoch  99 MSE:  0.002537470543757081\n",
            "Training time: 7.016880035400391\n"
          ],
          "name": "stdout"
        }
      ]
    },
    {
      "cell_type": "code",
      "metadata": {
        "id": "Tw1YiyaNsF50",
        "colab_type": "code",
        "colab": {}
      },
      "source": [
        "predict = pd.DataFrame(scaler.inverse_transform(y_train_pred.detach().numpy()))\n",
        "original = pd.DataFrame(scaler.inverse_transform(y_train_lstm.detach().numpy()))"
      ],
      "execution_count": 0,
      "outputs": []
    },
    {
      "cell_type": "code",
      "metadata": {
        "id": "byd8r-m_sJOS",
        "colab_type": "code",
        "colab": {
          "base_uri": "https://localhost:8080/",
          "height": 409
        },
        "outputId": "10ddf729-1d2c-4323-824d-7598e590684e"
      },
      "source": [
        "import seaborn as sns\n",
        "sns.set_style(\"darkgrid\")    \n",
        "\n",
        "fig = plt.figure()\n",
        "fig.subplots_adjust(hspace=0.2, wspace=0.2)\n",
        "\n",
        "plt.subplot(1, 2, 1)\n",
        "ax = sns.lineplot(x = original.index, y = original[0], label=\"Data\", color='royalblue')\n",
        "ax = sns.lineplot(x = predict.index, y = predict[0], label=\"Training Prediction (LSTM)\", color='tomato')\n",
        "ax.set_title('Stock price', size = 14, fontweight='bold')\n",
        "ax.set_xlabel(\"Days\", size = 14)\n",
        "ax.set_ylabel(\"Cost (USD)\", size = 14)\n",
        "ax.set_xticklabels('', size=10)\n",
        "\n",
        "\n",
        "plt.subplot(1, 2, 2)\n",
        "ax = sns.lineplot(data=hist, color='royalblue')\n",
        "ax.set_xlabel(\"Epoch\", size = 14)\n",
        "ax.set_ylabel(\"Loss\", size = 14)\n",
        "ax.set_title(\"Training Loss\", size = 14, fontweight='bold')\n",
        "fig.set_figheight(6)\n",
        "fig.set_figwidth(16)"
      ],
      "execution_count": 79,
      "outputs": [
        {
          "output_type": "display_data",
          "data": {
            "image/png": "[encoded data removed]",
            "text/plain": [
              "<Figure size 1152x432 with 2 Axes>"
            ]
          },
          "metadata": {
            "tags": []
          }
        }
      ]
    },
    {
      "cell_type": "code",
      "metadata": {
        "id": "JrKyZ4MKsPtJ",
        "colab_type": "code",
        "colab": {
          "base_uri": "https://localhost:8080/",
          "height": 51
        },
        "outputId": "9355b6a7-968c-460c-e1d1-48d870087c5d"
      },
      "source": [
        "import math, time\n",
        "from sklearn.metrics import mean_squared_error\n",
        "\n",
        "# make predictions\n",
        "y_test_pred = model(x_test)\n",
        "\n",
        "# invert predictions\n",
        "y_train_pred = scaler.inverse_transform(y_train_pred.detach().numpy())\n",
        "y_train = scaler.inverse_transform(y_train_lstm.detach().numpy())\n",
        "y_test_pred = scaler.inverse_transform(y_test_pred.detach().numpy())\n",
        "y_test = scaler.inverse_transform(y_test_lstm.detach().numpy())\n",
        "\n",
        "# calculate root mean squared error\n",
        "trainScore = math.sqrt(mean_squared_error(y_train[:,0], y_train_pred[:,0]))\n",
        "print('Train Score: %.2f RMSE' % (trainScore))\n",
        "testScore = math.sqrt(mean_squared_error(y_test[:,0], y_test_pred[:,0]))\n",
        "print('Test Score: %.2f RMSE' % (testScore))\n",
        "lstm.append(trainScore)\n",
        "lstm.append(testScore)\n",
        "lstm.append(training_time)"
      ],
      "execution_count": 80,
      "outputs": [
        {
          "output_type": "stream",
          "text": [
            "Train Score: 8.46 RMSE\n",
            "Test Score: 9.52 RMSE\n"
          ],
          "name": "stdout"
        }
      ]
    },
    {
      "cell_type": "code",
      "metadata": {
        "id": "krh3-nL3sVaG",
        "colab_type": "code",
        "colab": {}
      },
      "source": [
        "trainPredictPlot = np.empty_like(price)\n",
        "trainPredictPlot[:, :] = np.nan\n",
        "trainPredictPlot[lookback:len(y_train_pred)+lookback, :] = y_train_pred\n",
        "\n",
        "# shift test predictions for plotting\n",
        "testPredictPlot = np.empty_like(price)\n",
        "testPredictPlot[:, :] = np.nan\n",
        "testPredictPlot[len(y_train_pred)+lookback-1:len(price)-1, :] = y_test_pred\n",
        "\n",
        "original = scaler.inverse_transform(price['Close'].values.reshape(-1,1))\n",
        "\n",
        "predictions = np.append(trainPredictPlot, testPredictPlot, axis=1)\n",
        "predictions = np.append(predictions, original, axis=1)\n",
        "result = pd.DataFrame(predictions)"
      ],
      "execution_count": 0,
      "outputs": []
    },
    {
      "cell_type": "code",
      "metadata": {
        "id": "i_RvhC6lsbla",
        "colab_type": "code",
        "colab": {
          "base_uri": "https://localhost:8080/",
          "height": 542
        },
        "outputId": "3f7d666e-2273-4548-e8b3-f259ffebc320"
      },
      "source": [
        "import plotly.graph_objects as go\n",
        "\n",
        "fig = go.Figure()\n",
        "fig.add_trace(go.Scatter(go.Scatter(x=result.index, y=result[0],\n",
        "                    mode='lines',\n",
        "                    name='Train prediction')))\n",
        "fig.add_trace(go.Scatter(x=result.index, y=result[1],\n",
        "                    mode='lines',\n",
        "                    name='Test prediction'))\n",
        "fig.add_trace(go.Scatter(go.Scatter(x=result.index, y=result[2],\n",
        "                    mode='lines',\n",
        "                    name='Actual Value')))\n",
        "fig.update_layout(\n",
        "    xaxis=dict(\n",
        "        showline=True,\n",
        "        showgrid=True,\n",
        "        showticklabels=False,\n",
        "        linecolor='white',\n",
        "        linewidth=2\n",
        "    ),\n",
        "    yaxis=dict(\n",
        "        title_text='Close (USD)',\n",
        "        titlefont=dict(\n",
        "            family='Rockwell',\n",
        "            size=12,\n",
        "            color='white',\n",
        "        ),\n",
        "        showline=True,\n",
        "        showgrid=True,\n",
        "        showticklabels=True,\n",
        "        linecolor='white',\n",
        "        linewidth=2,\n",
        "        ticks='outside',\n",
        "        tickfont=dict(\n",
        "            family='Rockwell',\n",
        "            size=12,\n",
        "            color='white',\n",
        "        ),\n",
        "    ),\n",
        "    showlegend=True,\n",
        "    template = 'plotly_dark'\n",
        "\n",
        ")\n",
        "\n",
        "\n",
        "\n",
        "annotations = []\n",
        "annotations.append(dict(xref='paper', yref='paper', x=0.0, y=1.05,\n",
        "                              xanchor='left', yanchor='bottom',\n",
        "                              text='Results (LSTM)',\n",
        "                              font=dict(family='Rockwell',\n",
        "                                        size=26,\n",
        "                                        color='white'),\n",
        "                              showarrow=False))\n",
        "fig.update_layout(annotations=annotations)\n",
        "\n",
        "fig.show()"
      ],
      "execution_count": 82,
      "outputs": [
        {
          "output_type": "display_data",
          "data": {
            "text/html": [
              "<html>\n",
              "<head><meta charset=\"utf-8\" /></head>\n",
              "<body>\n",
              "    <div>\n",
              "            <script src=\"https://cdnjs.cloudflare.com/ajax/libs/mathjax/2.7.5/MathJax.js?config=TeX-AMS-MML_SVG\"></script><script type=\"text/javascript\">if (window.MathJax) {MathJax.Hub.Config({SVG: {font: \"STIX-Web\"}});}</script>\n",
              "                <script type=\"text/javascript\">window.PlotlyConfig = {MathJaxConfig: 'local'};</script>\n",
              "        <script src=\"https://cdn.plot.ly/plotly-latest.min.js\"></script>    \n",
              "            <div id=\"d8f006be-f842-474f-8983-fa7d415e6cc6\" class=\"plotly-graph-div\" style=\"height:525px; width:100%;\"></div>\n",
              "            <script type=\"text/javascript\">\n",
              "                \n",
              "                    window.PLOTLYENV=window.PLOTLYENV || {};\n",
              "                    \n",
              "                if (document.getElementById(\"d8f006be-f842-474f-8983-fa7d415e6cc6\")) {\n",
              "                    Plotly.newPlot(\n",
              "                        'd8f006be-f842-474f-8983-fa7d415e6cc6',\n",
              "                        [{\"mode\": \"lines\", \"name\": \"Train prediction\", \"type\": \"scatter\", \"x\": [0, 1, 2, 3, 4, 5, 6, 7, 8, 9, 10, 11, 12, 13, 14, 15, 16, 17, 18, 19, 20, 21, 22, 23, 24, 25, 26, 27, 28, 29, 30, 31, 32, 33, 34, 35, 36, 37, 38, 39, 40, 41, 42, 43, 44, 45, 46, 47, 48, 49, 50, 51, 52, 53, 54, 55, 56, 57, 58, 59, 60, 61, 62, 63, 64, 65, 66, 67, 68, 69, 70, 71, 72, 73, 74, 75, 76, 77, 78, 79, 80, 81, 82, 83, 84, 85, 86, 87, 88, 89, 90, 91, 92, 93, 94, 95, 96, 97, 98, 99, 100, 101, 102, 103, 104, 105, 106, 107, 108, 109, 110, 111, 112, 113, 114, 115, 116, 117, 118, 119, 120, 121, 122, 123, 124, 125, 126, 127, 128, 129, 130, 131, 132, 133, 134, 135, 136, 137, 138, 139, 140, 141, 142, 143, 144, 145, 146, 147, 148, 149, 150, 151, 152, 153, 154, 155, 156, 157, 158, 159, 160, 161, 162, 163, 164, 165, 166, 167, 168, 169, 170, 171, 172, 173, 174, 175, 176, 177, 178, 179, 180, 181, 182, 183, 184, 185, 186, 187, 188, 189, 190, 191, 192, 193, 194, 195, 196, 197, 198, 199, 200, 201, 202, 203, 204, 205, 206, 207, 208, 209, 210, 211, 212, 213, 214, 215, 216, 217, 218, 219, 220, 221, 222, 223, 224, 225, 226, 227, 228, 229, 230, 231, 232, 233, 234, 235, 236, 237, 238, 239, 240, 241, 242, 243, 244, 245, 246, 247, 248, 249, 250, 251, 252, 253, 254, 255, 256, 257, 258, 259, 260, 261, 262, 263, 264, 265, 266, 267, 268, 269, 270, 271, 272, 273, 274, 275, 276, 277, 278, 279, 280, 281, 282, 283, 284, 285, 286, 287, 288, 289, 290, 291, 292, 293, 294, 295, 296, 297, 298, 299, 300, 301, 302, 303, 304, 305, 306, 307, 308, 309, 310, 311, 312, 313, 314, 315, 316, 317, 318, 319, 320, 321, 322, 323, 324, 325, 326, 327, 328, 329, 330, 331, 332, 333, 334, 335, 336, 337, 338, 339, 340, 341, 342, 343, 344, 345, 346, 347, 348, 349, 350, 351, 352, 353, 354, 355, 356, 357, 358, 359, 360, 361, 362, 363, 364, 365, 366, 367, 368, 369, 370, 371, 372, 373, 374, 375, 376, 377, 378, 379, 380, 381, 382, 383, 384, 385, 386, 387, 388, 389, 390, 391, 392, 393, 394, 395, 396, 397, 398, 399, 400, 401, 402, 403, 404, 405, 406, 407, 408, 409, 410, 411, 412, 413, 414, 415, 416, 417, 418, 419, 420, 421, 422, 423, 424, 425, 426, 427, 428, 429, 430, 431, 432, 433, 434, 435, 436, 437, 438, 439, 440, 441, 442, 443, 444, 445, 446, 447, 448, 449, 450, 451, 452, 453, 454, 455, 456, 457, 458, 459, 460, 461, 462, 463, 464, 465, 466, 467, 468, 469, 470, 471, 472, 473, 474, 475, 476, 477, 478, 479, 480, 481, 482, 483, 484, 485, 486, 487, 488, 489, 490, 491, 492, 493, 494, 495, 496, 497, 498, 499, 500, 501, 502, 503, 504, 505, 506, 507, 508, 509, 510, 511, 512, 513, 514, 515, 516, 517, 518, 519, 520, 521, 522, 523, 524, 525, 526, 527, 528, 529, 530, 531, 532, 533, 534, 535, 536, 537, 538, 539, 540, 541, 542, 543, 544, 545, 546, 547, 548, 549, 550, 551, 552, 553, 554, 555, 556, 557, 558, 559, 560, 561, 562, 563, 564, 565, 566, 567, 568, 569, 570, 571, 572, 573, 574, 575, 576, 577, 578, 579, 580, 581, 582, 583, 584, 585, 586, 587, 588, 589, 590, 591, 592, 593, 594, 595, 596, 597, 598, 599, 600, 601, 602, 603, 604, 605, 606, 607, 608, 609, 610, 611, 612, 613, 614, 615, 616, 617, 618, 619, 620, 621, 622, 623, 624, 625, 626, 627, 628, 629, 630, 631, 632, 633, 634, 635, 636, 637, 638, 639, 640, 641, 642, 643, 644, 645, 646, 647, 648, 649, 650, 651, 652, 653, 654, 655, 656, 657, 658, 659, 660, 661, 662, 663, 664, 665, 666, 667, 668, 669, 670, 671, 672, 673, 674, 675, 676, 677, 678, 679, 680, 681, 682, 683, 684, 685, 686, 687, 688, 689, 690, 691, 692, 693, 694, 695, 696, 697, 698, 699, 700, 701, 702, 703, 704, 705, 706, 707, 708, 709, 710, 711, 712, 713, 714, 715, 716, 717, 718, 719, 720, 721, 722, 723, 724, 725, 726, 727, 728, 729, 730, 731, 732, 733, 734, 735, 736, 737, 738, 739, 740, 741, 742, 743, 744, 745, 746, 747, 748, 749, 750, 751, 752, 753, 754, 755, 756, 757, 758, 759, 760, 761, 762, 763, 764, 765, 766, 767, 768, 769, 770, 771, 772, 773, 774, 775, 776, 777, 778, 779, 780, 781, 782, 783, 784, 785, 786, 787, 788, 789, 790, 791, 792, 793, 794, 795, 796, 797, 798, 799, 800, 801, 802, 803, 804, 805, 806, 807, 808, 809, 810, 811, 812, 813, 814, 815, 816, 817, 818, 819, 820, 821, 822, 823, 824, 825, 826, 827, 828, 829, 830, 831, 832, 833, 834, 835, 836, 837, 838, 839, 840, 841, 842, 843, 844, 845, 846, 847, 848, 849, 850, 851, 852, 853, 854, 855, 856, 857, 858, 859, 860, 861, 862, 863, 864, 865, 866, 867, 868, 869, 870, 871, 872, 873, 874, 875, 876, 877, 878, 879, 880, 881, 882, 883, 884, 885, 886, 887, 888, 889, 890, 891, 892, 893, 894, 895, 896, 897, 898, 899, 900, 901, 902, 903, 904, 905, 906, 907, 908, 909, 910, 911, 912, 913, 914, 915, 916, 917, 918, 919, 920, 921, 922, 923, 924, 925, 926, 927, 928, 929, 930, 931, 932, 933, 934, 935, 936, 937, 938, 939, 940, 941, 942, 943, 944, 945, 946, 947, 948, 949, 950, 951, 952, 953, 954, 955, 956, 957, 958, 959, 960, 961, 962, 963, 964, 965, 966], \"y\": [null, null, null, null, null, null, null, null, null, null, null, null, null, null, null, null, null, null, null, null, 112.89402770996094, 111.78730773925781, 110.3164291381836, 109.36377716064453, 108.72395324707031, 107.58222198486328, 106.2737045288086, 104.82620239257812, 103.3873291015625, 101.3442611694336, 99.65435028076172, 98.07907104492188, 96.95933532714844, 95.82781982421875, 94.82832336425781, 93.89852142333984, 92.38430786132812, 90.83002471923828, 89.73954772949219, 89.16190338134766, 88.65030670166016, 88.33580017089844, 88.33377838134766, 89.07208251953125, 89.51577758789062, 89.70675659179688, 90.08389282226562, 90.17813873291016, 90.46975708007812, 91.1063003540039, 91.81361389160156, 92.26284790039062, 93.0951156616211, 93.97947692871094, 94.79267883300781, 95.92749786376953, 96.28970336914062, 96.41905975341797, 96.64570617675781, 96.77272033691406, 96.95370483398438, 97.13105010986328, 97.28355407714844, 97.52454376220703, 97.8800048828125, 98.34861755371094, 98.81280517578125, 99.10809326171875, 99.30157470703125, 99.20842742919922, 99.34696960449219, 99.88736724853516, 100.30461120605469, 100.63135528564453, 101.33394622802734, 101.88095092773438, 102.41925811767578, 102.8873519897461, 103.15880584716797, 103.31806182861328, 103.29611206054688, 103.66455078125, 104.49079132080078, 105.40947723388672, 106.50233459472656, 107.06055450439453, 105.70451354980469, 104.11754608154297, 102.3855972290039, 100.91510009765625, 99.4985580444336, 98.0619888305664, 96.6830825805664, 95.38267517089844, 94.27108764648438, 93.67850494384766, 93.2540283203125, 92.84919738769531, 92.29410552978516, 91.9557876586914, 91.73568725585938, 91.79969787597656, 91.65896606445312, 91.25425720214844, 90.79703521728516, 90.47962951660156, 90.24276733398438, 90.27450561523438, 90.30400848388672, 90.54305267333984, 91.14981842041016, 92.15345764160156, 93.4244384765625, 94.99507141113281, 96.51559448242188, 97.85478973388672, 98.85784912109375, 99.49774169921875, 99.7986831665039, 100.03714752197266, 100.10272216796875, 99.87044525146484, 99.43441009521484, 98.63386535644531, 97.78295135498047, 97.00700378417969, 96.34840393066406, 95.92174530029297, 95.52705383300781, 95.1933822631836, 94.60298156738281, 93.87915802001953, 93.39408111572266, 92.6388931274414, 91.5647201538086, 90.79884338378906, 90.54251098632812, 90.51828002929688, 91.21923065185547, 92.240478515625, 92.97158813476562, 93.51382446289062, 94.13206481933594, 94.49082946777344, 94.8155517578125, 95.08485412597656, 95.51609802246094, 95.96172332763672, 96.47327423095703, 95.5509262084961, 94.40309143066406, 93.07122039794922, 91.82695770263672, 90.96234130859375, 90.64751434326172, 90.68965148925781, 90.87718963623047, 90.99987030029297, 91.40181732177734, 91.87029266357422, 92.21129608154297, 92.46424102783203, 93.07785034179688, 93.5478515625, 93.80902099609375, 93.95526123046875, 94.25108337402344, 94.67648315429688, 94.90184783935547, 95.0167236328125, 95.18080139160156, 95.34158325195312, 95.48101043701172, 95.48635864257812, 95.54663848876953, 95.51151275634766, 95.66023254394531, 95.96751403808594, 96.19752502441406, 96.37416076660156, 96.50768280029297, 96.60519409179688, 96.67981719970703, 97.06377410888672, 97.41419219970703, 97.82511138916016, 97.8812026977539, 98.01519012451172, 97.82701110839844, 97.64532470703125, 97.48192596435547, 97.56361389160156, 97.6225357055664, 97.66845703125, 97.3763427734375, 97.09405517578125, 96.84309387207031, 96.5263671875, 96.43750762939453, 96.44660186767578, 96.49678802490234, 96.77708435058594, 97.55538177490234, 98.33796691894531, 99.49048614501953, 100.54932403564453, 101.45343017578125, 101.96380615234375, 102.02604675292969, 101.78543853759766, 101.44612121582031, 101.21729278564453, 100.943359375, 102.86780548095703, 105.83805847167969, 109.07340240478516, 112.70516967773438, 115.95701599121094, 118.67236328125, 120.83003234863281, 122.34944915771484, 123.54470825195312, 124.18197631835938, 124.2401123046875, 123.92344665527344, 123.4930419921875, 123.06976318359375, 123.09912872314453, 123.16986083984375, 122.98601531982422, 121.80585479736328, 120.38969421386719, 118.79222106933594, 117.45845794677734, 116.52092742919922, 115.85802459716797, 115.39213562011719, 115.44219970703125, 115.6937255859375, 116.00186157226562, 116.16948699951172, 116.26293182373047, 116.44129943847656, 116.50346374511719, 116.51301574707031, 117.00934600830078, 117.38044738769531, 118.43900299072266, 119.64337921142578, 120.50558471679688, 121.12118530273438, 121.55701446533203, 121.99434661865234, 122.24201965332031, 122.64827728271484, 122.93037414550781, 123.26094818115234, 123.5676040649414, 124.09413146972656, 124.50641632080078, 124.8222427368164, 125.3269271850586, 125.57064056396484, 125.54588317871094, 125.27883911132812, 125.35343933105469, 125.81999206542969, 126.79902648925781, 127.7249755859375, 128.51425170898438, 129.0059814453125, 129.4517822265625, 129.54087829589844, 130.17105102539062, 130.79173278808594, 131.33230590820312, 132.47618103027344, 133.85421752929688, 134.8619842529297, 136.02151489257812, 137.08128356933594, 137.81411743164062, 138.75572204589844, 139.50137329101562, 140.06776428222656, 140.48255920410156, 140.482421875, 140.46641540527344, 140.59091186523438, 141.20005798339844, 142.06802368164062, 142.7718505859375, 143.462158203125, 143.74705505371094, 143.5312957763672, 143.29583740234375, 143.0838623046875, 142.91259765625, 142.9305419921875, 143.17112731933594, 143.31692504882812, 143.40528869628906, 143.45777893066406, 143.33828735351562, 143.31788635253906, 142.8896026611328, 142.2146759033203, 141.98043823242188, 141.8024139404297, 141.52716064453125, 141.40016174316406, 141.34805297851562, 141.78094482421875, 142.1965789794922, 142.8505859375, 143.35595703125, 143.88414001464844, 144.49676513671875, 144.45101928710938, 144.30499267578125, 143.98513793945312, 143.64358520507812, 143.641357421875, 143.923828125, 144.43338012695312, 145.26646423339844, 146.11080932617188, 146.68814086914062, 146.92308044433594, 146.6816864013672, 146.28736877441406, 145.73594665527344, 145.35435485839844, 145.0928497314453, 144.9175567626953, 144.6501922607422, 144.9898681640625, 144.91407775878906, 144.23841857910156, 143.57101440429688, 143.29718017578125, 143.36785888671875, 144.78094482421875, 146.2296600341797, 147.9622802734375, 149.40261840820312, 150.99319458007812, 152.5698699951172, 153.91213989257812, 155.12315368652344, 156.100830078125, 156.6779022216797, 157.1718292236328, 158.04513549804688, 158.7736358642578, 159.66397094726562, 160.31642150878906, 160.6114044189453, 159.73887634277344, 159.037109375, 158.6684112548828, 158.48951721191406, 158.57595825195312, 158.75233459472656, 159.7561798095703, 160.7683868408203, 161.79757690429688, 162.67221069335938, 163.35003662109375, 164.17962646484375, 164.93910217285156, 165.5530548095703, 166.18179321289062, 166.7168426513672, 165.7823944091797, 163.28103637695312, 160.9108428955078, 158.80245971679688, 157.12571716308594, 155.87152099609375, 155.1293182373047, 154.53839111328125, 154.5718231201172, 154.84378051757812, 155.65277099609375, 156.5526580810547, 156.2264404296875, 155.79171752929688, 154.8976287841797, 153.8067169189453, 152.33352661132812, 151.24472045898438, 150.15487670898438, 149.84666442871094, 150.3561553955078, 151.2762451171875, 153.0236053466797, 154.68630981445312, 156.55960083007812, 158.39906311035156, 163.657958984375, 169.5507049560547, 174.80117797851562, 179.84397888183594, 183.77212524414062, 186.39639282226562, 188.42393493652344, 188.73927307128906, 188.53208923339844, 187.79714965820312, 187.00059509277344, 186.1422576904297, 185.04888916015625, 184.24172973632812, 183.86773681640625, 183.17947387695312, 182.12774658203125, 179.86904907226562, 177.90219116210938, 176.38583374023438, 174.9508514404297, 173.96080017089844, 172.61167907714844, 171.5203399658203, 170.70480346679688, 170.47268676757812, 170.50299072265625, 170.4579315185547, 170.04591369628906, 169.7291259765625, 169.84280395507812, 171.1443634033203, 172.70494079589844, 174.11427307128906, 175.22866821289062, 176.75254821777344, 178.1840362548828, 178.80191040039062, 180.07774353027344, 181.9420623779297, 183.53953552246094, 184.57077026367188, 185.0160369873047, 185.71084594726562, 186.56924438476562, 187.3426513671875, 188.50616455078125, 189.2393035888672, 188.1837158203125, 186.63858032226562, 185.73895263671875, 185.0687713623047, 184.60594177246094, 183.5724639892578, 182.86349487304688, 183.31085205078125, 185.98062133789062, 189.82859802246094, 193.2744140625, 195.54441833496094, 196.93299865722656, 197.92027282714844, 199.1621856689453, 201.06488037109375, 202.0780029296875, 201.9597625732422, 201.2349090576172, 200.22938537597656, 198.92852783203125, 198.54074096679688, 198.1889190673828, 198.10789489746094, 199.11485290527344, 199.96173095703125, 200.19085693359375, 200.5275115966797, 201.04071044921875, 201.72386169433594, 202.34249877929688, 202.02818298339844, 201.41688537597656, 200.4228515625, 199.08995056152344, 198.46473693847656, 198.4240264892578, 197.8383331298828, 197.92276000976562, 197.6665802001953, 197.5207977294922, 197.83045959472656, 198.25856018066406, 198.6510009765625, 198.7590789794922, 199.51673889160156, 198.244384765625, 196.44345092773438, 194.59768676757812, 192.52267456054688, 190.74765014648438, 189.59707641601562, 188.8907470703125, 189.22398376464844, 189.33314514160156, 189.3321075439453, 189.65908813476562, 190.43150329589844, 191.23776245117188, 191.91038513183594, 191.8402557373047, 191.8753204345703, 191.94705200195312, 192.2119140625, 192.12477111816406, 191.53956604003906, 192.19256591796875, 193.01861572265625, 195.49110412597656, 198.943359375, 202.34303283691406, 205.8813934326172, 209.20570373535156, 211.18482971191406, 213.0729522705078, 215.3909454345703, 218.261962890625, 220.98272705078125, 222.2281036376953, 223.06346130371094, 223.5748748779297, 225.58184814453125, 232.60714721679688, 242.71810913085938, 254.03768920898438, 264.5419006347656, 274.7530822753906, 280.9350280761719, 281.6405334472656, 278.6615295410156, 275.4906005859375, 269.86798095703125, 267.6575622558594, 267.13946533203125, 263.7152099609375, 259.7154541015625, 258.6625671386719, 259.0554504394531, 261.8369140625, 268.3240661621094, 274.5213623046875, 279.05792236328125, 282.2832946777344, 283.4122009277344, 285.4374694824219, 289.3933410644531, 292.362548828125, 294.1134338378906, 294.6242980957031, 297.34375, 303.9560546875, 313.107177734375, 319.82861328125, 322.5899658203125, 326.6265563964844, 327.4574279785156, 325.28826904296875, 324.01495361328125, 323.2093200683594, 321.98736572265625, 319.5430908203125, 318.5745544433594, 317.97564697265625, 315.2727355957031, 310.800537109375, 311.90203857421875, 310.0497741699219, 303.4167785644531, 298.9920959472656, 292.8479919433594, 288.7179260253906, 287.85662841796875, 289.8701477050781, 291.2345275878906, 292.20782470703125, 294.8575134277344, 299.11279296875, 304.2479553222656, 309.1894836425781, 311.6705322265625, 319.8596496582031, 328.07598876953125, 333.4947509765625, 334.83551025390625, 331.5904235839844, 324.0062255859375, 316.4035339355469, 313.0885925292969, 311.9833679199219, 312.0686950683594, 312.8701477050781, 313.7530822753906, 314.17291259765625, 316.43206787109375, 320.49078369140625, 324.4845886230469, 328.14849853515625, 330.6624755859375, 330.9078369140625, 330.90228271484375, 329.986328125, 329.4542541503906, 328.4143371582031, 327.1540222167969, 328.293212890625, 330.1512145996094, 335.27178955078125, 341.4486389160156, 346.8805847167969, 350.1954650878906, 352.7275695800781, 353.67645263671875, 355.7846984863281, 358.3143310546875, 361.3355712890625, 363.9445495605469, 364.0195617675781, 362.9393005371094, 361.6416931152344, 361.39239501953125, 365.86798095703125, 374.46392822265625, 382.0928955078125, 386.6235046386719, 392.34161376953125, 399.916748046875, 405.6294250488281, 407.97161865234375, 401.57745361328125, 396.8388671875, 391.76727294921875, 389.1309814453125, 387.1902770996094, 387.8326110839844, 387.6246643066406, 388.8975524902344, 392.9801025390625, 399.8378601074219, 405.2214050292969, 409.2323303222656, 410.3857727050781, 405.654296875, 400.63470458984375, 391.502197265625, 381.9403381347656, 371.8662109375, 363.5283203125, 358.8323669433594, 355.4870300292969, 355.3369140625, 356.6944274902344, 356.2656555175781, 349.8670349121094, 343.2563171386719, 338.77777099609375, 338.439453125, 339.4791564941406, 342.9783935546875, 346.85552978515625, 348.7644348144531, 349.57647705078125, 348.9100341796875, 346.46002197265625, 342.8425598144531, 336.7572937011719, 330.2239990234375, 324.00323486328125, 322.66180419921875, 326.5081787109375, 333.1183776855469, 337.737060546875, 345.5594482421875, 354.2315368652344, 361.6475830078125, 366.432861328125, 369.5128479003906, 370.1841125488281, 368.52703857421875, 360.1326904296875, 352.4049377441406, 347.9359436035156, 345.8564453125, 347.5184631347656, 354.0562744140625, 360.3314514160156, 363.9378356933594, 361.4169006347656, 361.7445983886719, 362.995849609375, 363.7465515136719, 362.9693298339844, 364.1106872558594, 365.49609375, 368.94390869140625, 373.0797119140625, 374.513427734375, 376.1844482421875, 376.45501708984375, 376.02642822265625, 371.98944091796875, 364.01947021484375, 355.98675537109375, 352.0654296875, 342.9507751464844, 332.75531005859375, 330.1956787109375, 329.8594055175781, 334.0855712890625, 344.2049560546875, 349.2935791015625, 347.01953125, 341.4019775390625, 336.7915954589844, 325.5440673828125, 317.5680236816406, 309.8089904785156, 300.3368835449219, 293.0965270996094, 293.0367736816406, 299.9487609863281, 305.8360595703125, 311.2687072753906, 314.0391540527344, 319.48907470703125, 322.0096130371094, 318.5436706542969, 311.0443115234375, 303.9539794921875, 297.20367431640625, 293.245849609375, 290.4770202636719, 285.0416564941406, 278.949951171875, 273.0069580078125, 267.9874267578125, 265.1487731933594, 265.37286376953125, 270.7102355957031, 278.3315734863281, 284.2384948730469, 288.9562683105469, 288.1518859863281, 287.3251953125, 282.16912841796875, 277.87640380859375, 273.8449401855469, 273.4570007324219, 274.8871154785156, 274.3984375, 272.2239990234375, 271.92315673828125, 271.498779296875, 269.6377258300781, 263.9959411621094, 255.45278930664062, 252.7086944580078, 253.42831420898438, 255.29833984375, 260.0096130371094, 264.75006103515625, 269.0866394042969, 278.93914794921875, 293.10076904296875, 306.9081726074219, 317.0326232910156, 324.23175048828125, 331.71466064453125, 335.96630859375, 343.4734191894531, 349.2232666015625, null, null, null, null, null, null, null, null, null, null, null, null, null, null, null, null, null, null, null, null, null, null, null, null, null, null, null, null, null, null, null, null, null, null, null, null, null, null, null, null, null, null, null, null, null, null, null, null, null, null, null, null, null, null, null, null, null, null, null, null, null, null, null, null, null, null, null, null, null, null, null, null, null, null, null, null, null, null, null, null, null, null, null, null, null, null, null, null, null, null, null, null, null, null, null, null, null, null, null, null, null, null, null, null, null, null, null, null, null, null, null, null, null, null, null, null, null, null, null, null, null, null, null, null, null, null, null, null, null, null, null, null, null, null, null, null, null, null, null, null, null, null, null, null, null, null, null, null, null, null, null, null, null, null, null, null, null, null, null, null, null, null, null, null, null, null, null, null, null, null, null, null, null, null, null, null, null, null, null, null, null, null, null, null, null, null, null, null, null]}, {\"mode\": \"lines\", \"name\": \"Test prediction\", \"type\": \"scatter\", \"x\": [0, 1, 2, 3, 4, 5, 6, 7, 8, 9, 10, 11, 12, 13, 14, 15, 16, 17, 18, 19, 20, 21, 22, 23, 24, 25, 26, 27, 28, 29, 30, 31, 32, 33, 34, 35, 36, 37, 38, 39, 40, 41, 42, 43, 44, 45, 46, 47, 48, 49, 50, 51, 52, 53, 54, 55, 56, 57, 58, 59, 60, 61, 62, 63, 64, 65, 66, 67, 68, 69, 70, 71, 72, 73, 74, 75, 76, 77, 78, 79, 80, 81, 82, 83, 84, 85, 86, 87, 88, 89, 90, 91, 92, 93, 94, 95, 96, 97, 98, 99, 100, 101, 102, 103, 104, 105, 106, 107, 108, 109, 110, 111, 112, 113, 114, 115, 116, 117, 118, 119, 120, 121, 122, 123, 124, 125, 126, 127, 128, 129, 130, 131, 132, 133, 134, 135, 136, 137, 138, 139, 140, 141, 142, 143, 144, 145, 146, 147, 148, 149, 150, 151, 152, 153, 154, 155, 156, 157, 158, 159, 160, 161, 162, 163, 164, 165, 166, 167, 168, 169, 170, 171, 172, 173, 174, 175, 176, 177, 178, 179, 180, 181, 182, 183, 184, 185, 186, 187, 188, 189, 190, 191, 192, 193, 194, 195, 196, 197, 198, 199, 200, 201, 202, 203, 204, 205, 206, 207, 208, 209, 210, 211, 212, 213, 214, 215, 216, 217, 218, 219, 220, 221, 222, 223, 224, 225, 226, 227, 228, 229, 230, 231, 232, 233, 234, 235, 236, 237, 238, 239, 240, 241, 242, 243, 244, 245, 246, 247, 248, 249, 250, 251, 252, 253, 254, 255, 256, 257, 258, 259, 260, 261, 262, 263, 264, 265, 266, 267, 268, 269, 270, 271, 272, 273, 274, 275, 276, 277, 278, 279, 280, 281, 282, 283, 284, 285, 286, 287, 288, 289, 290, 291, 292, 293, 294, 295, 296, 297, 298, 299, 300, 301, 302, 303, 304, 305, 306, 307, 308, 309, 310, 311, 312, 313, 314, 315, 316, 317, 318, 319, 320, 321, 322, 323, 324, 325, 326, 327, 328, 329, 330, 331, 332, 333, 334, 335, 336, 337, 338, 339, 340, 341, 342, 343, 344, 345, 346, 347, 348, 349, 350, 351, 352, 353, 354, 355, 356, 357, 358, 359, 360, 361, 362, 363, 364, 365, 366, 367, 368, 369, 370, 371, 372, 373, 374, 375, 376, 377, 378, 379, 380, 381, 382, 383, 384, 385, 386, 387, 388, 389, 390, 391, 392, 393, 394, 395, 396, 397, 398, 399, 400, 401, 402, 403, 404, 405, 406, 407, 408, 409, 410, 411, 412, 413, 414, 415, 416, 417, 418, 419, 420, 421, 422, 423, 424, 425, 426, 427, 428, 429, 430, 431, 432, 433, 434, 435, 436, 437, 438, 439, 440, 441, 442, 443, 444, 445, 446, 447, 448, 449, 450, 451, 452, 453, 454, 455, 456, 457, 458, 459, 460, 461, 462, 463, 464, 465, 466, 467, 468, 469, 470, 471, 472, 473, 474, 475, 476, 477, 478, 479, 480, 481, 482, 483, 484, 485, 486, 487, 488, 489, 490, 491, 492, 493, 494, 495, 496, 497, 498, 499, 500, 501, 502, 503, 504, 505, 506, 507, 508, 509, 510, 511, 512, 513, 514, 515, 516, 517, 518, 519, 520, 521, 522, 523, 524, 525, 526, 527, 528, 529, 530, 531, 532, 533, 534, 535, 536, 537, 538, 539, 540, 541, 542, 543, 544, 545, 546, 547, 548, 549, 550, 551, 552, 553, 554, 555, 556, 557, 558, 559, 560, 561, 562, 563, 564, 565, 566, 567, 568, 569, 570, 571, 572, 573, 574, 575, 576, 577, 578, 579, 580, 581, 582, 583, 584, 585, 586, 587, 588, 589, 590, 591, 592, 593, 594, 595, 596, 597, 598, 599, 600, 601, 602, 603, 604, 605, 606, 607, 608, 609, 610, 611, 612, 613, 614, 615, 616, 617, 618, 619, 620, 621, 622, 623, 624, 625, 626, 627, 628, 629, 630, 631, 632, 633, 634, 635, 636, 637, 638, 639, 640, 641, 642, 643, 644, 645, 646, 647, 648, 649, 650, 651, 652, 653, 654, 655, 656, 657, 658, 659, 660, 661, 662, 663, 664, 665, 666, 667, 668, 669, 670, 671, 672, 673, 674, 675, 676, 677, 678, 679, 680, 681, 682, 683, 684, 685, 686, 687, 688, 689, 690, 691, 692, 693, 694, 695, 696, 697, 698, 699, 700, 701, 702, 703, 704, 705, 706, 707, 708, 709, 710, 711, 712, 713, 714, 715, 716, 717, 718, 719, 720, 721, 722, 723, 724, 725, 726, 727, 728, 729, 730, 731, 732, 733, 734, 735, 736, 737, 738, 739, 740, 741, 742, 743, 744, 745, 746, 747, 748, 749, 750, 751, 752, 753, 754, 755, 756, 757, 758, 759, 760, 761, 762, 763, 764, 765, 766, 767, 768, 769, 770, 771, 772, 773, 774, 775, 776, 777, 778, 779, 780, 781, 782, 783, 784, 785, 786, 787, 788, 789, 790, 791, 792, 793, 794, 795, 796, 797, 798, 799, 800, 801, 802, 803, 804, 805, 806, 807, 808, 809, 810, 811, 812, 813, 814, 815, 816, 817, 818, 819, 820, 821, 822, 823, 824, 825, 826, 827, 828, 829, 830, 831, 832, 833, 834, 835, 836, 837, 838, 839, 840, 841, 842, 843, 844, 845, 846, 847, 848, 849, 850, 851, 852, 853, 854, 855, 856, 857, 858, 859, 860, 861, 862, 863, 864, 865, 866, 867, 868, 869, 870, 871, 872, 873, 874, 875, 876, 877, 878, 879, 880, 881, 882, 883, 884, 885, 886, 887, 888, 889, 890, 891, 892, 893, 894, 895, 896, 897, 898, 899, 900, 901, 902, 903, 904, 905, 906, 907, 908, 909, 910, 911, 912, 913, 914, 915, 916, 917, 918, 919, 920, 921, 922, 923, 924, 925, 926, 927, 928, 929, 930, 931, 932, 933, 934, 935, 936, 937, 938, 939, 940, 941, 942, 943, 944, 945, 946, 947, 948, 949, 950, 951, 952, 953, 954, 955, 956, 957, 958, 959, 960, 961, 962, 963, 964, 965, 966], \"y\": [null, null, null, null, null, null, null, null, null, null, null, null, null, null, null, null, null, null, null, null, null, null, null, null, null, null, null, null, null, null, null, null, null, null, null, null, null, null, null, null, null, null, null, null, null, null, null, null, null, null, null, null, null, null, null, null, null, null, null, null, null, null, null, null, null, null, null, null, null, null, null, null, null, null, null, null, null, null, null, null, null, null, null, null, null, null, null, null, null, null, null, null, null, null, null, null, null, null, null, null, null, null, null, null, null, null, null, null, null, null, null, null, null, null, null, null, null, null, null, null, null, null, null, null, null, null, null, null, null, null, null, null, null, null, null, null, null, null, null, null, null, null, null, null, null, null, null, null, null, null, null, null, null, null, null, null, null, null, null, null, null, null, null, null, null, null, null, null, null, null, null, null, null, null, null, null, null, null, null, null, null, null, null, null, null, null, null, null, null, null, null, null, null, null, null, null, null, null, null, null, null, null, null, null, null, null, null, null, null, null, null, null, null, null, null, null, null, null, null, null, null, null, null, null, null, null, null, null, null, null, null, null, null, null, null, null, null, null, null, null, null, null, null, null, null, null, null, null, null, null, null, null, null, null, null, null, null, null, null, null, null, null, null, null, null, null, null, null, null, null, null, null, null, null, null, null, null, null, null, null, null, null, null, null, null, null, null, null, null, null, null, null, null, null, null, null, null, null, null, null, null, null, null, null, null, null, null, null, null, null, null, null, null, null, null, null, null, null, null, null, null, null, null, null, null, null, null, null, null, null, null, null, null, null, null, null, null, null, null, null, null, null, null, null, null, null, null, null, null, null, null, null, null, null, null, null, null, null, null, null, null, null, null, null, null, null, null, null, null, null, null, null, null, null, null, null, null, null, null, null, null, null, null, null, null, null, null, null, null, null, null, null, null, null, null, null, null, null, null, null, null, null, null, null, null, null, null, null, null, null, null, null, null, null, null, null, null, null, null, null, null, null, null, null, null, null, null, null, null, null, null, null, null, null, null, null, null, null, null, null, null, null, null, null, null, null, null, null, null, null, null, null, null, null, null, null, null, null, null, null, null, null, null, null, null, null, null, null, null, null, null, null, null, null, null, null, null, null, null, null, null, null, null, null, null, null, null, null, null, null, null, null, null, null, null, null, null, null, null, null, null, null, null, null, null, null, null, null, null, null, null, null, null, null, null, null, null, null, null, null, null, null, null, null, null, null, null, null, null, null, null, null, null, null, null, null, null, null, null, null, null, null, null, null, null, null, null, null, null, null, null, null, null, null, null, null, null, null, null, null, null, null, null, null, null, null, null, null, null, null, null, null, null, null, null, null, null, null, null, null, null, null, null, null, null, null, null, null, null, null, null, null, null, null, null, null, null, null, null, null, null, null, null, null, null, null, null, null, null, null, null, null, null, null, null, null, null, null, null, null, null, null, null, null, null, null, null, null, null, null, null, null, null, null, null, null, null, null, null, null, null, null, null, null, null, null, null, null, null, null, null, null, null, null, null, null, null, null, null, null, null, null, null, null, null, null, null, null, null, null, null, null, null, null, null, null, null, null, null, null, null, null, null, null, null, null, null, null, null, null, null, null, null, null, null, null, null, null, null, null, null, null, null, null, null, null, null, null, null, null, null, null, null, null, null, null, null, null, null, null, null, null, null, null, null, null, null, null, null, null, null, null, null, null, null, null, null, null, null, null, null, null, null, null, null, null, null, null, null, null, null, null, null, null, null, null, null, null, null, null, null, null, null, null, null, null, null, null, null, null, null, null, null, null, null, null, null, 353.25799560546875, 351.2986755371094, 343.47186279296875, 334.4254150390625, 328.78131103515625, 329.200439453125, 331.5356750488281, 332.0771484375, 334.9270935058594, 337.74981689453125, 339.7786865234375, 343.8798828125, 349.094970703125, 352.23779296875, 351.6752624511719, 350.45184326171875, 348.7498779296875, 351.0881042480469, 352.3456115722656, 354.610107421875, 356.1202392578125, 358.2046813964844, 359.4068603515625, 359.0636291503906, 359.7423095703125, 360.93914794921875, 362.2706298828125, 362.7253112792969, 361.31353759765625, 359.2062683105469, 355.7687683105469, 353.528076171875, 354.0693359375, 353.7784729003906, 352.3790283203125, 353.3354797363281, 354.264892578125, 356.26837158203125, 357.64111328125, 358.8909912109375, 360.2763671875, 360.2594299316406, 363.9059143066406, 368.8984069824219, 368.52923583984375, 367.2270812988281, 364.29229736328125, 359.5794982910156, 355.9407958984375, 354.3382568359375, 356.760009765625, 360.50140380859375, 364.2769775390625, 366.473876953125, 366.581298828125, 364.697509765625, 363.5550231933594, 362.79278564453125, 363.46295166015625, 359.989501953125, 355.1181945800781, 353.7351379394531, 353.21173095703125, 354.55096435546875, 360.86773681640625, 368.868408203125, 373.21441650390625, 373.165771484375, 373.0905456542969, 372.2474060058594, 371.017822265625, 372.04669189453125, 373.7336120605469, 376.7668151855469, 377.9358825683594, 375.5867614746094, 370.7648620605469, 365.94744873046875, 361.9537048339844, 355.1143493652344, 349.2194519042969, 347.891357421875, 350.0482177734375, 351.7691345214844, 351.2061767578125, 351.4715576171875, 353.70025634765625, 354.02606201171875, 353.968994140625, 354.0479431152344, 352.55224609375, 351.6009216308594, 348.7225036621094, 344.1767578125, 344.5532531738281, 347.802978515625, 351.62994384765625, 355.68389892578125, 356.2830810546875, 354.93963623046875, 351.7934265136719, 347.94097900390625, 344.0531921386719, 344.2392578125, 347.7678527832031, 353.6080017089844, 359.0501708984375, 363.8416748046875, 367.5398254394531, 366.8005676269531, 364.8534851074219, 365.0653076171875, 365.33563232421875, 367.6321716308594, 370.12530517578125, 373.8125915527344, 376.6940002441406, 377.090576171875, 377.335693359375, 377.7032470703125, 377.738525390625, 375.7533264160156, 371.8302001953125, 367.8819580078125, 363.9587097167969, 351.1105041503906, 335.1877136230469, 321.44671630859375, 311.6285095214844, 309.36932373046875, 313.1817626953125, 321.2291259765625, 328.0916748046875, 330.6971435546875, 329.9861145019531, 327.30206298828125, 324.30126953125, 319.0411376953125, 314.82659912109375, 310.6393127441406, 310.86138916015625, 311.0306701660156, 311.63671875, 312.5389709472656, 309.8464050292969, 305.5697326660156, 303.7210693359375, 305.05126953125, 304.6908264160156, 303.4095153808594, 301.837158203125, 299.0050354003906, 297.4873962402344, 295.90216064453125, 294.9767761230469, 295.89599609375, 296.55859375, 295.6070861816406, 295.0254211425781, 295.04364013671875, 294.53021240234375, 294.97637939453125, 294.13922119140625, 292.981201171875, 292.2728271484375, 293.2591247558594, 294.6944885253906, 297.2345886230469, 297.7178955078125, 295.87640380859375, 289.38641357421875, 281.48065185546875, 272.4229736328125, 267.8733215332031, 265.8332214355469, 265.2663879394531, 266.6271667480469, 268.9117431640625, 270.4993591308594, 271.4073486328125, 273.0796203613281, 274.9200439453125, 275.61309814453125, 274.90277099609375, 276.8351135253906, 280.1513671875, 283.9461669921875, 286.4352722167969, 288.2412109375, null]}, {\"mode\": \"lines\", \"name\": \"Actual Value\", \"type\": \"scatter\", \"x\": [0, 1, 2, 3, 4, 5, 6, 7, 8, 9, 10, 11, 12, 13, 14, 15, 16, 17, 18, 19, 20, 21, 22, 23, 24, 25, 26, 27, 28, 29, 30, 31, 32, 33, 34, 35, 36, 37, 38, 39, 40, 41, 42, 43, 44, 45, 46, 47, 48, 49, 50, 51, 52, 53, 54, 55, 56, 57, 58, 59, 60, 61, 62, 63, 64, 65, 66, 67, 68, 69, 70, 71, 72, 73, 74, 75, 76, 77, 78, 79, 80, 81, 82, 83, 84, 85, 86, 87, 88, 89, 90, 91, 92, 93, 94, 95, 96, 97, 98, 99, 100, 101, 102, 103, 104, 105, 106, 107, 108, 109, 110, 111, 112, 113, 114, 115, 116, 117, 118, 119, 120, 121, 122, 123, 124, 125, 126, 127, 128, 129, 130, 131, 132, 133, 134, 135, 136, 137, 138, 139, 140, 141, 142, 143, 144, 145, 146, 147, 148, 149, 150, 151, 152, 153, 154, 155, 156, 157, 158, 159, 160, 161, 162, 163, 164, 165, 166, 167, 168, 169, 170, 171, 172, 173, 174, 175, 176, 177, 178, 179, 180, 181, 182, 183, 184, 185, 186, 187, 188, 189, 190, 191, 192, 193, 194, 195, 196, 197, 198, 199, 200, 201, 202, 203, 204, 205, 206, 207, 208, 209, 210, 211, 212, 213, 214, 215, 216, 217, 218, 219, 220, 221, 222, 223, 224, 225, 226, 227, 228, 229, 230, 231, 232, 233, 234, 235, 236, 237, 238, 239, 240, 241, 242, 243, 244, 245, 246, 247, 248, 249, 250, 251, 252, 253, 254, 255, 256, 257, 258, 259, 260, 261, 262, 263, 264, 265, 266, 267, 268, 269, 270, 271, 272, 273, 274, 275, 276, 277, 278, 279, 280, 281, 282, 283, 284, 285, 286, 287, 288, 289, 290, 291, 292, 293, 294, 295, 296, 297, 298, 299, 300, 301, 302, 303, 304, 305, 306, 307, 308, 309, 310, 311, 312, 313, 314, 315, 316, 317, 318, 319, 320, 321, 322, 323, 324, 325, 326, 327, 328, 329, 330, 331, 332, 333, 334, 335, 336, 337, 338, 339, 340, 341, 342, 343, 344, 345, 346, 347, 348, 349, 350, 351, 352, 353, 354, 355, 356, 357, 358, 359, 360, 361, 362, 363, 364, 365, 366, 367, 368, 369, 370, 371, 372, 373, 374, 375, 376, 377, 378, 379, 380, 381, 382, 383, 384, 385, 386, 387, 388, 389, 390, 391, 392, 393, 394, 395, 396, 397, 398, 399, 400, 401, 402, 403, 404, 405, 406, 407, 408, 409, 410, 411, 412, 413, 414, 415, 416, 417, 418, 419, 420, 421, 422, 423, 424, 425, 426, 427, 428, 429, 430, 431, 432, 433, 434, 435, 436, 437, 438, 439, 440, 441, 442, 443, 444, 445, 446, 447, 448, 449, 450, 451, 452, 453, 454, 455, 456, 457, 458, 459, 460, 461, 462, 463, 464, 465, 466, 467, 468, 469, 470, 471, 472, 473, 474, 475, 476, 477, 478, 479, 480, 481, 482, 483, 484, 485, 486, 487, 488, 489, 490, 491, 492, 493, 494, 495, 496, 497, 498, 499, 500, 501, 502, 503, 504, 505, 506, 507, 508, 509, 510, 511, 512, 513, 514, 515, 516, 517, 518, 519, 520, 521, 522, 523, 524, 525, 526, 527, 528, 529, 530, 531, 532, 533, 534, 535, 536, 537, 538, 539, 540, 541, 542, 543, 544, 545, 546, 547, 548, 549, 550, 551, 552, 553, 554, 555, 556, 557, 558, 559, 560, 561, 562, 563, 564, 565, 566, 567, 568, 569, 570, 571, 572, 573, 574, 575, 576, 577, 578, 579, 580, 581, 582, 583, 584, 585, 586, 587, 588, 589, 590, 591, 592, 593, 594, 595, 596, 597, 598, 599, 600, 601, 602, 603, 604, 605, 606, 607, 608, 609, 610, 611, 612, 613, 614, 615, 616, 617, 618, 619, 620, 621, 622, 623, 624, 625, 626, 627, 628, 629, 630, 631, 632, 633, 634, 635, 636, 637, 638, 639, 640, 641, 642, 643, 644, 645, 646, 647, 648, 649, 650, 651, 652, 653, 654, 655, 656, 657, 658, 659, 660, 661, 662, 663, 664, 665, 666, 667, 668, 669, 670, 671, 672, 673, 674, 675, 676, 677, 678, 679, 680, 681, 682, 683, 684, 685, 686, 687, 688, 689, 690, 691, 692, 693, 694, 695, 696, 697, 698, 699, 700, 701, 702, 703, 704, 705, 706, 707, 708, 709, 710, 711, 712, 713, 714, 715, 716, 717, 718, 719, 720, 721, 722, 723, 724, 725, 726, 727, 728, 729, 730, 731, 732, 733, 734, 735, 736, 737, 738, 739, 740, 741, 742, 743, 744, 745, 746, 747, 748, 749, 750, 751, 752, 753, 754, 755, 756, 757, 758, 759, 760, 761, 762, 763, 764, 765, 766, 767, 768, 769, 770, 771, 772, 773, 774, 775, 776, 777, 778, 779, 780, 781, 782, 783, 784, 785, 786, 787, 788, 789, 790, 791, 792, 793, 794, 795, 796, 797, 798, 799, 800, 801, 802, 803, 804, 805, 806, 807, 808, 809, 810, 811, 812, 813, 814, 815, 816, 817, 818, 819, 820, 821, 822, 823, 824, 825, 826, 827, 828, 829, 830, 831, 832, 833, 834, 835, 836, 837, 838, 839, 840, 841, 842, 843, 844, 845, 846, 847, 848, 849, 850, 851, 852, 853, 854, 855, 856, 857, 858, 859, 860, 861, 862, 863, 864, 865, 866, 867, 868, 869, 870, 871, 872, 873, 874, 875, 876, 877, 878, 879, 880, 881, 882, 883, 884, 885, 886, 887, 888, 889, 890, 891, 892, 893, 894, 895, 896, 897, 898, 899, 900, 901, 902, 903, 904, 905, 906, 907, 908, 909, 910, 911, 912, 913, 914, 915, 916, 917, 918, 919, 920, 921, 922, 923, 924, 925, 926, 927, 928, 929, 930, 931, 932, 933, 934, 935, 936, 937, 938, 939, 940, 941, 942, 943, 944, 945, 946, 947, 948, 949, 950, 951, 952, 953, 954, 955, 956, 957, 958, 959, 960, 961, 962, 963, 964, 965, 966], \"y\": [123.0, 123.0, 118.0, 117.0, 116.0, 118.0, 117.0, 117.0, 119.0, 117.0, 114.0, 110.0, 108.0, 118.0, 115.00000000000001, 111.0, 115.00000000000001, 117.0, 107.0, 107.0, 104.00000000000001, 108.0, 108.0, 102.0, 101.0, 99.00000000000001, 98.0, 91.0, 94.0, 92.0, 94.0, 91.0, 91.0, 90.0, 83.00000000000001, 83.00000000000001, 86.0, 87.99999999999999, 86.0, 87.0, 89.0, 95.0, 90.0, 89.0, 92.0, 89.0, 92.0, 95.0, 95.0, 92.99999999999999, 98.0, 98.0, 98.0, 102.0, 95.0, 96.0, 98.0, 97.0, 98.0, 98.0, 98.0, 99.00000000000001, 100.0, 101.0, 101.0, 100.0, 100.0, 98.0, 101.0, 104.00000000000001, 102.0, 102.0, 106.0, 104.00000000000001, 105.0, 105.0, 104.00000000000001, 104.00000000000001, 103.0, 107.0, 110.0, 110.0, 112.0, 108.0, 94.0, 97.0, 95.0, 96.0, 94.0, 92.0, 91.0, 90.0, 90.0, 92.99999999999999, 92.0, 91.0, 89.0, 91.0, 91.0, 92.99999999999999, 90.0, 87.99999999999999, 87.99999999999999, 89.0, 89.0, 91.0, 90.0, 92.0, 95.0, 98.0, 100.0, 103.0, 103.0, 103.0, 102.0, 101.0, 100.0, 101.0, 100.0, 98.0, 97.0, 94.0, 94.0, 94.0, 94.0, 95.0, 94.0, 94.0, 91.0, 90.0, 92.0, 87.99999999999999, 85.0, 87.99999999999999, 91.0, 91.0, 97.0, 98.0, 95.0, 95.0, 97.0, 95.0, 96.0, 96.0, 98.0, 98.0, 99.00000000000001, 86.0, 87.99999999999999, 86.0, 86.0, 87.99999999999999, 91.0, 92.0, 92.0, 91.0, 94.0, 94.0, 92.99999999999999, 92.99999999999999, 97.0, 95.0, 94.0, 94.0, 96.0, 97.0, 95.0, 95.0, 96.0, 96.0, 96.0, 95.0, 96.0, 95.0, 97.0, 98.0, 97.0, 97.0, 97.0, 97.0, 97.0, 100.0, 99.00000000000001, 100.0, 97.0, 99.00000000000001, 96.0, 97.0, 97.0, 99.00000000000001, 98.0, 98.0, 95.0, 96.0, 96.0, 95.0, 97.0, 97.0, 97.0, 99.00000000000001, 103.0, 102.0, 106.0, 105.0, 105.0, 103.0, 101.0, 100.0, 100.0, 101.0, 100.0, 119.0, 122.0, 123.0, 128.0, 127.0, 127.0, 127.0, 126.0, 127.0, 124.99999999999999, 123.0, 122.0, 122.0, 122.0, 124.99999999999999, 124.0, 122.0, 115.00000000000001, 115.00000000000001, 113.0, 114.0, 115.00000000000001, 115.00000000000001, 115.00000000000001, 118.0, 118.0, 118.0, 117.0, 117.0, 118.0, 117.0, 117.0, 121.0, 119.0, 124.99999999999999, 124.99999999999999, 123.0, 123.0, 123.0, 124.0, 123.0, 124.99999999999999, 124.0, 124.99999999999999, 124.99999999999999, 127.0, 126.0, 126.0, 128.0, 126.0, 124.99999999999999, 124.0, 127.0, 129.0, 132.0, 131.0, 131.0, 130.0, 131.0, 129.0, 134.0, 133.0, 133.0, 138.0, 139.0, 137.0, 140.0, 140.0, 139.0, 142.0, 141.0, 141.0, 141.0, 139.0, 140.0, 141.0, 144.0, 145.0, 144.0, 145.0, 143.0, 141.0, 142.0, 142.0, 142.0, 143.0, 144.0, 143.0, 143.0, 143.0, 142.0, 143.0, 140.0, 139.0, 142.0, 141.0, 140.0, 141.0, 141.0, 144.0, 143.0, 145.0, 144.0, 145.0, 146.0, 142.0, 143.0, 142.0, 142.0, 144.0, 145.0, 146.0, 148.0, 148.0, 147.0, 146.0, 144.0, 144.0, 143.0, 144.0, 144.0, 144.0, 143.0, 147.0, 143.0, 140.0, 141.0, 143.0, 144.0, 152.0, 150.0, 153.0, 152.0, 155.0, 156.0, 156.0, 157.0, 157.0, 156.0, 157.0, 160.0, 159.0, 161.0, 160.0, 159.0, 153.0, 156.0, 157.0, 157.0, 158.0, 158.0, 163.0, 162.0, 163.0, 163.0, 163.0, 165.0, 165.0, 165.0, 166.0, 166.0, 158.0, 151.0, 153.0, 152.0, 152.0, 152.0, 153.0, 152.0, 155.0, 155.0, 158.0, 158.0, 151.0, 153.0, 150.0, 149.0, 146.0, 148.0, 146.0, 150.0, 153.0, 154.0, 159.0, 158.0, 161.0, 162.0, 184.0, 184.0, 184.0, 189.0, 188.0, 187.00000000000003, 189.0, 183.0, 184.0, 182.0, 182.0, 181.0, 179.0, 180.0, 181.0, 178.0, 175.99999999999997, 169.0, 171.0, 171.0, 169.0, 170.0, 166.0, 167.0, 167.0, 169.0, 169.0, 168.0, 166.0, 167.0, 169.0, 174.99999999999997, 174.99999999999997, 174.99999999999997, 174.99999999999997, 179.0, 179.0, 175.99999999999997, 182.0, 185.0, 184.0, 183.0, 182.0, 185.0, 185.99999999999997, 185.99999999999997, 189.0, 187.00000000000003, 179.0, 179.0, 182.0, 181.0, 181.0, 177.00000000000003, 179.0, 184.0, 194.0, 198.00000000000003, 196.99999999999997, 195.0, 195.0, 196.0, 199.0, 203.0, 199.0, 196.0, 195.0, 194.0, 192.0, 196.0, 194.0, 195.0, 200.0, 198.00000000000003, 196.0, 198.00000000000003, 199.0, 200.0, 200.0, 196.0, 196.0, 194.0, 192.0, 195.0, 196.0, 192.0, 196.0, 193.0, 194.0, 196.0, 196.0, 196.0, 195.0, 199.0, 188.0, 188.0, 187.00000000000003, 184.0, 184.0, 185.0, 185.0, 189.0, 185.99999999999997, 185.99999999999997, 188.0, 190.0, 190.0, 190.0, 187.00000000000003, 189.0, 189.0, 190.0, 188.0, 185.99999999999997, 193.0, 192.0, 201.0, 205.0, 206.0, 210.0, 212.0, 209.00000000000003, 213.0, 217.0, 221.0, 222.0, 217.99999999999997, 220.0, 220.0, 228.0, 249.99999999999997, 261.0, 270.0, 275.0, 285.0, 279.0, 270.0, 265.0, 267.0, 254.0, 266.0, 265.0, 249.99999999999997, 249.0, 258.0, 258.0, 266.0, 280.0, 279.0, 279.0, 281.0, 278.0, 286.0, 294.0, 291.0, 291.0, 290.0, 301.0, 315.0, 325.0, 321.0, 317.0, 331.0, 321.0, 316.0, 322.0, 321.0, 318.0, 313.0, 318.0, 316.0, 307.0, 301.0, 320.0, 301.0, 286.0, 295.0, 280.0, 284.0, 289.0, 294.0, 289.0, 290.0, 298.0, 304.0, 309.0, 312.0, 308.0, 336.0, 335.0, 333.0, 328.0, 319.0, 307.0, 306.0, 314.0, 312.0, 312.0, 313.0, 313.0, 312.0, 320.0, 326.0, 327.0, 330.0, 330.0, 326.0, 329.0, 326.0, 328.0, 325.0, 324.0, 332.0, 332.0, 345.0, 349.0, 350.99999999999994, 349.99999999999994, 354.00000000000006, 351.99999999999994, 360.0, 362.0, 366.0, 367.0, 361.0, 361.0, 361.0, 364.0, 380.0, 392.99999999999994, 392.0, 390.0, 405.0, 417.00000000000006, 414.99999999999994, 411.0, 384.0, 399.0, 390.0, 395.00000000000006, 391.0, 398.0, 391.0, 398.0, 408.0, 419.0, 416.00000000000006, 419.0, 413.99999999999994, 396.00000000000006, 400.0, 379.0, 375.00000000000006, 364.0, 361.0, 363.0, 357.0, 363.0, 363.0, 355.0, 335.0, 337.0, 338.0, 345.0, 343.0, 350.99999999999994, 351.99999999999994, 348.0, 349.0, 346.0, 341.0, 337.0, 326.0, 322.0, 317.0, 328.0, 338.0, 344.0, 339.0, 359.0, 365.0, 368.0, 368.0, 370.99999999999994, 368.0, 364.0, 341.0, 346.0, 349.0, 348.0, 356.0, 370.0, 368.0, 365.0, 349.99999999999994, 368.0, 367.0, 365.0, 361.0, 370.0, 369.0, 378.0, 381.0, 374.00000000000006, 381.0, 377.0, 377.0, 364.0, 350.99999999999994, 349.0, 356.0, 326.0, 321.0, 340.0, 333.0, 346.0, 365.0, 347.0, 333.0, 330.0, 333.0, 302.0, 313.0, 300.0, 285.0, 286.0, 302.0, 317.0, 309.0, 315.0, 311.0, 328.0, 318.0, 303.0, 294.0, 294.0, 287.0, 290.0, 286.0, 271.0, 267.0, 262.0, 259.0, 261.0, 267.0, 283.0, 289.0, 286.0, 290.0, 275.0, 283.0, 265.0, 270.0, 265.0, 275.0, 276.0, 267.0, 263.0, 271.0, 267.0, 261.0, 246.0, 234.0, 254.0, 256.0, 256.0, 268.0, 268.0, 271.0, 298.0, 315.0, 320.0, 320.0, 325.0, 338.0, 333.0, 355.0, 350.99999999999994, 353.00000000000006, 339.0, 325.0, 322.0, 327.0, 338.0, 336.0, 329.0, 341.0, 340.0, 340.0, 350.99999999999994, 356.0, 351.99999999999994, 345.0, 348.0, 346.0, 360.0, 351.99999999999994, 359.0, 357.0, 362.0, 360.0, 357.0, 363.0, 364.0, 365.0, 363.0, 358.0, 357.0, 350.99999999999994, 354.00000000000006, 360.0, 353.00000000000006, 349.99999999999994, 359.0, 356.0, 361.0, 359.0, 361.0, 363.0, 359.0, 375.00000000000006, 378.0, 361.0, 366.0, 360.0, 353.00000000000006, 355.0, 357.0, 367.0, 368.0, 370.0, 368.0, 365.0, 361.0, 365.0, 364.0, 368.0, 350.99999999999994, 349.0, 359.0, 355.0, 360.0, 377.0, 382.0, 374.00000000000006, 368.0, 375.00000000000006, 371.99999999999994, 370.99999999999994, 379.0, 379.0, 385.0, 379.0, 370.0, 364.0, 363.0, 361.0, 345.0, 346.0, 355.0, 359.0, 354.00000000000006, 348.0, 354.00000000000006, 360.0, 351.99999999999994, 354.00000000000006, 355.0, 349.0, 351.99999999999994, 343.0, 337.0, 353.00000000000006, 356.0, 357.0, 361.0, 351.99999999999994, 350.99999999999994, 346.0, 343.0, 340.0, 350.99999999999994, 357.0, 364.0, 365.0, 369.0, 370.99999999999994, 360.0, 362.0, 370.0, 367.0, 375.00000000000006, 375.00000000000006, 382.0, 381.0, 376.0, 380.0, 381.0, 380.0, 372.99999999999994, 367.0, 366.0, 362.0, 325.0, 315.0, 311.0, 307.0, 318.0, 326.0, 336.0, 333.0, 326.0, 323.0, 320.0, 319.0, 308.0, 310.0, 304.0, 316.0, 309.0, 311.0, 312.0, 299.0, 296.0, 303.0, 309.0, 299.0, 298.0, 297.0, 291.0, 295.0, 291.0, 292.0, 297.0, 294.0, 289.0, 292.0, 293.0, 290.0, 294.0, 288.0, 288.0, 289.0, 294.0, 294.0, 299.0, 292.0, 287.0, 271.0, 266.0, 255.0, 265.0, 263.0, 263.0, 268.0, 270.0, 268.0, 268.0, 273.0, 274.0, 271.0, 268.0, 280.0, 283.0, 286.0, 284.0, 286.0, 293.0, 275.0]}],\n",
              "                        {\"annotations\": [{\"font\": {\"color\": \"white\", \"family\": \"Rockwell\", \"size\": 26}, \"showarrow\": false, \"text\": \"Results (LSTM)\", \"x\": 0.0, \"xanchor\": \"left\", \"xref\": \"paper\", \"y\": 1.05, \"yanchor\": \"bottom\", \"yref\": \"paper\"}], \"showlegend\": true, \"template\": {\"data\": {\"bar\": [{\"error_x\": {\"color\": \"#f2f5fa\"}, \"error_y\": {\"color\": \"#f2f5fa\"}, \"marker\": {\"line\": {\"color\": \"rgb(17,17,17)\", \"width\": 0.5}}, \"type\": \"bar\"}], \"barpolar\": [{\"marker\": {\"line\": {\"color\": \"rgb(17,17,17)\", \"width\": 0.5}}, \"type\": \"barpolar\"}], \"carpet\": [{\"aaxis\": {\"endlinecolor\": \"#A2B1C6\", \"gridcolor\": \"#506784\", \"linecolor\": \"#506784\", \"minorgridcolor\": \"#506784\", \"startlinecolor\": \"#A2B1C6\"}, \"baxis\": {\"endlinecolor\": \"#A2B1C6\", \"gridcolor\": \"#506784\", \"linecolor\": \"#506784\", \"minorgridcolor\": \"#506784\", \"startlinecolor\": \"#A2B1C6\"}, \"type\": \"carpet\"}], \"choropleth\": [{\"colorbar\": {\"outlinewidth\": 0, \"ticks\": \"\"}, \"type\": \"choropleth\"}], \"contour\": [{\"colorbar\": {\"outlinewidth\": 0, \"ticks\": \"\"}, \"colorscale\": [[0.0, \"#0d0887\"], [0.1111111111111111, \"#46039f\"], [0.2222222222222222, \"#7201a8\"], [0.3333333333333333, \"#9c179e\"], [0.4444444444444444, \"#bd3786\"], [0.5555555555555556, \"#d8576b\"], [0.6666666666666666, \"#ed7953\"], [0.7777777777777778, \"#fb9f3a\"], [0.8888888888888888, \"#fdca26\"], [1.0, \"#f0f921\"]], \"type\": \"contour\"}], \"contourcarpet\": [{\"colorbar\": {\"outlinewidth\": 0, \"ticks\": \"\"}, \"type\": \"contourcarpet\"}], \"heatmap\": [{\"colorbar\": {\"outlinewidth\": 0, \"ticks\": \"\"}, \"colorscale\": [[0.0, \"#0d0887\"], [0.1111111111111111, \"#46039f\"], [0.2222222222222222, \"#7201a8\"], [0.3333333333333333, \"#9c179e\"], [0.4444444444444444, \"#bd3786\"], [0.5555555555555556, \"#d8576b\"], [0.6666666666666666, \"#ed7953\"], [0.7777777777777778, \"#fb9f3a\"], [0.8888888888888888, \"#fdca26\"], [1.0, \"#f0f921\"]], \"type\": \"heatmap\"}], \"heatmapgl\": [{\"colorbar\": {\"outlinewidth\": 0, \"ticks\": \"\"}, \"colorscale\": [[0.0, \"#0d0887\"], [0.1111111111111111, \"#46039f\"], [0.2222222222222222, \"#7201a8\"], [0.3333333333333333, \"#9c179e\"], [0.4444444444444444, \"#bd3786\"], [0.5555555555555556, \"#d8576b\"], [0.6666666666666666, \"#ed7953\"], [0.7777777777777778, \"#fb9f3a\"], [0.8888888888888888, \"#fdca26\"], [1.0, \"#f0f921\"]], \"type\": \"heatmapgl\"}], \"histogram\": [{\"marker\": {\"colorbar\": {\"outlinewidth\": 0, \"ticks\": \"\"}}, \"type\": \"histogram\"}], \"histogram2d\": [{\"colorbar\": {\"outlinewidth\": 0, \"ticks\": \"\"}, \"colorscale\": [[0.0, \"#0d0887\"], [0.1111111111111111, \"#46039f\"], [0.2222222222222222, \"#7201a8\"], [0.3333333333333333, \"#9c179e\"], [0.4444444444444444, \"#bd3786\"], [0.5555555555555556, \"#d8576b\"], [0.6666666666666666, \"#ed7953\"], [0.7777777777777778, \"#fb9f3a\"], [0.8888888888888888, \"#fdca26\"], [1.0, \"#f0f921\"]], \"type\": \"histogram2d\"}], \"histogram2dcontour\": [{\"colorbar\": {\"outlinewidth\": 0, \"ticks\": \"\"}, \"colorscale\": [[0.0, \"#0d0887\"], [0.1111111111111111, \"#46039f\"], [0.2222222222222222, \"#7201a8\"], [0.3333333333333333, \"#9c179e\"], [0.4444444444444444, \"#bd3786\"], [0.5555555555555556, \"#d8576b\"], [0.6666666666666666, \"#ed7953\"], [0.7777777777777778, \"#fb9f3a\"], [0.8888888888888888, \"#fdca26\"], [1.0, \"#f0f921\"]], \"type\": \"histogram2dcontour\"}], \"mesh3d\": [{\"colorbar\": {\"outlinewidth\": 0, \"ticks\": \"\"}, \"type\": \"mesh3d\"}], \"parcoords\": [{\"line\": {\"colorbar\": {\"outlinewidth\": 0, \"ticks\": \"\"}}, \"type\": \"parcoords\"}], \"pie\": [{\"automargin\": true, \"type\": \"pie\"}], \"scatter\": [{\"marker\": {\"line\": {\"color\": \"#283442\"}}, \"type\": \"scatter\"}], \"scatter3d\": [{\"line\": {\"colorbar\": {\"outlinewidth\": 0, \"ticks\": \"\"}}, \"marker\": {\"colorbar\": {\"outlinewidth\": 0, \"ticks\": \"\"}}, \"type\": \"scatter3d\"}], \"scattercarpet\": [{\"marker\": {\"colorbar\": {\"outlinewidth\": 0, \"ticks\": \"\"}}, \"type\": \"scattercarpet\"}], \"scattergeo\": [{\"marker\": {\"colorbar\": {\"outlinewidth\": 0, \"ticks\": \"\"}}, \"type\": \"scattergeo\"}], \"scattergl\": [{\"marker\": {\"line\": {\"color\": \"#283442\"}}, \"type\": \"scattergl\"}], \"scattermapbox\": [{\"marker\": {\"colorbar\": {\"outlinewidth\": 0, \"ticks\": \"\"}}, \"type\": \"scattermapbox\"}], \"scatterpolar\": [{\"marker\": {\"colorbar\": {\"outlinewidth\": 0, \"ticks\": \"\"}}, \"type\": \"scatterpolar\"}], \"scatterpolargl\": [{\"marker\": {\"colorbar\": {\"outlinewidth\": 0, \"ticks\": \"\"}}, \"type\": \"scatterpolargl\"}], \"scatterternary\": [{\"marker\": {\"colorbar\": {\"outlinewidth\": 0, \"ticks\": \"\"}}, \"type\": \"scatterternary\"}], \"surface\": [{\"colorbar\": {\"outlinewidth\": 0, \"ticks\": \"\"}, \"colorscale\": [[0.0, \"#0d0887\"], [0.1111111111111111, \"#46039f\"], [0.2222222222222222, \"#7201a8\"], [0.3333333333333333, \"#9c179e\"], [0.4444444444444444, \"#bd3786\"], [0.5555555555555556, \"#d8576b\"], [0.6666666666666666, \"#ed7953\"], [0.7777777777777778, \"#fb9f3a\"], [0.8888888888888888, \"#fdca26\"], [1.0, \"#f0f921\"]], \"type\": \"surface\"}], \"table\": [{\"cells\": {\"fill\": {\"color\": \"#506784\"}, \"line\": {\"color\": \"rgb(17,17,17)\"}}, \"header\": {\"fill\": {\"color\": \"#2a3f5f\"}, \"line\": {\"color\": \"rgb(17,17,17)\"}}, \"type\": \"table\"}]}, \"layout\": {\"annotationdefaults\": {\"arrowcolor\": \"#f2f5fa\", \"arrowhead\": 0, \"arrowwidth\": 1}, \"coloraxis\": {\"colorbar\": {\"outlinewidth\": 0, \"ticks\": \"\"}}, \"colorscale\": {\"diverging\": [[0, \"#8e0152\"], [0.1, \"#c51b7d\"], [0.2, \"#de77ae\"], [0.3, \"#f1b6da\"], [0.4, \"#fde0ef\"], [0.5, \"#f7f7f7\"], [0.6, \"#e6f5d0\"], [0.7, \"#b8e186\"], [0.8, \"#7fbc41\"], [0.9, \"#4d9221\"], [1, \"#276419\"]], \"sequential\": [[0.0, \"#0d0887\"], [0.1111111111111111, \"#46039f\"], [0.2222222222222222, \"#7201a8\"], [0.3333333333333333, \"#9c179e\"], [0.4444444444444444, \"#bd3786\"], [0.5555555555555556, \"#d8576b\"], [0.6666666666666666, \"#ed7953\"], [0.7777777777777778, \"#fb9f3a\"], [0.8888888888888888, \"#fdca26\"], [1.0, \"#f0f921\"]], \"sequentialminus\": [[0.0, \"#0d0887\"], [0.1111111111111111, \"#46039f\"], [0.2222222222222222, \"#7201a8\"], [0.3333333333333333, \"#9c179e\"], [0.4444444444444444, \"#bd3786\"], [0.5555555555555556, \"#d8576b\"], [0.6666666666666666, \"#ed7953\"], [0.7777777777777778, \"#fb9f3a\"], [0.8888888888888888, \"#fdca26\"], [1.0, \"#f0f921\"]]}, \"colorway\": [\"#636efa\", \"#EF553B\", \"#00cc96\", \"#ab63fa\", \"#FFA15A\", \"#19d3f3\", \"#FF6692\", \"#B6E880\", \"#FF97FF\", \"#FECB52\"], \"font\": {\"color\": \"#f2f5fa\"}, \"geo\": {\"bgcolor\": \"rgb(17,17,17)\", \"lakecolor\": \"rgb(17,17,17)\", \"landcolor\": \"rgb(17,17,17)\", \"showlakes\": true, \"showland\": true, \"subunitcolor\": \"#506784\"}, \"hoverlabel\": {\"align\": \"left\"}, \"hovermode\": \"closest\", \"mapbox\": {\"style\": \"dark\"}, \"paper_bgcolor\": \"rgb(17,17,17)\", \"plot_bgcolor\": \"rgb(17,17,17)\", \"polar\": {\"angularaxis\": {\"gridcolor\": \"#506784\", \"linecolor\": \"#506784\", \"ticks\": \"\"}, \"bgcolor\": \"rgb(17,17,17)\", \"radialaxis\": {\"gridcolor\": \"#506784\", \"linecolor\": \"#506784\", \"ticks\": \"\"}}, \"scene\": {\"xaxis\": {\"backgroundcolor\": \"rgb(17,17,17)\", \"gridcolor\": \"#506784\", \"gridwidth\": 2, \"linecolor\": \"#506784\", \"showbackground\": true, \"ticks\": \"\", \"zerolinecolor\": \"#C8D4E3\"}, \"yaxis\": {\"backgroundcolor\": \"rgb(17,17,17)\", \"gridcolor\": \"#506784\", \"gridwidth\": 2, \"linecolor\": \"#506784\", \"showbackground\": true, \"ticks\": \"\", \"zerolinecolor\": \"#C8D4E3\"}, \"zaxis\": {\"backgroundcolor\": \"rgb(17,17,17)\", \"gridcolor\": \"#506784\", \"gridwidth\": 2, \"linecolor\": \"#506784\", \"showbackground\": true, \"ticks\": \"\", \"zerolinecolor\": \"#C8D4E3\"}}, \"shapedefaults\": {\"line\": {\"color\": \"#f2f5fa\"}}, \"sliderdefaults\": {\"bgcolor\": \"#C8D4E3\", \"bordercolor\": \"rgb(17,17,17)\", \"borderwidth\": 1, \"tickwidth\": 0}, \"ternary\": {\"aaxis\": {\"gridcolor\": \"#506784\", \"linecolor\": \"#506784\", \"ticks\": \"\"}, \"baxis\": {\"gridcolor\": \"#506784\", \"linecolor\": \"#506784\", \"ticks\": \"\"}, \"bgcolor\": \"rgb(17,17,17)\", \"caxis\": {\"gridcolor\": \"#506784\", \"linecolor\": \"#506784\", \"ticks\": \"\"}}, \"title\": {\"x\": 0.05}, \"updatemenudefaults\": {\"bgcolor\": \"#506784\", \"borderwidth\": 0}, \"xaxis\": {\"automargin\": true, \"gridcolor\": \"#283442\", \"linecolor\": \"#506784\", \"ticks\": \"\", \"title\": {\"standoff\": 15}, \"zerolinecolor\": \"#283442\", \"zerolinewidth\": 2}, \"yaxis\": {\"automargin\": true, \"gridcolor\": \"#283442\", \"linecolor\": \"#506784\", \"ticks\": \"\", \"title\": {\"standoff\": 15}, \"zerolinecolor\": \"#283442\", \"zerolinewidth\": 2}}}, \"xaxis\": {\"linecolor\": \"white\", \"linewidth\": 2, \"showgrid\": true, \"showline\": true, \"showticklabels\": false}, \"yaxis\": {\"linecolor\": \"white\", \"linewidth\": 2, \"showgrid\": true, \"showline\": true, \"showticklabels\": true, \"tickfont\": {\"color\": \"white\", \"family\": \"Rockwell\", \"size\": 12}, \"ticks\": \"outside\", \"title\": {\"font\": {\"color\": \"white\", \"family\": \"Rockwell\", \"size\": 12}, \"text\": \"Close (USD)\"}}},\n",
              "                        {\"responsive\": true}\n",
              "                    ).then(function(){\n",
              "                            \n",
              "var gd = document.getElementById('d8f006be-f842-474f-8983-fa7d415e6cc6');\n",
              "var x = new MutationObserver(function (mutations, observer) {{\n",
              "        var display = window.getComputedStyle(gd).display;\n",
              "        if (!display || display === 'none') {{\n",
              "            console.log([gd, 'removed!']);\n",
              "            Plotly.purge(gd);\n",
              "            observer.disconnect();\n",
              "        }}\n",
              "}});\n",
              "\n",
              "// Listen for the removal of the full notebook cells\n",
              "var notebookContainer = gd.closest('#notebook-container');\n",
              "if (notebookContainer) {{\n",
              "    x.observe(notebookContainer, {childList: true});\n",
              "}}\n",
              "\n",
              "// Listen for the clearing of the current output cell\n",
              "var outputEl = gd.closest('.output');\n",
              "if (outputEl) {{\n",
              "    x.observe(outputEl, {childList: true});\n",
              "}}\n",
              "\n",
              "                        })\n",
              "                };\n",
              "                \n",
              "            </script>\n",
              "        </div>\n",
              "</body>\n",
              "</html>"
            ]
          },
          "metadata": {
            "tags": []
          }
        }
      ]
    },
    {
      "cell_type": "code",
      "metadata": {
        "id": "7x8dWEmz0Xj7",
        "colab_type": "code",
        "colab": {
          "base_uri": "https://localhost:8080/",
          "height": 34
        },
        "outputId": "d29e7f39-9728-49dc-adef-113ab5e9b3e2"
      },
      "source": [
        "print(len(result[1].dropna(axis=0)))"
      ],
      "execution_count": 83,
      "outputs": [
        {
          "output_type": "stream",
          "text": [
            "189\n"
          ],
          "name": "stdout"
        }
      ]
    },
    {
      "cell_type": "code",
      "metadata": {
        "id": "RBJM4NmY2bjp",
        "colab_type": "code",
        "colab": {
          "base_uri": "https://localhost:8080/",
          "height": 391
        },
        "outputId": "f4aa49a1-61c6-4680-eadc-b683f9f8f02b"
      },
      "source": [
        "result[1] = result[1].dropna(axis=0)\n",
        "predict = result[1].tail(21).dropna(axis=0)\n",
        "print(len(predict))\n",
        "print(predict.astype('int'))"
      ],
      "execution_count": 84,
      "outputs": [
        {
          "output_type": "stream",
          "text": [
            "20\n",
            "946    295\n",
            "947    289\n",
            "948    281\n",
            "949    272\n",
            "950    267\n",
            "951    265\n",
            "952    265\n",
            "953    266\n",
            "954    268\n",
            "955    270\n",
            "956    271\n",
            "957    273\n",
            "958    274\n",
            "959    275\n",
            "960    274\n",
            "961    276\n",
            "962    280\n",
            "963    283\n",
            "964    286\n",
            "965    288\n",
            "Name: 1, dtype: int64\n"
          ],
          "name": "stdout"
        }
      ]
    },
    {
      "cell_type": "code",
      "metadata": {
        "id": "Yq8Ix88i5DCJ",
        "colab_type": "code",
        "colab": {}
      },
      "source": [
        "predict = np.array(predict).reshape(-1,1).astype('int')\n",
        "id = np.array([i+1 for i in range(len(predict))]).reshape(-1,1)\n",
        "result = np.hstack([id,predict])\n",
        "df = pd.DataFrame(result,columns=[\"Id\",\"Expected\"])\n",
        "df.to_csv(\"submission_form.csv\",index=False,header=True)"
      ],
      "execution_count": 0,
      "outputs": []
    },
    {
      "cell_type": "code",
      "metadata": {
        "id": "hBGMU38p5KAx",
        "colab_type": "code",
        "colab": {
          "base_uri": "https://localhost:8080/",
          "height": 51
        },
        "outputId": "87111121-5eb8-4585-9e62-cc8d3b02b185"
      },
      "source": [
        "!kaggle competitions submit -c netflix-stock-prediction -f submission_form.csv -m \"baseline\""
      ],
      "execution_count": 86,
      "outputs": [
        {
          "output_type": "stream",
          "text": [
            "100% 143/143 [00:04<00:00, 29.4B/s]\n",
            "Successfully submitted to 넷플릭스 주가 예측"
          ],
          "name": "stdout"
        }
      ]
    }
  ]
}